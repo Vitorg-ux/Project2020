{
 "cells": [
  {
   "cell_type": "markdown",
   "metadata": {
    "id": "gOniXwq4F6HE"
   },
   "source": [
    "# Università degli studi di Milano-Bicocca\n",
    "# Laurea Magistrale in Data Science\n",
    "# Foundations of Computer Science (2021-2-F9101Q001)\n",
    "## Camilla Di Bartolomeo, Vito Francone, Francesco Fustini"
   ]
  },
  {
   "cell_type": "markdown",
   "metadata": {
    "id": "LyOjOG_rQ_-y"
   },
   "source": [
    "[University dataset](https://drive.google.com/drive/folders/1Hs3nRtK_F3h8eg59B4-TD1DEua6g8Klv)"
   ]
  },
  {
   "cell_type": "markdown",
   "metadata": {
    "id": "T8TUiXoKoCcd"
   },
   "source": [
    "Importazione delle librerie."
   ]
  },
  {
   "cell_type": "code",
   "execution_count": 205,
   "metadata": {
    "id": "5XAM3hKzoJRw"
   },
   "outputs": [],
   "source": [
    "import pandas as pd\n",
    "import re\n",
    "import numpy as np"
   ]
  },
  {
   "cell_type": "markdown",
   "metadata": {
    "id": "P_zkS2eyoTzv"
   },
   "source": [
    "Importazione del dataset \"timesData.csv\", specificando che la virgola viene utilizzata come separatore per le migliaia, in modo che i dati contenuti nella colonna \"num_students\" vengano letti correttamente.\n"
   ]
  },
  {
   "cell_type": "code",
   "execution_count": 206,
   "metadata": {
    "colab": {
     "base_uri": "https://localhost:8080/",
     "height": 479
    },
    "id": "StL0xuAeodMc",
    "outputId": "e4c637e1-5394-4944-acb2-53e7a9bd7df3",
    "scrolled": true
   },
   "outputs": [
    {
     "data": {
      "text/html": [
       "<div>\n",
       "<style scoped>\n",
       "    .dataframe tbody tr th:only-of-type {\n",
       "        vertical-align: middle;\n",
       "    }\n",
       "\n",
       "    .dataframe tbody tr th {\n",
       "        vertical-align: top;\n",
       "    }\n",
       "\n",
       "    .dataframe thead th {\n",
       "        text-align: right;\n",
       "    }\n",
       "</style>\n",
       "<table border=\"1\" class=\"dataframe\">\n",
       "  <thead>\n",
       "    <tr style=\"text-align: right;\">\n",
       "      <th></th>\n",
       "      <th>world_rank</th>\n",
       "      <th>university_name</th>\n",
       "      <th>country</th>\n",
       "      <th>teaching</th>\n",
       "      <th>international</th>\n",
       "      <th>research</th>\n",
       "      <th>citations</th>\n",
       "      <th>income</th>\n",
       "      <th>total_score</th>\n",
       "      <th>num_students</th>\n",
       "      <th>student_staff_ratio</th>\n",
       "      <th>international_students</th>\n",
       "      <th>female_male_ratio</th>\n",
       "      <th>year</th>\n",
       "    </tr>\n",
       "  </thead>\n",
       "  <tbody>\n",
       "    <tr>\n",
       "      <th>0</th>\n",
       "      <td>1</td>\n",
       "      <td>Harvard University</td>\n",
       "      <td>United States of America</td>\n",
       "      <td>99.7</td>\n",
       "      <td>72.4</td>\n",
       "      <td>98.7</td>\n",
       "      <td>98.8</td>\n",
       "      <td>34.5</td>\n",
       "      <td>96.1</td>\n",
       "      <td>20152.0</td>\n",
       "      <td>8.9</td>\n",
       "      <td>25%</td>\n",
       "      <td>NaN</td>\n",
       "      <td>2011</td>\n",
       "    </tr>\n",
       "    <tr>\n",
       "      <th>1</th>\n",
       "      <td>2</td>\n",
       "      <td>California Institute of Technology</td>\n",
       "      <td>United States of America</td>\n",
       "      <td>97.7</td>\n",
       "      <td>54.6</td>\n",
       "      <td>98.0</td>\n",
       "      <td>99.9</td>\n",
       "      <td>83.7</td>\n",
       "      <td>96.0</td>\n",
       "      <td>2243.0</td>\n",
       "      <td>6.9</td>\n",
       "      <td>27%</td>\n",
       "      <td>33 : 67</td>\n",
       "      <td>2011</td>\n",
       "    </tr>\n",
       "    <tr>\n",
       "      <th>2</th>\n",
       "      <td>3</td>\n",
       "      <td>Massachusetts Institute of Technology</td>\n",
       "      <td>United States of America</td>\n",
       "      <td>97.8</td>\n",
       "      <td>82.3</td>\n",
       "      <td>91.4</td>\n",
       "      <td>99.9</td>\n",
       "      <td>87.5</td>\n",
       "      <td>95.6</td>\n",
       "      <td>11074.0</td>\n",
       "      <td>9.0</td>\n",
       "      <td>33%</td>\n",
       "      <td>37 : 63</td>\n",
       "      <td>2011</td>\n",
       "    </tr>\n",
       "    <tr>\n",
       "      <th>3</th>\n",
       "      <td>4</td>\n",
       "      <td>Stanford University</td>\n",
       "      <td>United States of America</td>\n",
       "      <td>98.3</td>\n",
       "      <td>29.5</td>\n",
       "      <td>98.1</td>\n",
       "      <td>99.2</td>\n",
       "      <td>64.3</td>\n",
       "      <td>94.3</td>\n",
       "      <td>15596.0</td>\n",
       "      <td>7.8</td>\n",
       "      <td>22%</td>\n",
       "      <td>42 : 58</td>\n",
       "      <td>2011</td>\n",
       "    </tr>\n",
       "    <tr>\n",
       "      <th>4</th>\n",
       "      <td>5</td>\n",
       "      <td>Princeton University</td>\n",
       "      <td>United States of America</td>\n",
       "      <td>90.9</td>\n",
       "      <td>70.3</td>\n",
       "      <td>95.4</td>\n",
       "      <td>99.9</td>\n",
       "      <td>NaN</td>\n",
       "      <td>94.2</td>\n",
       "      <td>7929.0</td>\n",
       "      <td>8.4</td>\n",
       "      <td>27%</td>\n",
       "      <td>45 : 55</td>\n",
       "      <td>2011</td>\n",
       "    </tr>\n",
       "  </tbody>\n",
       "</table>\n",
       "</div>"
      ],
      "text/plain": [
       "  world_rank                        university_name                   country  \\\n",
       "0          1                     Harvard University  United States of America   \n",
       "1          2     California Institute of Technology  United States of America   \n",
       "2          3  Massachusetts Institute of Technology  United States of America   \n",
       "3          4                    Stanford University  United States of America   \n",
       "4          5                   Princeton University  United States of America   \n",
       "\n",
       "   teaching  international  research  citations  income  total_score  \\\n",
       "0      99.7           72.4      98.7       98.8    34.5         96.1   \n",
       "1      97.7           54.6      98.0       99.9    83.7         96.0   \n",
       "2      97.8           82.3      91.4       99.9    87.5         95.6   \n",
       "3      98.3           29.5      98.1       99.2    64.3         94.3   \n",
       "4      90.9           70.3      95.4       99.9     NaN         94.2   \n",
       "\n",
       "   num_students  student_staff_ratio international_students female_male_ratio  \\\n",
       "0       20152.0                  8.9                    25%               NaN   \n",
       "1        2243.0                  6.9                    27%           33 : 67   \n",
       "2       11074.0                  9.0                    33%           37 : 63   \n",
       "3       15596.0                  7.8                    22%           42 : 58   \n",
       "4        7929.0                  8.4                    27%           45 : 55   \n",
       "\n",
       "   year  \n",
       "0  2011  \n",
       "1  2011  \n",
       "2  2011  \n",
       "3  2011  \n",
       "4  2011  "
      ]
     },
     "execution_count": 206,
     "metadata": {},
     "output_type": "execute_result"
    }
   ],
   "source": [
    "times = pd.read_csv('https://raw.githubusercontent.com/Vitorg-ux/Project2020/main/timesData.csv', thousands = ',', na_values = '-')\n",
    "times.head()"
   ]
  },
  {
   "cell_type": "markdown",
   "metadata": {
    "id": "YOpbx3ytoz0Z"
   },
   "source": [
    "Importazione del dataset \"ShanghaiData.csv\"."
   ]
  },
  {
   "cell_type": "code",
   "execution_count": 207,
   "metadata": {
    "colab": {
     "base_uri": "https://localhost:8080/",
     "height": 272
    },
    "id": "xkKv3DZmo3eb",
    "outputId": "9bb5c7fa-9ea8-4e55-fb01-d3dae1c0d145"
   },
   "outputs": [
    {
     "data": {
      "text/html": [
       "<div>\n",
       "<style scoped>\n",
       "    .dataframe tbody tr th:only-of-type {\n",
       "        vertical-align: middle;\n",
       "    }\n",
       "\n",
       "    .dataframe tbody tr th {\n",
       "        vertical-align: top;\n",
       "    }\n",
       "\n",
       "    .dataframe thead th {\n",
       "        text-align: right;\n",
       "    }\n",
       "</style>\n",
       "<table border=\"1\" class=\"dataframe\">\n",
       "  <thead>\n",
       "    <tr style=\"text-align: right;\">\n",
       "      <th></th>\n",
       "      <th>world_rank</th>\n",
       "      <th>university_name</th>\n",
       "      <th>national_rank</th>\n",
       "      <th>total_score</th>\n",
       "      <th>alumni</th>\n",
       "      <th>award</th>\n",
       "      <th>hici</th>\n",
       "      <th>ns</th>\n",
       "      <th>pub</th>\n",
       "      <th>pcp</th>\n",
       "      <th>year</th>\n",
       "    </tr>\n",
       "  </thead>\n",
       "  <tbody>\n",
       "    <tr>\n",
       "      <th>0</th>\n",
       "      <td>1</td>\n",
       "      <td>Harvard University</td>\n",
       "      <td>1</td>\n",
       "      <td>100.0</td>\n",
       "      <td>100.0</td>\n",
       "      <td>100.0</td>\n",
       "      <td>100.0</td>\n",
       "      <td>100.0</td>\n",
       "      <td>100.0</td>\n",
       "      <td>72.4</td>\n",
       "      <td>2005</td>\n",
       "    </tr>\n",
       "    <tr>\n",
       "      <th>1</th>\n",
       "      <td>2</td>\n",
       "      <td>University of Cambridge</td>\n",
       "      <td>1</td>\n",
       "      <td>73.6</td>\n",
       "      <td>99.8</td>\n",
       "      <td>93.4</td>\n",
       "      <td>53.3</td>\n",
       "      <td>56.6</td>\n",
       "      <td>70.9</td>\n",
       "      <td>66.9</td>\n",
       "      <td>2005</td>\n",
       "    </tr>\n",
       "    <tr>\n",
       "      <th>2</th>\n",
       "      <td>3</td>\n",
       "      <td>Stanford University</td>\n",
       "      <td>2</td>\n",
       "      <td>73.4</td>\n",
       "      <td>41.1</td>\n",
       "      <td>72.2</td>\n",
       "      <td>88.5</td>\n",
       "      <td>70.9</td>\n",
       "      <td>72.3</td>\n",
       "      <td>65.0</td>\n",
       "      <td>2005</td>\n",
       "    </tr>\n",
       "    <tr>\n",
       "      <th>3</th>\n",
       "      <td>4</td>\n",
       "      <td>University of California, Berkeley</td>\n",
       "      <td>3</td>\n",
       "      <td>72.8</td>\n",
       "      <td>71.8</td>\n",
       "      <td>76.0</td>\n",
       "      <td>69.4</td>\n",
       "      <td>73.9</td>\n",
       "      <td>72.2</td>\n",
       "      <td>52.7</td>\n",
       "      <td>2005</td>\n",
       "    </tr>\n",
       "    <tr>\n",
       "      <th>4</th>\n",
       "      <td>5</td>\n",
       "      <td>Massachusetts Institute of Technology (MIT)</td>\n",
       "      <td>4</td>\n",
       "      <td>70.1</td>\n",
       "      <td>74.0</td>\n",
       "      <td>80.6</td>\n",
       "      <td>66.7</td>\n",
       "      <td>65.8</td>\n",
       "      <td>64.3</td>\n",
       "      <td>53.0</td>\n",
       "      <td>2005</td>\n",
       "    </tr>\n",
       "  </tbody>\n",
       "</table>\n",
       "</div>"
      ],
      "text/plain": [
       "  world_rank                              university_name national_rank  \\\n",
       "0          1                           Harvard University             1   \n",
       "1          2                      University of Cambridge             1   \n",
       "2          3                          Stanford University             2   \n",
       "3          4           University of California, Berkeley             3   \n",
       "4          5  Massachusetts Institute of Technology (MIT)             4   \n",
       "\n",
       "   total_score  alumni  award   hici     ns    pub   pcp  year  \n",
       "0        100.0   100.0  100.0  100.0  100.0  100.0  72.4  2005  \n",
       "1         73.6    99.8   93.4   53.3   56.6   70.9  66.9  2005  \n",
       "2         73.4    41.1   72.2   88.5   70.9   72.3  65.0  2005  \n",
       "3         72.8    71.8   76.0   69.4   73.9   72.2  52.7  2005  \n",
       "4         70.1    74.0   80.6   66.7   65.8   64.3  53.0  2005  "
      ]
     },
     "execution_count": 207,
     "metadata": {},
     "output_type": "execute_result"
    }
   ],
   "source": [
    "shanghai = pd.read_csv('https://raw.githubusercontent.com/Vitorg-ux/Project2020/main/shanghaiData.csv')\n",
    "shanghai.head()"
   ]
  },
  {
   "cell_type": "markdown",
   "metadata": {
    "id": "v1ekXykzo_6Q"
   },
   "source": [
    "Importazione del dataset \"cwurData.csv\"."
   ]
  },
  {
   "cell_type": "code",
   "execution_count": 208,
   "metadata": {
    "colab": {
     "base_uri": "https://localhost:8080/",
     "height": 343
    },
    "id": "mofOdb3apDc9",
    "outputId": "acc81b27-a3b7-4ad1-88b2-1713350e7099"
   },
   "outputs": [
    {
     "data": {
      "text/html": [
       "<div>\n",
       "<style scoped>\n",
       "    .dataframe tbody tr th:only-of-type {\n",
       "        vertical-align: middle;\n",
       "    }\n",
       "\n",
       "    .dataframe tbody tr th {\n",
       "        vertical-align: top;\n",
       "    }\n",
       "\n",
       "    .dataframe thead th {\n",
       "        text-align: right;\n",
       "    }\n",
       "</style>\n",
       "<table border=\"1\" class=\"dataframe\">\n",
       "  <thead>\n",
       "    <tr style=\"text-align: right;\">\n",
       "      <th></th>\n",
       "      <th>world_rank</th>\n",
       "      <th>institution</th>\n",
       "      <th>country</th>\n",
       "      <th>national_rank</th>\n",
       "      <th>quality_of_education</th>\n",
       "      <th>alumni_employment</th>\n",
       "      <th>quality_of_faculty</th>\n",
       "      <th>publications</th>\n",
       "      <th>influence</th>\n",
       "      <th>citations</th>\n",
       "      <th>broad_impact</th>\n",
       "      <th>patents</th>\n",
       "      <th>score</th>\n",
       "      <th>year</th>\n",
       "    </tr>\n",
       "  </thead>\n",
       "  <tbody>\n",
       "    <tr>\n",
       "      <th>0</th>\n",
       "      <td>1</td>\n",
       "      <td>Harvard University</td>\n",
       "      <td>USA</td>\n",
       "      <td>1</td>\n",
       "      <td>7</td>\n",
       "      <td>9</td>\n",
       "      <td>1</td>\n",
       "      <td>1</td>\n",
       "      <td>1</td>\n",
       "      <td>1</td>\n",
       "      <td>NaN</td>\n",
       "      <td>5</td>\n",
       "      <td>100.00</td>\n",
       "      <td>2012</td>\n",
       "    </tr>\n",
       "    <tr>\n",
       "      <th>1</th>\n",
       "      <td>2</td>\n",
       "      <td>Massachusetts Institute of Technology</td>\n",
       "      <td>USA</td>\n",
       "      <td>2</td>\n",
       "      <td>9</td>\n",
       "      <td>17</td>\n",
       "      <td>3</td>\n",
       "      <td>12</td>\n",
       "      <td>4</td>\n",
       "      <td>4</td>\n",
       "      <td>NaN</td>\n",
       "      <td>1</td>\n",
       "      <td>91.67</td>\n",
       "      <td>2012</td>\n",
       "    </tr>\n",
       "    <tr>\n",
       "      <th>2</th>\n",
       "      <td>3</td>\n",
       "      <td>Stanford University</td>\n",
       "      <td>USA</td>\n",
       "      <td>3</td>\n",
       "      <td>17</td>\n",
       "      <td>11</td>\n",
       "      <td>5</td>\n",
       "      <td>4</td>\n",
       "      <td>2</td>\n",
       "      <td>2</td>\n",
       "      <td>NaN</td>\n",
       "      <td>15</td>\n",
       "      <td>89.50</td>\n",
       "      <td>2012</td>\n",
       "    </tr>\n",
       "    <tr>\n",
       "      <th>3</th>\n",
       "      <td>4</td>\n",
       "      <td>University of Cambridge</td>\n",
       "      <td>United Kingdom</td>\n",
       "      <td>1</td>\n",
       "      <td>10</td>\n",
       "      <td>24</td>\n",
       "      <td>4</td>\n",
       "      <td>16</td>\n",
       "      <td>16</td>\n",
       "      <td>11</td>\n",
       "      <td>NaN</td>\n",
       "      <td>50</td>\n",
       "      <td>86.17</td>\n",
       "      <td>2012</td>\n",
       "    </tr>\n",
       "    <tr>\n",
       "      <th>4</th>\n",
       "      <td>5</td>\n",
       "      <td>California Institute of Technology</td>\n",
       "      <td>USA</td>\n",
       "      <td>4</td>\n",
       "      <td>2</td>\n",
       "      <td>29</td>\n",
       "      <td>7</td>\n",
       "      <td>37</td>\n",
       "      <td>22</td>\n",
       "      <td>22</td>\n",
       "      <td>NaN</td>\n",
       "      <td>18</td>\n",
       "      <td>85.21</td>\n",
       "      <td>2012</td>\n",
       "    </tr>\n",
       "  </tbody>\n",
       "</table>\n",
       "</div>"
      ],
      "text/plain": [
       "   world_rank                            institution         country  \\\n",
       "0           1                     Harvard University             USA   \n",
       "1           2  Massachusetts Institute of Technology             USA   \n",
       "2           3                    Stanford University             USA   \n",
       "3           4                University of Cambridge  United Kingdom   \n",
       "4           5     California Institute of Technology             USA   \n",
       "\n",
       "   national_rank  quality_of_education  alumni_employment  quality_of_faculty  \\\n",
       "0              1                     7                  9                   1   \n",
       "1              2                     9                 17                   3   \n",
       "2              3                    17                 11                   5   \n",
       "3              1                    10                 24                   4   \n",
       "4              4                     2                 29                   7   \n",
       "\n",
       "   publications  influence  citations  broad_impact  patents   score  year  \n",
       "0             1          1          1           NaN        5  100.00  2012  \n",
       "1            12          4          4           NaN        1   91.67  2012  \n",
       "2             4          2          2           NaN       15   89.50  2012  \n",
       "3            16         16         11           NaN       50   86.17  2012  \n",
       "4            37         22         22           NaN       18   85.21  2012  "
      ]
     },
     "execution_count": 208,
     "metadata": {},
     "output_type": "execute_result"
    }
   ],
   "source": [
    "cwur = pd.read_csv('https://raw.githubusercontent.com/Vitorg-ux/Project2020/main/cwurData.csv')\n",
    "cwur.head()"
   ]
  },
  {
   "cell_type": "markdown",
   "metadata": {
    "id": "zngp-6mpU9KZ"
   },
   "source": [
    "## 1. For each university, extract from the times dataset the most recent and the least recent data, obtaining two separate dataframes"
   ]
  },
  {
   "cell_type": "markdown",
   "metadata": {
    "id": "cKq42AxbHw_e"
   },
   "source": [
    "Creazione del dataframe \"times_most_recent\", contenente i dati più recenti relativi a ciascuna università presente nel dataframe \"times\"."
   ]
  },
  {
   "cell_type": "code",
   "execution_count": 209,
   "metadata": {
    "colab": {
     "base_uri": "https://localhost:8080/",
     "height": 275
    },
    "id": "bixQqw1tnKbu",
    "outputId": "f5084d91-9d5c-4e67-8062-c2be552388e3"
   },
   "outputs": [
    {
     "data": {
      "text/html": [
       "<div>\n",
       "<style scoped>\n",
       "    .dataframe tbody tr th:only-of-type {\n",
       "        vertical-align: middle;\n",
       "    }\n",
       "\n",
       "    .dataframe tbody tr th {\n",
       "        vertical-align: top;\n",
       "    }\n",
       "\n",
       "    .dataframe thead th {\n",
       "        text-align: right;\n",
       "    }\n",
       "</style>\n",
       "<table border=\"1\" class=\"dataframe\">\n",
       "  <thead>\n",
       "    <tr style=\"text-align: right;\">\n",
       "      <th></th>\n",
       "      <th>world_rank</th>\n",
       "      <th>university_name</th>\n",
       "      <th>country</th>\n",
       "      <th>teaching</th>\n",
       "      <th>international</th>\n",
       "      <th>research</th>\n",
       "      <th>citations</th>\n",
       "      <th>income</th>\n",
       "      <th>total_score</th>\n",
       "      <th>num_students</th>\n",
       "      <th>student_staff_ratio</th>\n",
       "      <th>international_students</th>\n",
       "      <th>female_male_ratio</th>\n",
       "      <th>year</th>\n",
       "    </tr>\n",
       "  </thead>\n",
       "  <tbody>\n",
       "    <tr>\n",
       "      <th>2405</th>\n",
       "      <td>601-800</td>\n",
       "      <td>AGH University of Science and Technology</td>\n",
       "      <td>Poland</td>\n",
       "      <td>14.2</td>\n",
       "      <td>17.9</td>\n",
       "      <td>3.7</td>\n",
       "      <td>35.7</td>\n",
       "      <td>NaN</td>\n",
       "      <td>NaN</td>\n",
       "      <td>35569.0</td>\n",
       "      <td>17.0</td>\n",
       "      <td>1%</td>\n",
       "      <td>NaN</td>\n",
       "      <td>2016</td>\n",
       "    </tr>\n",
       "    <tr>\n",
       "      <th>2003</th>\n",
       "      <td>201-250</td>\n",
       "      <td>Aalborg University</td>\n",
       "      <td>Denmark</td>\n",
       "      <td>25.1</td>\n",
       "      <td>71.0</td>\n",
       "      <td>28.4</td>\n",
       "      <td>73.8</td>\n",
       "      <td>43.7</td>\n",
       "      <td>NaN</td>\n",
       "      <td>17422.0</td>\n",
       "      <td>15.9</td>\n",
       "      <td>15%</td>\n",
       "      <td>48 : 52</td>\n",
       "      <td>2016</td>\n",
       "    </tr>\n",
       "    <tr>\n",
       "      <th>2056</th>\n",
       "      <td>251-300</td>\n",
       "      <td>Aalto University</td>\n",
       "      <td>Finland</td>\n",
       "      <td>31.1</td>\n",
       "      <td>65.4</td>\n",
       "      <td>32.8</td>\n",
       "      <td>62.1</td>\n",
       "      <td>61.6</td>\n",
       "      <td>NaN</td>\n",
       "      <td>16099.0</td>\n",
       "      <td>24.2</td>\n",
       "      <td>17%</td>\n",
       "      <td>32 : 68</td>\n",
       "      <td>2016</td>\n",
       "    </tr>\n",
       "    <tr>\n",
       "      <th>1908</th>\n",
       "      <td>=106</td>\n",
       "      <td>Aarhus University</td>\n",
       "      <td>Denmark</td>\n",
       "      <td>36.9</td>\n",
       "      <td>76.8</td>\n",
       "      <td>50.7</td>\n",
       "      <td>79.8</td>\n",
       "      <td>68.3</td>\n",
       "      <td>57.7</td>\n",
       "      <td>23895.0</td>\n",
       "      <td>13.6</td>\n",
       "      <td>14%</td>\n",
       "      <td>54 : 46</td>\n",
       "      <td>2016</td>\n",
       "    </tr>\n",
       "    <tr>\n",
       "      <th>2105</th>\n",
       "      <td>301-350</td>\n",
       "      <td>Aberystwyth University</td>\n",
       "      <td>United Kingdom</td>\n",
       "      <td>21.6</td>\n",
       "      <td>72.2</td>\n",
       "      <td>18.9</td>\n",
       "      <td>67.2</td>\n",
       "      <td>31.3</td>\n",
       "      <td>NaN</td>\n",
       "      <td>9252.0</td>\n",
       "      <td>19.2</td>\n",
       "      <td>18%</td>\n",
       "      <td>48 : 52</td>\n",
       "      <td>2016</td>\n",
       "    </tr>\n",
       "  </tbody>\n",
       "</table>\n",
       "</div>"
      ],
      "text/plain": [
       "     world_rank                           university_name         country  \\\n",
       "2405    601-800  AGH University of Science and Technology          Poland   \n",
       "2003    201-250                        Aalborg University         Denmark   \n",
       "2056    251-300                          Aalto University         Finland   \n",
       "1908       =106                         Aarhus University         Denmark   \n",
       "2105    301-350                    Aberystwyth University  United Kingdom   \n",
       "\n",
       "      teaching  international  research  citations  income  total_score  \\\n",
       "2405      14.2           17.9       3.7       35.7     NaN          NaN   \n",
       "2003      25.1           71.0      28.4       73.8    43.7          NaN   \n",
       "2056      31.1           65.4      32.8       62.1    61.6          NaN   \n",
       "1908      36.9           76.8      50.7       79.8    68.3         57.7   \n",
       "2105      21.6           72.2      18.9       67.2    31.3          NaN   \n",
       "\n",
       "      num_students  student_staff_ratio international_students  \\\n",
       "2405       35569.0                 17.0                     1%   \n",
       "2003       17422.0                 15.9                    15%   \n",
       "2056       16099.0                 24.2                    17%   \n",
       "1908       23895.0                 13.6                    14%   \n",
       "2105        9252.0                 19.2                    18%   \n",
       "\n",
       "     female_male_ratio  year  \n",
       "2405               NaN  2016  \n",
       "2003           48 : 52  2016  \n",
       "2056           32 : 68  2016  \n",
       "1908           54 : 46  2016  \n",
       "2105           48 : 52  2016  "
      ]
     },
     "execution_count": 209,
     "metadata": {},
     "output_type": "execute_result"
    }
   ],
   "source": [
    "times_most_recent = times.loc[times.groupby('university_name')['year'].idxmax()]\n",
    "times_most_recent.head()"
   ]
  },
  {
   "cell_type": "markdown",
   "metadata": {
    "id": "NUTLpKR5IyYZ"
   },
   "source": [
    "Creazione del dataframe \"times_least_recent\", contenente i dati meno recenti relativi a ciascuna università presente nel dataframe \"times\"."
   ]
  },
  {
   "cell_type": "code",
   "execution_count": 210,
   "metadata": {
    "colab": {
     "base_uri": "https://localhost:8080/",
     "height": 275
    },
    "id": "n-5FxI77bWqB",
    "outputId": "be2f6f00-6bac-4fc2-f1bf-ae22b27f5561"
   },
   "outputs": [
    {
     "data": {
      "text/html": [
       "<div>\n",
       "<style scoped>\n",
       "    .dataframe tbody tr th:only-of-type {\n",
       "        vertical-align: middle;\n",
       "    }\n",
       "\n",
       "    .dataframe tbody tr th {\n",
       "        vertical-align: top;\n",
       "    }\n",
       "\n",
       "    .dataframe thead th {\n",
       "        text-align: right;\n",
       "    }\n",
       "</style>\n",
       "<table border=\"1\" class=\"dataframe\">\n",
       "  <thead>\n",
       "    <tr style=\"text-align: right;\">\n",
       "      <th></th>\n",
       "      <th>world_rank</th>\n",
       "      <th>university_name</th>\n",
       "      <th>country</th>\n",
       "      <th>teaching</th>\n",
       "      <th>international</th>\n",
       "      <th>research</th>\n",
       "      <th>citations</th>\n",
       "      <th>income</th>\n",
       "      <th>total_score</th>\n",
       "      <th>num_students</th>\n",
       "      <th>student_staff_ratio</th>\n",
       "      <th>international_students</th>\n",
       "      <th>female_male_ratio</th>\n",
       "      <th>year</th>\n",
       "    </tr>\n",
       "  </thead>\n",
       "  <tbody>\n",
       "    <tr>\n",
       "      <th>2405</th>\n",
       "      <td>601-800</td>\n",
       "      <td>AGH University of Science and Technology</td>\n",
       "      <td>Poland</td>\n",
       "      <td>14.2</td>\n",
       "      <td>17.9</td>\n",
       "      <td>3.7</td>\n",
       "      <td>35.7</td>\n",
       "      <td>NaN</td>\n",
       "      <td>NaN</td>\n",
       "      <td>35569.0</td>\n",
       "      <td>17.0</td>\n",
       "      <td>1%</td>\n",
       "      <td>NaN</td>\n",
       "      <td>2016</td>\n",
       "    </tr>\n",
       "    <tr>\n",
       "      <th>501</th>\n",
       "      <td>301-350</td>\n",
       "      <td>Aalborg University</td>\n",
       "      <td>Denmark</td>\n",
       "      <td>19.0</td>\n",
       "      <td>75.3</td>\n",
       "      <td>20.0</td>\n",
       "      <td>27.1</td>\n",
       "      <td>36.4</td>\n",
       "      <td>NaN</td>\n",
       "      <td>17422.0</td>\n",
       "      <td>15.9</td>\n",
       "      <td>15%</td>\n",
       "      <td>48 : 52</td>\n",
       "      <td>2012</td>\n",
       "    </tr>\n",
       "    <tr>\n",
       "      <th>502</th>\n",
       "      <td>301-350</td>\n",
       "      <td>Aalto University</td>\n",
       "      <td>Finland</td>\n",
       "      <td>26.2</td>\n",
       "      <td>49.0</td>\n",
       "      <td>22.2</td>\n",
       "      <td>37.5</td>\n",
       "      <td>61.9</td>\n",
       "      <td>NaN</td>\n",
       "      <td>16099.0</td>\n",
       "      <td>24.2</td>\n",
       "      <td>17%</td>\n",
       "      <td>32 : 68</td>\n",
       "      <td>2012</td>\n",
       "    </tr>\n",
       "    <tr>\n",
       "      <th>166</th>\n",
       "      <td>167</td>\n",
       "      <td>Aarhus University</td>\n",
       "      <td>Denmark</td>\n",
       "      <td>38.1</td>\n",
       "      <td>33.4</td>\n",
       "      <td>55.6</td>\n",
       "      <td>57.3</td>\n",
       "      <td>61.5</td>\n",
       "      <td>49.9</td>\n",
       "      <td>23895.0</td>\n",
       "      <td>13.6</td>\n",
       "      <td>14%</td>\n",
       "      <td>54 : 46</td>\n",
       "      <td>2011</td>\n",
       "    </tr>\n",
       "    <tr>\n",
       "      <th>476</th>\n",
       "      <td>276-300</td>\n",
       "      <td>Aberystwyth University</td>\n",
       "      <td>United Kingdom</td>\n",
       "      <td>19.8</td>\n",
       "      <td>63.8</td>\n",
       "      <td>15.5</td>\n",
       "      <td>56.6</td>\n",
       "      <td>35.5</td>\n",
       "      <td>NaN</td>\n",
       "      <td>9252.0</td>\n",
       "      <td>19.2</td>\n",
       "      <td>18%</td>\n",
       "      <td>48 : 52</td>\n",
       "      <td>2012</td>\n",
       "    </tr>\n",
       "  </tbody>\n",
       "</table>\n",
       "</div>"
      ],
      "text/plain": [
       "     world_rank                           university_name         country  \\\n",
       "2405    601-800  AGH University of Science and Technology          Poland   \n",
       "501     301-350                        Aalborg University         Denmark   \n",
       "502     301-350                          Aalto University         Finland   \n",
       "166         167                         Aarhus University         Denmark   \n",
       "476     276-300                    Aberystwyth University  United Kingdom   \n",
       "\n",
       "      teaching  international  research  citations  income  total_score  \\\n",
       "2405      14.2           17.9       3.7       35.7     NaN          NaN   \n",
       "501       19.0           75.3      20.0       27.1    36.4          NaN   \n",
       "502       26.2           49.0      22.2       37.5    61.9          NaN   \n",
       "166       38.1           33.4      55.6       57.3    61.5         49.9   \n",
       "476       19.8           63.8      15.5       56.6    35.5          NaN   \n",
       "\n",
       "      num_students  student_staff_ratio international_students  \\\n",
       "2405       35569.0                 17.0                     1%   \n",
       "501        17422.0                 15.9                    15%   \n",
       "502        16099.0                 24.2                    17%   \n",
       "166        23895.0                 13.6                    14%   \n",
       "476         9252.0                 19.2                    18%   \n",
       "\n",
       "     female_male_ratio  year  \n",
       "2405               NaN  2016  \n",
       "501            48 : 52  2012  \n",
       "502            32 : 68  2012  \n",
       "166            54 : 46  2011  \n",
       "476            48 : 52  2012  "
      ]
     },
     "execution_count": 210,
     "metadata": {},
     "output_type": "execute_result"
    }
   ],
   "source": [
    "times_least_recent = times.iloc[times.groupby('university_name')['year'].idxmin()]\n",
    "times_least_recent.head()"
   ]
  },
  {
   "cell_type": "markdown",
   "metadata": {
    "id": "9tIp0XuenUx2"
   },
   "source": [
    "## 2. For each university, compute the improvement in income between the least recent and the most recent data points"
   ]
  },
  {
   "cell_type": "markdown",
   "metadata": {
    "id": "qAG2-pyRJXug"
   },
   "source": [
    "Creazione del dataframe \"times_least_most_recent\" effettuando un join dei dataframe \"times_least_recent\" e \"times_most_recent\". "
   ]
  },
  {
   "cell_type": "code",
   "execution_count": 211,
   "metadata": {
    "colab": {
     "base_uri": "https://localhost:8080/",
     "height": 221
    },
    "id": "GTYkRxlqnXxN",
    "outputId": "746b0b23-df6e-454f-e0ed-94579c2ffaa7"
   },
   "outputs": [
    {
     "data": {
      "text/html": [
       "<div>\n",
       "<style scoped>\n",
       "    .dataframe tbody tr th:only-of-type {\n",
       "        vertical-align: middle;\n",
       "    }\n",
       "\n",
       "    .dataframe tbody tr th {\n",
       "        vertical-align: top;\n",
       "    }\n",
       "\n",
       "    .dataframe thead th {\n",
       "        text-align: right;\n",
       "    }\n",
       "</style>\n",
       "<table border=\"1\" class=\"dataframe\">\n",
       "  <thead>\n",
       "    <tr style=\"text-align: right;\">\n",
       "      <th></th>\n",
       "      <th>university_name</th>\n",
       "      <th>year_least_recent</th>\n",
       "      <th>income_least_recent</th>\n",
       "      <th>year_most_recent</th>\n",
       "      <th>income_most_recent</th>\n",
       "    </tr>\n",
       "  </thead>\n",
       "  <tbody>\n",
       "    <tr>\n",
       "      <th>0</th>\n",
       "      <td>AGH University of Science and Technology</td>\n",
       "      <td>2016</td>\n",
       "      <td>NaN</td>\n",
       "      <td>2016</td>\n",
       "      <td>NaN</td>\n",
       "    </tr>\n",
       "    <tr>\n",
       "      <th>1</th>\n",
       "      <td>Aalborg University</td>\n",
       "      <td>2012</td>\n",
       "      <td>36.4</td>\n",
       "      <td>2016</td>\n",
       "      <td>43.7</td>\n",
       "    </tr>\n",
       "    <tr>\n",
       "      <th>2</th>\n",
       "      <td>Aalto University</td>\n",
       "      <td>2012</td>\n",
       "      <td>61.9</td>\n",
       "      <td>2016</td>\n",
       "      <td>61.6</td>\n",
       "    </tr>\n",
       "    <tr>\n",
       "      <th>3</th>\n",
       "      <td>Aarhus University</td>\n",
       "      <td>2011</td>\n",
       "      <td>61.5</td>\n",
       "      <td>2016</td>\n",
       "      <td>68.3</td>\n",
       "    </tr>\n",
       "    <tr>\n",
       "      <th>4</th>\n",
       "      <td>Aberystwyth University</td>\n",
       "      <td>2012</td>\n",
       "      <td>35.5</td>\n",
       "      <td>2016</td>\n",
       "      <td>31.3</td>\n",
       "    </tr>\n",
       "  </tbody>\n",
       "</table>\n",
       "</div>"
      ],
      "text/plain": [
       "                            university_name  year_least_recent  \\\n",
       "0  AGH University of Science and Technology               2016   \n",
       "1                        Aalborg University               2012   \n",
       "2                          Aalto University               2012   \n",
       "3                         Aarhus University               2011   \n",
       "4                    Aberystwyth University               2012   \n",
       "\n",
       "   income_least_recent  year_most_recent  income_most_recent  \n",
       "0                  NaN              2016                 NaN  \n",
       "1                 36.4              2016                43.7  \n",
       "2                 61.9              2016                61.6  \n",
       "3                 61.5              2016                68.3  \n",
       "4                 35.5              2016                31.3  "
      ]
     },
     "execution_count": 211,
     "metadata": {},
     "output_type": "execute_result"
    }
   ],
   "source": [
    "times_least_most_recent = pd.merge(times_least_recent[['university_name', 'year', 'income']], times_most_recent[['university_name', 'year', 'income']], on = ['university_name'], suffixes = ('_least_recent', '_most_recent'))\n",
    "times_least_most_recent.head()"
   ]
  },
  {
   "cell_type": "markdown",
   "metadata": {
    "id": "OoDoFOXOLzN7"
   },
   "source": [
    "Calcolo dell'incremento di reddito (\"income_most_recent\" - \"income_least_recent\") tra i dati più recenti e quelli meno recenti per ciascuna università."
   ]
  },
  {
   "cell_type": "code",
   "execution_count": 212,
   "metadata": {
    "colab": {
     "base_uri": "https://localhost:8080/",
     "height": 275
    },
    "id": "_DMDRqocyiv_",
    "outputId": "f9f0f790-6892-4bff-b701-76993a06440a"
   },
   "outputs": [
    {
     "data": {
      "text/html": [
       "<div>\n",
       "<style scoped>\n",
       "    .dataframe tbody tr th:only-of-type {\n",
       "        vertical-align: middle;\n",
       "    }\n",
       "\n",
       "    .dataframe tbody tr th {\n",
       "        vertical-align: top;\n",
       "    }\n",
       "\n",
       "    .dataframe thead th {\n",
       "        text-align: right;\n",
       "    }\n",
       "</style>\n",
       "<table border=\"1\" class=\"dataframe\">\n",
       "  <thead>\n",
       "    <tr style=\"text-align: right;\">\n",
       "      <th></th>\n",
       "      <th>university_name</th>\n",
       "      <th>year_least_recent</th>\n",
       "      <th>income_least_recent</th>\n",
       "      <th>year_most_recent</th>\n",
       "      <th>income_most_recent</th>\n",
       "      <th>improvement</th>\n",
       "    </tr>\n",
       "  </thead>\n",
       "  <tbody>\n",
       "    <tr>\n",
       "      <th>0</th>\n",
       "      <td>AGH University of Science and Technology</td>\n",
       "      <td>2016</td>\n",
       "      <td>NaN</td>\n",
       "      <td>2016</td>\n",
       "      <td>NaN</td>\n",
       "      <td>NaN</td>\n",
       "    </tr>\n",
       "    <tr>\n",
       "      <th>1</th>\n",
       "      <td>Aalborg University</td>\n",
       "      <td>2012</td>\n",
       "      <td>36.4</td>\n",
       "      <td>2016</td>\n",
       "      <td>43.7</td>\n",
       "      <td>7.3</td>\n",
       "    </tr>\n",
       "    <tr>\n",
       "      <th>2</th>\n",
       "      <td>Aalto University</td>\n",
       "      <td>2012</td>\n",
       "      <td>61.9</td>\n",
       "      <td>2016</td>\n",
       "      <td>61.6</td>\n",
       "      <td>-0.3</td>\n",
       "    </tr>\n",
       "    <tr>\n",
       "      <th>3</th>\n",
       "      <td>Aarhus University</td>\n",
       "      <td>2011</td>\n",
       "      <td>61.5</td>\n",
       "      <td>2016</td>\n",
       "      <td>68.3</td>\n",
       "      <td>6.8</td>\n",
       "    </tr>\n",
       "    <tr>\n",
       "      <th>4</th>\n",
       "      <td>Aberystwyth University</td>\n",
       "      <td>2012</td>\n",
       "      <td>35.5</td>\n",
       "      <td>2016</td>\n",
       "      <td>31.3</td>\n",
       "      <td>-4.2</td>\n",
       "    </tr>\n",
       "  </tbody>\n",
       "</table>\n",
       "</div>"
      ],
      "text/plain": [
       "                            university_name  year_least_recent  \\\n",
       "0  AGH University of Science and Technology               2016   \n",
       "1                        Aalborg University               2012   \n",
       "2                          Aalto University               2012   \n",
       "3                         Aarhus University               2011   \n",
       "4                    Aberystwyth University               2012   \n",
       "\n",
       "   income_least_recent  year_most_recent  income_most_recent  improvement  \n",
       "0                  NaN              2016                 NaN          NaN  \n",
       "1                 36.4              2016                43.7          7.3  \n",
       "2                 61.9              2016                61.6         -0.3  \n",
       "3                 61.5              2016                68.3          6.8  \n",
       "4                 35.5              2016                31.3         -4.2  "
      ]
     },
     "execution_count": 212,
     "metadata": {},
     "output_type": "execute_result"
    }
   ],
   "source": [
    "times_least_most_recent['improvement'] = pd.to_numeric(times_least_most_recent['income_most_recent']) - pd.to_numeric(times_least_most_recent['income_least_recent'])\n",
    "times_least_most_recent.head()"
   ]
  },
  {
   "cell_type": "markdown",
   "metadata": {
    "id": "pNYux6xO0tLl"
   },
   "source": [
    "### 3. Find the university with the largest increase computed in the previous point"
   ]
  },
  {
   "cell_type": "code",
   "execution_count": 213,
   "metadata": {
    "colab": {
     "base_uri": "https://localhost:8080/",
     "height": 0
    },
    "id": "aO89lLEB0v-4",
    "outputId": "74d1afbb-a195-4b93-e5f7-91695f4f2db6"
   },
   "outputs": [
    {
     "data": {
      "text/html": [
       "<div>\n",
       "<style scoped>\n",
       "    .dataframe tbody tr th:only-of-type {\n",
       "        vertical-align: middle;\n",
       "    }\n",
       "\n",
       "    .dataframe tbody tr th {\n",
       "        vertical-align: top;\n",
       "    }\n",
       "\n",
       "    .dataframe thead th {\n",
       "        text-align: right;\n",
       "    }\n",
       "</style>\n",
       "<table border=\"1\" class=\"dataframe\">\n",
       "  <thead>\n",
       "    <tr style=\"text-align: right;\">\n",
       "      <th></th>\n",
       "      <th>university_name</th>\n",
       "      <th>year_least_recent</th>\n",
       "      <th>income_least_recent</th>\n",
       "      <th>year_most_recent</th>\n",
       "      <th>income_most_recent</th>\n",
       "      <th>improvement</th>\n",
       "    </tr>\n",
       "  </thead>\n",
       "  <tbody>\n",
       "    <tr>\n",
       "      <th>428</th>\n",
       "      <td>TU Dresden</td>\n",
       "      <td>2012</td>\n",
       "      <td>31.9</td>\n",
       "      <td>2016</td>\n",
       "      <td>99.7</td>\n",
       "      <td>67.8</td>\n",
       "    </tr>\n",
       "  </tbody>\n",
       "</table>\n",
       "</div>"
      ],
      "text/plain": [
       "    university_name  year_least_recent  income_least_recent  year_most_recent  \\\n",
       "428      TU Dresden               2012                 31.9              2016   \n",
       "\n",
       "     income_most_recent  improvement  \n",
       "428                99.7         67.8  "
      ]
     },
     "execution_count": 213,
     "metadata": {},
     "output_type": "execute_result"
    }
   ],
   "source": [
    "times_least_most_recent[times_least_most_recent['improvement'] >= times_least_most_recent['improvement'].max()]"
   ]
  },
  {
   "cell_type": "markdown",
   "metadata": {
    "id": "zWFerhXROarp"
   },
   "source": [
    "## 4. For each ranking, consider only the most recent data point. For each university, compute the maximum difference between the rankings (e.g. for Aarhus University the value is 122-73=49). Notice that some rankings are expressed as a range"
   ]
  },
  {
   "cell_type": "markdown",
   "metadata": {
    "id": "qne4uWr1OQFE"
   },
   "source": [
    "Creazione del dataframe \"shanghai_most_recent\", contenente i dati più recenti relativi a ciascuna università presente nel dataframe \"shanghai\"."
   ]
  },
  {
   "cell_type": "code",
   "execution_count": 214,
   "metadata": {
    "colab": {
     "base_uri": "https://localhost:8080/",
     "height": 238
    },
    "id": "BNNMIx5nPTyz",
    "outputId": "a5934a03-f322-4ce6-84e1-b32c9b844623"
   },
   "outputs": [
    {
     "data": {
      "text/html": [
       "<div>\n",
       "<style scoped>\n",
       "    .dataframe tbody tr th:only-of-type {\n",
       "        vertical-align: middle;\n",
       "    }\n",
       "\n",
       "    .dataframe tbody tr th {\n",
       "        vertical-align: top;\n",
       "    }\n",
       "\n",
       "    .dataframe thead th {\n",
       "        text-align: right;\n",
       "    }\n",
       "</style>\n",
       "<table border=\"1\" class=\"dataframe\">\n",
       "  <thead>\n",
       "    <tr style=\"text-align: right;\">\n",
       "      <th></th>\n",
       "      <th>world_rank</th>\n",
       "      <th>university_name</th>\n",
       "      <th>national_rank</th>\n",
       "      <th>total_score</th>\n",
       "      <th>alumni</th>\n",
       "      <th>award</th>\n",
       "      <th>hici</th>\n",
       "      <th>ns</th>\n",
       "      <th>pub</th>\n",
       "      <th>pcp</th>\n",
       "      <th>year</th>\n",
       "    </tr>\n",
       "  </thead>\n",
       "  <tbody>\n",
       "    <tr>\n",
       "      <th>4697</th>\n",
       "      <td>301-400</td>\n",
       "      <td>Aalborg University</td>\n",
       "      <td>5</td>\n",
       "      <td>NaN</td>\n",
       "      <td>0.0</td>\n",
       "      <td>0.0</td>\n",
       "      <td>11.2</td>\n",
       "      <td>4.6</td>\n",
       "      <td>30.4</td>\n",
       "      <td>16.8</td>\n",
       "      <td>2015</td>\n",
       "    </tr>\n",
       "    <tr>\n",
       "      <th>4797</th>\n",
       "      <td>401-500</td>\n",
       "      <td>Aalto University</td>\n",
       "      <td>4-6</td>\n",
       "      <td>NaN</td>\n",
       "      <td>0.0</td>\n",
       "      <td>0.0</td>\n",
       "      <td>0.0</td>\n",
       "      <td>10.4</td>\n",
       "      <td>33.4</td>\n",
       "      <td>17.0</td>\n",
       "      <td>2015</td>\n",
       "    </tr>\n",
       "    <tr>\n",
       "      <th>4469</th>\n",
       "      <td>73</td>\n",
       "      <td>Aarhus University</td>\n",
       "      <td>2</td>\n",
       "      <td>27.3</td>\n",
       "      <td>11.5</td>\n",
       "      <td>22.1</td>\n",
       "      <td>12.3</td>\n",
       "      <td>25.8</td>\n",
       "      <td>51.8</td>\n",
       "      <td>31.0</td>\n",
       "      <td>2015</td>\n",
       "    </tr>\n",
       "    <tr>\n",
       "      <th>4497</th>\n",
       "      <td>101-150</td>\n",
       "      <td>Aix Marseille University</td>\n",
       "      <td>5-6</td>\n",
       "      <td>NaN</td>\n",
       "      <td>13.6</td>\n",
       "      <td>0.0</td>\n",
       "      <td>15.2</td>\n",
       "      <td>20.3</td>\n",
       "      <td>50.1</td>\n",
       "      <td>27.6</td>\n",
       "      <td>2015</td>\n",
       "    </tr>\n",
       "    <tr>\n",
       "      <th>3115</th>\n",
       "      <td>102-150</td>\n",
       "      <td>Aix-Marseille University</td>\n",
       "      <td>4-6</td>\n",
       "      <td>NaN</td>\n",
       "      <td>15.6</td>\n",
       "      <td>0.0</td>\n",
       "      <td>16.1</td>\n",
       "      <td>22.4</td>\n",
       "      <td>44.3</td>\n",
       "      <td>15.3</td>\n",
       "      <td>2011</td>\n",
       "    </tr>\n",
       "  </tbody>\n",
       "</table>\n",
       "</div>"
      ],
      "text/plain": [
       "     world_rank           university_name national_rank  total_score  alumni  \\\n",
       "4697    301-400        Aalborg University             5          NaN     0.0   \n",
       "4797    401-500          Aalto University           4-6          NaN     0.0   \n",
       "4469         73         Aarhus University             2         27.3    11.5   \n",
       "4497    101-150  Aix Marseille University           5-6          NaN    13.6   \n",
       "3115    102-150  Aix-Marseille University           4-6          NaN    15.6   \n",
       "\n",
       "      award  hici    ns   pub   pcp  year  \n",
       "4697    0.0  11.2   4.6  30.4  16.8  2015  \n",
       "4797    0.0   0.0  10.4  33.4  17.0  2015  \n",
       "4469   22.1  12.3  25.8  51.8  31.0  2015  \n",
       "4497    0.0  15.2  20.3  50.1  27.6  2015  \n",
       "3115    0.0  16.1  22.4  44.3  15.3  2011  "
      ]
     },
     "execution_count": 214,
     "metadata": {},
     "output_type": "execute_result"
    }
   ],
   "source": [
    "shanghai_most_recent = shanghai.iloc[shanghai.groupby('university_name').idxmax()['year']]\n",
    "shanghai_most_recent.head()"
   ]
  },
  {
   "cell_type": "markdown",
   "metadata": {
    "id": "lmiViQPWO9Vo"
   },
   "source": [
    "Ridenominazione della colonna \"institution\" del dataframe \"cwur\" in \"university_name\"."
   ]
  },
  {
   "cell_type": "code",
   "execution_count": 215,
   "metadata": {
    "id": "U6amd4bNO7Vx"
   },
   "outputs": [],
   "source": [
    "cwur.rename(columns = {'institution' : 'university_name'}, inplace = True)"
   ]
  },
  {
   "cell_type": "markdown",
   "metadata": {
    "id": "JKqQgR3EOqaJ"
   },
   "source": [
    "Creazione del dataframe \"cwur_most_recent\", contenente i dati più recenti relativi a ciascuna università presente nel dataframe \"cwur\"."
   ]
  },
  {
   "cell_type": "code",
   "execution_count": 216,
   "metadata": {
    "colab": {
     "base_uri": "https://localhost:8080/",
     "height": 275
    },
    "id": "rRtI2-KOP7p0",
    "outputId": "b22b3d6a-9954-4e5f-8433-ebafee0cfdb5"
   },
   "outputs": [
    {
     "data": {
      "text/html": [
       "<div>\n",
       "<style scoped>\n",
       "    .dataframe tbody tr th:only-of-type {\n",
       "        vertical-align: middle;\n",
       "    }\n",
       "\n",
       "    .dataframe tbody tr th {\n",
       "        vertical-align: top;\n",
       "    }\n",
       "\n",
       "    .dataframe thead th {\n",
       "        text-align: right;\n",
       "    }\n",
       "</style>\n",
       "<table border=\"1\" class=\"dataframe\">\n",
       "  <thead>\n",
       "    <tr style=\"text-align: right;\">\n",
       "      <th></th>\n",
       "      <th>world_rank</th>\n",
       "      <th>university_name</th>\n",
       "      <th>country</th>\n",
       "      <th>national_rank</th>\n",
       "      <th>quality_of_education</th>\n",
       "      <th>alumni_employment</th>\n",
       "      <th>quality_of_faculty</th>\n",
       "      <th>publications</th>\n",
       "      <th>influence</th>\n",
       "      <th>citations</th>\n",
       "      <th>broad_impact</th>\n",
       "      <th>patents</th>\n",
       "      <th>score</th>\n",
       "      <th>year</th>\n",
       "    </tr>\n",
       "  </thead>\n",
       "  <tbody>\n",
       "    <tr>\n",
       "      <th>1981</th>\n",
       "      <td>782</td>\n",
       "      <td>AGH University of Science and Technology</td>\n",
       "      <td>Poland</td>\n",
       "      <td>4</td>\n",
       "      <td>267</td>\n",
       "      <td>279</td>\n",
       "      <td>218</td>\n",
       "      <td>708</td>\n",
       "      <td>891</td>\n",
       "      <td>511</td>\n",
       "      <td>896.0</td>\n",
       "      <td>398</td>\n",
       "      <td>44.26</td>\n",
       "      <td>2015</td>\n",
       "    </tr>\n",
       "    <tr>\n",
       "      <th>1764</th>\n",
       "      <td>565</td>\n",
       "      <td>Aalborg University</td>\n",
       "      <td>Denmark</td>\n",
       "      <td>5</td>\n",
       "      <td>367</td>\n",
       "      <td>439</td>\n",
       "      <td>218</td>\n",
       "      <td>596</td>\n",
       "      <td>660</td>\n",
       "      <td>287</td>\n",
       "      <td>520.0</td>\n",
       "      <td>401</td>\n",
       "      <td>44.59</td>\n",
       "      <td>2015</td>\n",
       "    </tr>\n",
       "    <tr>\n",
       "      <th>1620</th>\n",
       "      <td>421</td>\n",
       "      <td>Aalto University</td>\n",
       "      <td>Finland</td>\n",
       "      <td>4</td>\n",
       "      <td>367</td>\n",
       "      <td>224</td>\n",
       "      <td>218</td>\n",
       "      <td>336</td>\n",
       "      <td>403</td>\n",
       "      <td>645</td>\n",
       "      <td>424.0</td>\n",
       "      <td>246</td>\n",
       "      <td>45.10</td>\n",
       "      <td>2015</td>\n",
       "    </tr>\n",
       "    <tr>\n",
       "      <th>1321</th>\n",
       "      <td>122</td>\n",
       "      <td>Aarhus University</td>\n",
       "      <td>Denmark</td>\n",
       "      <td>2</td>\n",
       "      <td>310</td>\n",
       "      <td>165</td>\n",
       "      <td>106</td>\n",
       "      <td>91</td>\n",
       "      <td>81</td>\n",
       "      <td>101</td>\n",
       "      <td>95.0</td>\n",
       "      <td>154</td>\n",
       "      <td>49.65</td>\n",
       "      <td>2015</td>\n",
       "    </tr>\n",
       "    <tr>\n",
       "      <th>2013</th>\n",
       "      <td>814</td>\n",
       "      <td>Aberystwyth University</td>\n",
       "      <td>United Kingdom</td>\n",
       "      <td>59</td>\n",
       "      <td>367</td>\n",
       "      <td>567</td>\n",
       "      <td>218</td>\n",
       "      <td>842</td>\n",
       "      <td>552</td>\n",
       "      <td>511</td>\n",
       "      <td>754.0</td>\n",
       "      <td>607</td>\n",
       "      <td>44.22</td>\n",
       "      <td>2015</td>\n",
       "    </tr>\n",
       "  </tbody>\n",
       "</table>\n",
       "</div>"
      ],
      "text/plain": [
       "      world_rank                           university_name         country  \\\n",
       "1981         782  AGH University of Science and Technology          Poland   \n",
       "1764         565                        Aalborg University         Denmark   \n",
       "1620         421                          Aalto University         Finland   \n",
       "1321         122                         Aarhus University         Denmark   \n",
       "2013         814                    Aberystwyth University  United Kingdom   \n",
       "\n",
       "      national_rank  quality_of_education  alumni_employment  \\\n",
       "1981              4                   267                279   \n",
       "1764              5                   367                439   \n",
       "1620              4                   367                224   \n",
       "1321              2                   310                165   \n",
       "2013             59                   367                567   \n",
       "\n",
       "      quality_of_faculty  publications  influence  citations  broad_impact  \\\n",
       "1981                 218           708        891        511         896.0   \n",
       "1764                 218           596        660        287         520.0   \n",
       "1620                 218           336        403        645         424.0   \n",
       "1321                 106            91         81        101          95.0   \n",
       "2013                 218           842        552        511         754.0   \n",
       "\n",
       "      patents  score  year  \n",
       "1981      398  44.26  2015  \n",
       "1764      401  44.59  2015  \n",
       "1620      246  45.10  2015  \n",
       "1321      154  49.65  2015  \n",
       "2013      607  44.22  2015  "
      ]
     },
     "execution_count": 216,
     "metadata": {},
     "output_type": "execute_result"
    }
   ],
   "source": [
    "cwur_most_recent = cwur.iloc[cwur.groupby('university_name').idxmax()['year']]\n",
    "cwur_most_recent.head()"
   ]
  },
  {
   "cell_type": "markdown",
   "metadata": {
    "id": "BAM-FnxKRnNH"
   },
   "source": [
    "Creazione del dataframe \"most_recent_ranking\", costruito effettuando il join dei dataframe \"times_most_recent\", \"shanghai_most_recent\" e \"cwur_most_recent\"."
   ]
  },
  {
   "cell_type": "code",
   "execution_count": 217,
   "metadata": {
    "colab": {
     "base_uri": "https://localhost:8080/",
     "height": 204
    },
    "id": "InLZPr-TQSkR",
    "outputId": "946b814f-5d10-41ed-b29b-6a5eec9a8266"
   },
   "outputs": [
    {
     "data": {
      "text/html": [
       "<div>\n",
       "<style scoped>\n",
       "    .dataframe tbody tr th:only-of-type {\n",
       "        vertical-align: middle;\n",
       "    }\n",
       "\n",
       "    .dataframe tbody tr th {\n",
       "        vertical-align: top;\n",
       "    }\n",
       "\n",
       "    .dataframe thead th {\n",
       "        text-align: right;\n",
       "    }\n",
       "</style>\n",
       "<table border=\"1\" class=\"dataframe\">\n",
       "  <thead>\n",
       "    <tr style=\"text-align: right;\">\n",
       "      <th></th>\n",
       "      <th>university_name</th>\n",
       "      <th>world_rank_intervals_times</th>\n",
       "      <th>world_rank_intervals_shanghai</th>\n",
       "      <th>world_rank_cwur</th>\n",
       "    </tr>\n",
       "  </thead>\n",
       "  <tbody>\n",
       "    <tr>\n",
       "      <th>0</th>\n",
       "      <td>Aalborg University</td>\n",
       "      <td>201-250</td>\n",
       "      <td>301-400</td>\n",
       "      <td>565</td>\n",
       "    </tr>\n",
       "    <tr>\n",
       "      <th>1</th>\n",
       "      <td>Aalto University</td>\n",
       "      <td>251-300</td>\n",
       "      <td>401-500</td>\n",
       "      <td>421</td>\n",
       "    </tr>\n",
       "    <tr>\n",
       "      <th>2</th>\n",
       "      <td>Aarhus University</td>\n",
       "      <td>=106</td>\n",
       "      <td>73</td>\n",
       "      <td>122</td>\n",
       "    </tr>\n",
       "    <tr>\n",
       "      <th>3</th>\n",
       "      <td>Aix-Marseille University</td>\n",
       "      <td>251-300</td>\n",
       "      <td>102-150</td>\n",
       "      <td>206</td>\n",
       "    </tr>\n",
       "    <tr>\n",
       "      <th>4</th>\n",
       "      <td>Aristotle University of Thessaloniki</td>\n",
       "      <td>601-800</td>\n",
       "      <td>401-500</td>\n",
       "      <td>459</td>\n",
       "    </tr>\n",
       "  </tbody>\n",
       "</table>\n",
       "</div>"
      ],
      "text/plain": [
       "                        university_name world_rank_intervals_times  \\\n",
       "0                    Aalborg University                    201-250   \n",
       "1                      Aalto University                    251-300   \n",
       "2                     Aarhus University                       =106   \n",
       "3              Aix-Marseille University                    251-300   \n",
       "4  Aristotle University of Thessaloniki                    601-800   \n",
       "\n",
       "  world_rank_intervals_shanghai  world_rank_cwur  \n",
       "0                       301-400              565  \n",
       "1                       401-500              421  \n",
       "2                            73              122  \n",
       "3                       102-150              206  \n",
       "4                       401-500              459  "
      ]
     },
     "execution_count": 217,
     "metadata": {},
     "output_type": "execute_result"
    }
   ],
   "source": [
    "most_recent_ranking = pd.merge(times_most_recent[['university_name', 'world_rank']], shanghai_most_recent[['university_name', 'world_rank']], on = ['university_name'], suffixes = ('_intervals_times', '_intervals_shanghai'))\n",
    "most_recent_ranking = pd.merge(most_recent_ranking, cwur_most_recent[['university_name', 'world_rank']], on = ['university_name'])\n",
    "most_recent_ranking.rename(columns = {'world_rank' : 'world_rank_cwur'}, inplace = True)\n",
    "most_recent_ranking.head()"
   ]
  },
  {
   "cell_type": "markdown",
   "metadata": {},
   "source": [
    "Estrazione del valore numerico del ranking dai dati dei dataframe \"times_most_recent\" e \"shanghai_most_recent\""
   ]
  },
  {
   "cell_type": "code",
   "execution_count": 218,
   "metadata": {
    "colab": {
     "base_uri": "https://localhost:8080/",
     "height": 258
    },
    "id": "1oZ0u9IjUwg6",
    "outputId": "90f07e1b-66e7-4a85-b2b3-4ae4da4ab171"
   },
   "outputs": [
    {
     "data": {
      "text/html": [
       "<div>\n",
       "<style scoped>\n",
       "    .dataframe tbody tr th:only-of-type {\n",
       "        vertical-align: middle;\n",
       "    }\n",
       "\n",
       "    .dataframe tbody tr th {\n",
       "        vertical-align: top;\n",
       "    }\n",
       "\n",
       "    .dataframe thead th {\n",
       "        text-align: right;\n",
       "    }\n",
       "</style>\n",
       "<table border=\"1\" class=\"dataframe\">\n",
       "  <thead>\n",
       "    <tr style=\"text-align: right;\">\n",
       "      <th></th>\n",
       "      <th>university_name</th>\n",
       "      <th>world_rank_intervals_times</th>\n",
       "      <th>world_rank_intervals_shanghai</th>\n",
       "      <th>world_rank_cwur</th>\n",
       "      <th>world_rank_times</th>\n",
       "    </tr>\n",
       "  </thead>\n",
       "  <tbody>\n",
       "    <tr>\n",
       "      <th>0</th>\n",
       "      <td>Aalborg University</td>\n",
       "      <td>201-250</td>\n",
       "      <td>301-400</td>\n",
       "      <td>565</td>\n",
       "      <td>226.0</td>\n",
       "    </tr>\n",
       "    <tr>\n",
       "      <th>1</th>\n",
       "      <td>Aalto University</td>\n",
       "      <td>251-300</td>\n",
       "      <td>401-500</td>\n",
       "      <td>421</td>\n",
       "      <td>276.0</td>\n",
       "    </tr>\n",
       "    <tr>\n",
       "      <th>2</th>\n",
       "      <td>Aarhus University</td>\n",
       "      <td>=106</td>\n",
       "      <td>73</td>\n",
       "      <td>122</td>\n",
       "      <td>106.0</td>\n",
       "    </tr>\n",
       "    <tr>\n",
       "      <th>3</th>\n",
       "      <td>Aix-Marseille University</td>\n",
       "      <td>251-300</td>\n",
       "      <td>102-150</td>\n",
       "      <td>206</td>\n",
       "      <td>276.0</td>\n",
       "    </tr>\n",
       "    <tr>\n",
       "      <th>4</th>\n",
       "      <td>Aristotle University of Thessaloniki</td>\n",
       "      <td>601-800</td>\n",
       "      <td>401-500</td>\n",
       "      <td>459</td>\n",
       "      <td>700.0</td>\n",
       "    </tr>\n",
       "  </tbody>\n",
       "</table>\n",
       "</div>"
      ],
      "text/plain": [
       "                        university_name world_rank_intervals_times  \\\n",
       "0                    Aalborg University                    201-250   \n",
       "1                      Aalto University                    251-300   \n",
       "2                     Aarhus University                       =106   \n",
       "3              Aix-Marseille University                    251-300   \n",
       "4  Aristotle University of Thessaloniki                    601-800   \n",
       "\n",
       "  world_rank_intervals_shanghai  world_rank_cwur  world_rank_times  \n",
       "0                       301-400              565             226.0  \n",
       "1                       401-500              421             276.0  \n",
       "2                            73              122             106.0  \n",
       "3                       102-150              206             276.0  \n",
       "4                       401-500              459             700.0  "
      ]
     },
     "execution_count": 218,
     "metadata": {},
     "output_type": "execute_result"
    }
   ],
   "source": [
    "interval_times = most_recent_ranking['world_rank_intervals_times'].str.extract('(\\d+)\\-?(\\d*)')\n",
    "interval_times[0] = pd.to_numeric(interval_times[0])\n",
    "interval_times[1] = pd.to_numeric(interval_times[1])\n",
    "most_recent_ranking['world_rank_times'] = np.nanmean(interval_times, axis = 1).round()\n",
    "most_recent_ranking.head()"
   ]
  },
  {
   "cell_type": "code",
   "execution_count": 219,
   "metadata": {
    "colab": {
     "base_uri": "https://localhost:8080/",
     "height": 258
    },
    "id": "oLx0Ds2Wl1AK",
    "outputId": "521af864-421f-4b95-c538-270d20ed6754"
   },
   "outputs": [
    {
     "data": {
      "text/html": [
       "<div>\n",
       "<style scoped>\n",
       "    .dataframe tbody tr th:only-of-type {\n",
       "        vertical-align: middle;\n",
       "    }\n",
       "\n",
       "    .dataframe tbody tr th {\n",
       "        vertical-align: top;\n",
       "    }\n",
       "\n",
       "    .dataframe thead th {\n",
       "        text-align: right;\n",
       "    }\n",
       "</style>\n",
       "<table border=\"1\" class=\"dataframe\">\n",
       "  <thead>\n",
       "    <tr style=\"text-align: right;\">\n",
       "      <th></th>\n",
       "      <th>university_name</th>\n",
       "      <th>world_rank_intervals_times</th>\n",
       "      <th>world_rank_intervals_shanghai</th>\n",
       "      <th>world_rank_cwur</th>\n",
       "      <th>world_rank_times</th>\n",
       "      <th>world_rank_shanghai</th>\n",
       "    </tr>\n",
       "  </thead>\n",
       "  <tbody>\n",
       "    <tr>\n",
       "      <th>0</th>\n",
       "      <td>Aalborg University</td>\n",
       "      <td>201-250</td>\n",
       "      <td>301-400</td>\n",
       "      <td>565</td>\n",
       "      <td>226.0</td>\n",
       "      <td>350.0</td>\n",
       "    </tr>\n",
       "    <tr>\n",
       "      <th>1</th>\n",
       "      <td>Aalto University</td>\n",
       "      <td>251-300</td>\n",
       "      <td>401-500</td>\n",
       "      <td>421</td>\n",
       "      <td>276.0</td>\n",
       "      <td>450.0</td>\n",
       "    </tr>\n",
       "    <tr>\n",
       "      <th>2</th>\n",
       "      <td>Aarhus University</td>\n",
       "      <td>=106</td>\n",
       "      <td>73</td>\n",
       "      <td>122</td>\n",
       "      <td>106.0</td>\n",
       "      <td>73.0</td>\n",
       "    </tr>\n",
       "    <tr>\n",
       "      <th>3</th>\n",
       "      <td>Aix-Marseille University</td>\n",
       "      <td>251-300</td>\n",
       "      <td>102-150</td>\n",
       "      <td>206</td>\n",
       "      <td>276.0</td>\n",
       "      <td>126.0</td>\n",
       "    </tr>\n",
       "    <tr>\n",
       "      <th>4</th>\n",
       "      <td>Aristotle University of Thessaloniki</td>\n",
       "      <td>601-800</td>\n",
       "      <td>401-500</td>\n",
       "      <td>459</td>\n",
       "      <td>700.0</td>\n",
       "      <td>450.0</td>\n",
       "    </tr>\n",
       "  </tbody>\n",
       "</table>\n",
       "</div>"
      ],
      "text/plain": [
       "                        university_name world_rank_intervals_times  \\\n",
       "0                    Aalborg University                    201-250   \n",
       "1                      Aalto University                    251-300   \n",
       "2                     Aarhus University                       =106   \n",
       "3              Aix-Marseille University                    251-300   \n",
       "4  Aristotle University of Thessaloniki                    601-800   \n",
       "\n",
       "  world_rank_intervals_shanghai  world_rank_cwur  world_rank_times  \\\n",
       "0                       301-400              565             226.0   \n",
       "1                       401-500              421             276.0   \n",
       "2                            73              122             106.0   \n",
       "3                       102-150              206             276.0   \n",
       "4                       401-500              459             700.0   \n",
       "\n",
       "   world_rank_shanghai  \n",
       "0                350.0  \n",
       "1                450.0  \n",
       "2                 73.0  \n",
       "3                126.0  \n",
       "4                450.0  "
      ]
     },
     "execution_count": 219,
     "metadata": {},
     "output_type": "execute_result"
    }
   ],
   "source": [
    "interval_shanghai = most_recent_ranking['world_rank_intervals_shanghai'].str.extract('(\\d+)\\-?(\\d*)')\n",
    "interval_shanghai[0] = pd.to_numeric(interval_shanghai[0])\n",
    "interval_shanghai[1] = pd.to_numeric(interval_shanghai[1])\n",
    "most_recent_ranking['world_rank_shanghai'] = np.nanmean(interval_shanghai, axis = 1).round()\n",
    "most_recent_ranking.head()"
   ]
  },
  {
   "cell_type": "markdown",
   "metadata": {},
   "source": [
    "Calcolo della massima differenza fra i ranking"
   ]
  },
  {
   "cell_type": "code",
   "execution_count": 220,
   "metadata": {
    "colab": {
     "base_uri": "https://localhost:8080/",
     "height": 419
    },
    "id": "4q-lvaPuoRhe",
    "outputId": "890b9956-4c9f-4c90-ecf9-a5319416614d"
   },
   "outputs": [
    {
     "data": {
      "text/html": [
       "<div>\n",
       "<style scoped>\n",
       "    .dataframe tbody tr th:only-of-type {\n",
       "        vertical-align: middle;\n",
       "    }\n",
       "\n",
       "    .dataframe tbody tr th {\n",
       "        vertical-align: top;\n",
       "    }\n",
       "\n",
       "    .dataframe thead th {\n",
       "        text-align: right;\n",
       "    }\n",
       "</style>\n",
       "<table border=\"1\" class=\"dataframe\">\n",
       "  <thead>\n",
       "    <tr style=\"text-align: right;\">\n",
       "      <th></th>\n",
       "      <th>university_name</th>\n",
       "      <th>world_rank_times</th>\n",
       "      <th>world_rank_shanghai</th>\n",
       "      <th>world_rank_cwur</th>\n",
       "      <th>max_difference</th>\n",
       "    </tr>\n",
       "  </thead>\n",
       "  <tbody>\n",
       "    <tr>\n",
       "      <th>0</th>\n",
       "      <td>Aalborg University</td>\n",
       "      <td>226.0</td>\n",
       "      <td>350.0</td>\n",
       "      <td>565</td>\n",
       "      <td>339</td>\n",
       "    </tr>\n",
       "    <tr>\n",
       "      <th>1</th>\n",
       "      <td>Aalto University</td>\n",
       "      <td>276.0</td>\n",
       "      <td>450.0</td>\n",
       "      <td>421</td>\n",
       "      <td>174</td>\n",
       "    </tr>\n",
       "    <tr>\n",
       "      <th>2</th>\n",
       "      <td>Aarhus University</td>\n",
       "      <td>106.0</td>\n",
       "      <td>73.0</td>\n",
       "      <td>122</td>\n",
       "      <td>49</td>\n",
       "    </tr>\n",
       "    <tr>\n",
       "      <th>3</th>\n",
       "      <td>Aix-Marseille University</td>\n",
       "      <td>276.0</td>\n",
       "      <td>126.0</td>\n",
       "      <td>206</td>\n",
       "      <td>150</td>\n",
       "    </tr>\n",
       "    <tr>\n",
       "      <th>4</th>\n",
       "      <td>Aristotle University of Thessaloniki</td>\n",
       "      <td>700.0</td>\n",
       "      <td>450.0</td>\n",
       "      <td>459</td>\n",
       "      <td>250</td>\n",
       "    </tr>\n",
       "    <tr>\n",
       "      <th>...</th>\n",
       "      <td>...</td>\n",
       "      <td>...</td>\n",
       "      <td>...</td>\n",
       "      <td>...</td>\n",
       "      <td>...</td>\n",
       "    </tr>\n",
       "    <tr>\n",
       "      <th>357</th>\n",
       "      <td>Yale University</td>\n",
       "      <td>12.0</td>\n",
       "      <td>11.0</td>\n",
       "      <td>11</td>\n",
       "      <td>1</td>\n",
       "    </tr>\n",
       "    <tr>\n",
       "      <th>358</th>\n",
       "      <td>Yeshiva University</td>\n",
       "      <td>164.0</td>\n",
       "      <td>250.0</td>\n",
       "      <td>171</td>\n",
       "      <td>86</td>\n",
       "    </tr>\n",
       "    <tr>\n",
       "      <th>359</th>\n",
       "      <td>Yonsei University</td>\n",
       "      <td>326.0</td>\n",
       "      <td>250.0</td>\n",
       "      <td>98</td>\n",
       "      <td>228</td>\n",
       "    </tr>\n",
       "    <tr>\n",
       "      <th>360</th>\n",
       "      <td>York University</td>\n",
       "      <td>326.0</td>\n",
       "      <td>450.0</td>\n",
       "      <td>337</td>\n",
       "      <td>124</td>\n",
       "    </tr>\n",
       "    <tr>\n",
       "      <th>361</th>\n",
       "      <td>Zhejiang University</td>\n",
       "      <td>276.0</td>\n",
       "      <td>126.0</td>\n",
       "      <td>191</td>\n",
       "      <td>150</td>\n",
       "    </tr>\n",
       "  </tbody>\n",
       "</table>\n",
       "<p>362 rows × 5 columns</p>\n",
       "</div>"
      ],
      "text/plain": [
       "                          university_name  world_rank_times  \\\n",
       "0                      Aalborg University             226.0   \n",
       "1                        Aalto University             276.0   \n",
       "2                       Aarhus University             106.0   \n",
       "3                Aix-Marseille University             276.0   \n",
       "4    Aristotle University of Thessaloniki             700.0   \n",
       "..                                    ...               ...   \n",
       "357                       Yale University              12.0   \n",
       "358                    Yeshiva University             164.0   \n",
       "359                     Yonsei University             326.0   \n",
       "360                       York University             326.0   \n",
       "361                   Zhejiang University             276.0   \n",
       "\n",
       "     world_rank_shanghai  world_rank_cwur  max_difference  \n",
       "0                  350.0              565             339  \n",
       "1                  450.0              421             174  \n",
       "2                   73.0              122              49  \n",
       "3                  126.0              206             150  \n",
       "4                  450.0              459             250  \n",
       "..                   ...              ...             ...  \n",
       "357                 11.0               11               1  \n",
       "358                250.0              171              86  \n",
       "359                250.0               98             228  \n",
       "360                450.0              337             124  \n",
       "361                126.0              191             150  \n",
       "\n",
       "[362 rows x 5 columns]"
      ]
     },
     "execution_count": 220,
     "metadata": {},
     "output_type": "execute_result"
    }
   ],
   "source": [
    "most_recent_ranking['max_difference'] = most_recent_ranking[['world_rank_times','world_rank_shanghai', 'world_rank_cwur']].astype(int).max(axis = 1) - most_recent_ranking[['world_rank_times','world_rank_shanghai', 'world_rank_cwur']].astype(int).min(axis = 1)\n",
    "most_recent_ranking[['university_name', 'world_rank_times','world_rank_shanghai', 'world_rank_cwur', 'max_difference']]"
   ]
  },
  {
   "cell_type": "markdown",
   "metadata": {
    "id": "vo_mWohhTpRx"
   },
   "source": [
    "### 5. Consider only the most recent data point of the times dataset. Compute the number of male and female students for each country"
   ]
  },
  {
   "cell_type": "markdown",
   "metadata": {
    "id": "KjL05u5tSs8i"
   },
   "source": [
    "Creazione del dataframe \"times_most_recent_f_m\" a partire dalle colonne \"university_name\", \"country\", \"num_students\" e \"female_male_ratio\" del dataframe \"times_most_recent\".\n"
   ]
  },
  {
   "cell_type": "code",
   "execution_count": 221,
   "metadata": {
    "colab": {
     "base_uri": "https://localhost:8080/",
     "height": 204
    },
    "id": "_qAtzkY_76C9",
    "outputId": "a4b1664c-5311-46ff-c839-b8e0ecfcb032"
   },
   "outputs": [
    {
     "data": {
      "text/html": [
       "<div>\n",
       "<style scoped>\n",
       "    .dataframe tbody tr th:only-of-type {\n",
       "        vertical-align: middle;\n",
       "    }\n",
       "\n",
       "    .dataframe tbody tr th {\n",
       "        vertical-align: top;\n",
       "    }\n",
       "\n",
       "    .dataframe thead th {\n",
       "        text-align: right;\n",
       "    }\n",
       "</style>\n",
       "<table border=\"1\" class=\"dataframe\">\n",
       "  <thead>\n",
       "    <tr style=\"text-align: right;\">\n",
       "      <th></th>\n",
       "      <th>university_name</th>\n",
       "      <th>country</th>\n",
       "      <th>num_students</th>\n",
       "      <th>female_male_ratio</th>\n",
       "    </tr>\n",
       "  </thead>\n",
       "  <tbody>\n",
       "    <tr>\n",
       "      <th>2003</th>\n",
       "      <td>Aalborg University</td>\n",
       "      <td>Denmark</td>\n",
       "      <td>17422.0</td>\n",
       "      <td>48 : 52</td>\n",
       "    </tr>\n",
       "    <tr>\n",
       "      <th>2056</th>\n",
       "      <td>Aalto University</td>\n",
       "      <td>Finland</td>\n",
       "      <td>16099.0</td>\n",
       "      <td>32 : 68</td>\n",
       "    </tr>\n",
       "    <tr>\n",
       "      <th>1908</th>\n",
       "      <td>Aarhus University</td>\n",
       "      <td>Denmark</td>\n",
       "      <td>23895.0</td>\n",
       "      <td>54 : 46</td>\n",
       "    </tr>\n",
       "    <tr>\n",
       "      <th>2105</th>\n",
       "      <td>Aberystwyth University</td>\n",
       "      <td>United Kingdom</td>\n",
       "      <td>9252.0</td>\n",
       "      <td>48 : 52</td>\n",
       "    </tr>\n",
       "    <tr>\n",
       "      <th>2404</th>\n",
       "      <td>Adam Mickiewicz University</td>\n",
       "      <td>Poland</td>\n",
       "      <td>40633.0</td>\n",
       "      <td>71 : 29</td>\n",
       "    </tr>\n",
       "  </tbody>\n",
       "</table>\n",
       "</div>"
      ],
      "text/plain": [
       "                 university_name         country  num_students  \\\n",
       "2003          Aalborg University         Denmark       17422.0   \n",
       "2056            Aalto University         Finland       16099.0   \n",
       "1908           Aarhus University         Denmark       23895.0   \n",
       "2105      Aberystwyth University  United Kingdom        9252.0   \n",
       "2404  Adam Mickiewicz University          Poland       40633.0   \n",
       "\n",
       "     female_male_ratio  \n",
       "2003           48 : 52  \n",
       "2056           32 : 68  \n",
       "1908           54 : 46  \n",
       "2105           48 : 52  \n",
       "2404           71 : 29  "
      ]
     },
     "execution_count": 221,
     "metadata": {},
     "output_type": "execute_result"
    }
   ],
   "source": [
    "times_most_recent_f_m = times_most_recent[['university_name', 'country', 'num_students', 'female_male_ratio']].dropna(subset = ['female_male_ratio', 'num_students']).copy()\n",
    "times_most_recent_f_m.head()"
   ]
  },
  {
   "cell_type": "markdown",
   "metadata": {
    "id": "bHHxSSgysIks"
   },
   "source": [
    "Controllo che la somma dei valori di female e male in \"female_male_ratio\" sia 100."
   ]
  },
  {
   "cell_type": "code",
   "execution_count": 222,
   "metadata": {
    "colab": {
     "base_uri": "https://localhost:8080/"
    },
    "id": "_V0ajZdVrYfD",
    "outputId": "b7248242-eedd-46df-c799-f20f93538edf"
   },
   "outputs": [
    {
     "data": {
      "text/plain": [
       "0"
      ]
     },
     "execution_count": 222,
     "metadata": {},
     "output_type": "execute_result"
    }
   ],
   "source": [
    "check = times_most_recent_f_m['female_male_ratio'].str.extract(r'(\\d+) : (\\d+)')\n",
    "check['check'] = check[0].astype(int) + check[1].astype(int) - 100\n",
    "check['check'].sum()     "
   ]
  },
  {
   "cell_type": "markdown",
   "metadata": {
    "id": "xjxOKDfpTkkm"
   },
   "source": [
    "Calcolo del numero di studentesse in ogni università."
   ]
  },
  {
   "cell_type": "code",
   "execution_count": 223,
   "metadata": {
    "colab": {
     "base_uri": "https://localhost:8080/",
     "height": 204
    },
    "id": "UfecoWf58oqX",
    "outputId": "0cd18655-707d-4f1c-a5b4-145fd6f66202"
   },
   "outputs": [
    {
     "data": {
      "text/html": [
       "<div>\n",
       "<style scoped>\n",
       "    .dataframe tbody tr th:only-of-type {\n",
       "        vertical-align: middle;\n",
       "    }\n",
       "\n",
       "    .dataframe tbody tr th {\n",
       "        vertical-align: top;\n",
       "    }\n",
       "\n",
       "    .dataframe thead th {\n",
       "        text-align: right;\n",
       "    }\n",
       "</style>\n",
       "<table border=\"1\" class=\"dataframe\">\n",
       "  <thead>\n",
       "    <tr style=\"text-align: right;\">\n",
       "      <th></th>\n",
       "      <th>university_name</th>\n",
       "      <th>country</th>\n",
       "      <th>num_students</th>\n",
       "      <th>female_male_ratio</th>\n",
       "      <th>females</th>\n",
       "    </tr>\n",
       "  </thead>\n",
       "  <tbody>\n",
       "    <tr>\n",
       "      <th>2003</th>\n",
       "      <td>Aalborg University</td>\n",
       "      <td>Denmark</td>\n",
       "      <td>17422.0</td>\n",
       "      <td>48 : 52</td>\n",
       "      <td>8363.0</td>\n",
       "    </tr>\n",
       "    <tr>\n",
       "      <th>2056</th>\n",
       "      <td>Aalto University</td>\n",
       "      <td>Finland</td>\n",
       "      <td>16099.0</td>\n",
       "      <td>32 : 68</td>\n",
       "      <td>5152.0</td>\n",
       "    </tr>\n",
       "    <tr>\n",
       "      <th>1908</th>\n",
       "      <td>Aarhus University</td>\n",
       "      <td>Denmark</td>\n",
       "      <td>23895.0</td>\n",
       "      <td>54 : 46</td>\n",
       "      <td>12903.0</td>\n",
       "    </tr>\n",
       "    <tr>\n",
       "      <th>2105</th>\n",
       "      <td>Aberystwyth University</td>\n",
       "      <td>United Kingdom</td>\n",
       "      <td>9252.0</td>\n",
       "      <td>48 : 52</td>\n",
       "      <td>4441.0</td>\n",
       "    </tr>\n",
       "    <tr>\n",
       "      <th>2404</th>\n",
       "      <td>Adam Mickiewicz University</td>\n",
       "      <td>Poland</td>\n",
       "      <td>40633.0</td>\n",
       "      <td>71 : 29</td>\n",
       "      <td>28849.0</td>\n",
       "    </tr>\n",
       "  </tbody>\n",
       "</table>\n",
       "</div>"
      ],
      "text/plain": [
       "                 university_name         country  num_students  \\\n",
       "2003          Aalborg University         Denmark       17422.0   \n",
       "2056            Aalto University         Finland       16099.0   \n",
       "1908           Aarhus University         Denmark       23895.0   \n",
       "2105      Aberystwyth University  United Kingdom        9252.0   \n",
       "2404  Adam Mickiewicz University          Poland       40633.0   \n",
       "\n",
       "     female_male_ratio  females  \n",
       "2003           48 : 52   8363.0  \n",
       "2056           32 : 68   5152.0  \n",
       "1908           54 : 46  12903.0  \n",
       "2105           48 : 52   4441.0  \n",
       "2404           71 : 29  28849.0  "
      ]
     },
     "execution_count": 223,
     "metadata": {},
     "output_type": "execute_result"
    }
   ],
   "source": [
    "times_most_recent_f_m['females'] = times_most_recent_f_m['female_male_ratio'].str.extract('^(\\d+)')\n",
    "times_most_recent_f_m['females'] = round(pd.to_numeric(times_most_recent_f_m['females']) * times_most_recent_f_m['num_students'] / 100)\n",
    "times_most_recent_f_m.head()"
   ]
  },
  {
   "cell_type": "markdown",
   "metadata": {
    "id": "zAtbWr91TwD4"
   },
   "source": [
    "Calcolo del numero di studenti in ogni università."
   ]
  },
  {
   "cell_type": "code",
   "execution_count": 224,
   "metadata": {
    "colab": {
     "base_uri": "https://localhost:8080/",
     "height": 204
    },
    "id": "iE448K8CTVZs",
    "outputId": "fdf64f5d-acc4-4d20-d88e-762c1ce38aa1"
   },
   "outputs": [
    {
     "data": {
      "text/html": [
       "<div>\n",
       "<style scoped>\n",
       "    .dataframe tbody tr th:only-of-type {\n",
       "        vertical-align: middle;\n",
       "    }\n",
       "\n",
       "    .dataframe tbody tr th {\n",
       "        vertical-align: top;\n",
       "    }\n",
       "\n",
       "    .dataframe thead th {\n",
       "        text-align: right;\n",
       "    }\n",
       "</style>\n",
       "<table border=\"1\" class=\"dataframe\">\n",
       "  <thead>\n",
       "    <tr style=\"text-align: right;\">\n",
       "      <th></th>\n",
       "      <th>university_name</th>\n",
       "      <th>country</th>\n",
       "      <th>num_students</th>\n",
       "      <th>female_male_ratio</th>\n",
       "      <th>females</th>\n",
       "      <th>males</th>\n",
       "    </tr>\n",
       "  </thead>\n",
       "  <tbody>\n",
       "    <tr>\n",
       "      <th>2003</th>\n",
       "      <td>Aalborg University</td>\n",
       "      <td>Denmark</td>\n",
       "      <td>17422.0</td>\n",
       "      <td>48 : 52</td>\n",
       "      <td>8363.0</td>\n",
       "      <td>9059.0</td>\n",
       "    </tr>\n",
       "    <tr>\n",
       "      <th>2056</th>\n",
       "      <td>Aalto University</td>\n",
       "      <td>Finland</td>\n",
       "      <td>16099.0</td>\n",
       "      <td>32 : 68</td>\n",
       "      <td>5152.0</td>\n",
       "      <td>10947.0</td>\n",
       "    </tr>\n",
       "    <tr>\n",
       "      <th>1908</th>\n",
       "      <td>Aarhus University</td>\n",
       "      <td>Denmark</td>\n",
       "      <td>23895.0</td>\n",
       "      <td>54 : 46</td>\n",
       "      <td>12903.0</td>\n",
       "      <td>10992.0</td>\n",
       "    </tr>\n",
       "    <tr>\n",
       "      <th>2105</th>\n",
       "      <td>Aberystwyth University</td>\n",
       "      <td>United Kingdom</td>\n",
       "      <td>9252.0</td>\n",
       "      <td>48 : 52</td>\n",
       "      <td>4441.0</td>\n",
       "      <td>4811.0</td>\n",
       "    </tr>\n",
       "    <tr>\n",
       "      <th>2404</th>\n",
       "      <td>Adam Mickiewicz University</td>\n",
       "      <td>Poland</td>\n",
       "      <td>40633.0</td>\n",
       "      <td>71 : 29</td>\n",
       "      <td>28849.0</td>\n",
       "      <td>11784.0</td>\n",
       "    </tr>\n",
       "  </tbody>\n",
       "</table>\n",
       "</div>"
      ],
      "text/plain": [
       "                 university_name         country  num_students  \\\n",
       "2003          Aalborg University         Denmark       17422.0   \n",
       "2056            Aalto University         Finland       16099.0   \n",
       "1908           Aarhus University         Denmark       23895.0   \n",
       "2105      Aberystwyth University  United Kingdom        9252.0   \n",
       "2404  Adam Mickiewicz University          Poland       40633.0   \n",
       "\n",
       "     female_male_ratio  females    males  \n",
       "2003           48 : 52   8363.0   9059.0  \n",
       "2056           32 : 68   5152.0  10947.0  \n",
       "1908           54 : 46  12903.0  10992.0  \n",
       "2105           48 : 52   4441.0   4811.0  \n",
       "2404           71 : 29  28849.0  11784.0  "
      ]
     },
     "execution_count": 224,
     "metadata": {},
     "output_type": "execute_result"
    }
   ],
   "source": [
    "times_most_recent_f_m['males'] = times_most_recent_f_m['female_male_ratio'].str.extract('(\\d+)$')\n",
    "times_most_recent_f_m['males'] = round(pd.to_numeric(times_most_recent_f_m['males']) * times_most_recent_f_m['num_students'] / 100)\n",
    "times_most_recent_f_m.head()"
   ]
  },
  {
   "cell_type": "markdown",
   "metadata": {
    "id": "237ezpCgVV7B"
   },
   "source": [
    "Calcolo del numero totale di studentesse e di quello di studenti per ciascun paese."
   ]
  },
  {
   "cell_type": "code",
   "execution_count": 225,
   "metadata": {
    "colab": {
     "base_uri": "https://localhost:8080/",
     "height": 419
    },
    "id": "3Jem4KFDVWQY",
    "outputId": "22ad4444-5ba7-42ae-dbaf-d872a4f5aade"
   },
   "outputs": [
    {
     "data": {
      "text/html": [
       "<div>\n",
       "<style scoped>\n",
       "    .dataframe tbody tr th:only-of-type {\n",
       "        vertical-align: middle;\n",
       "    }\n",
       "\n",
       "    .dataframe tbody tr th {\n",
       "        vertical-align: top;\n",
       "    }\n",
       "\n",
       "    .dataframe thead th {\n",
       "        text-align: right;\n",
       "    }\n",
       "</style>\n",
       "<table border=\"1\" class=\"dataframe\">\n",
       "  <thead>\n",
       "    <tr style=\"text-align: right;\">\n",
       "      <th></th>\n",
       "      <th>country</th>\n",
       "      <th>females</th>\n",
       "      <th>males</th>\n",
       "    </tr>\n",
       "  </thead>\n",
       "  <tbody>\n",
       "    <tr>\n",
       "      <th>0</th>\n",
       "      <td>Argentina</td>\n",
       "      <td>67191.0</td>\n",
       "      <td>41182.0</td>\n",
       "    </tr>\n",
       "    <tr>\n",
       "      <th>1</th>\n",
       "      <td>Australia</td>\n",
       "      <td>391736.0</td>\n",
       "      <td>321640.0</td>\n",
       "    </tr>\n",
       "    <tr>\n",
       "      <th>2</th>\n",
       "      <td>Austria</td>\n",
       "      <td>68364.0</td>\n",
       "      <td>66113.0</td>\n",
       "    </tr>\n",
       "    <tr>\n",
       "      <th>3</th>\n",
       "      <td>Bangladesh</td>\n",
       "      <td>21323.0</td>\n",
       "      <td>41393.0</td>\n",
       "    </tr>\n",
       "    <tr>\n",
       "      <th>4</th>\n",
       "      <td>Belarus</td>\n",
       "      <td>20219.0</td>\n",
       "      <td>9084.0</td>\n",
       "    </tr>\n",
       "    <tr>\n",
       "      <th>...</th>\n",
       "      <td>...</td>\n",
       "      <td>...</td>\n",
       "      <td>...</td>\n",
       "    </tr>\n",
       "    <tr>\n",
       "      <th>65</th>\n",
       "      <td>Uganda</td>\n",
       "      <td>18670.0</td>\n",
       "      <td>18670.0</td>\n",
       "    </tr>\n",
       "    <tr>\n",
       "      <th>66</th>\n",
       "      <td>Ukraine</td>\n",
       "      <td>17846.0</td>\n",
       "      <td>19250.0</td>\n",
       "    </tr>\n",
       "    <tr>\n",
       "      <th>67</th>\n",
       "      <td>United Arab Emirates</td>\n",
       "      <td>9516.0</td>\n",
       "      <td>4931.0</td>\n",
       "    </tr>\n",
       "    <tr>\n",
       "      <th>68</th>\n",
       "      <td>United Kingdom</td>\n",
       "      <td>711814.0</td>\n",
       "      <td>613028.0</td>\n",
       "    </tr>\n",
       "    <tr>\n",
       "      <th>69</th>\n",
       "      <td>United States of America</td>\n",
       "      <td>1601453.0</td>\n",
       "      <td>1556324.0</td>\n",
       "    </tr>\n",
       "  </tbody>\n",
       "</table>\n",
       "<p>70 rows × 3 columns</p>\n",
       "</div>"
      ],
      "text/plain": [
       "                     country    females      males\n",
       "0                  Argentina    67191.0    41182.0\n",
       "1                  Australia   391736.0   321640.0\n",
       "2                    Austria    68364.0    66113.0\n",
       "3                 Bangladesh    21323.0    41393.0\n",
       "4                    Belarus    20219.0     9084.0\n",
       "..                       ...        ...        ...\n",
       "65                    Uganda    18670.0    18670.0\n",
       "66                   Ukraine    17846.0    19250.0\n",
       "67      United Arab Emirates     9516.0     4931.0\n",
       "68            United Kingdom   711814.0   613028.0\n",
       "69  United States of America  1601453.0  1556324.0\n",
       "\n",
       "[70 rows x 3 columns]"
      ]
     },
     "execution_count": 225,
     "metadata": {},
     "output_type": "execute_result"
    }
   ],
   "source": [
    "times_most_recent_f_m.groupby('country', as_index = False).sum()[['country', 'females', 'males']]"
   ]
  },
  {
   "cell_type": "markdown",
   "metadata": {
    "id": "O7Q8cgtYBxCg"
   },
   "source": [
    "## 6. Find the universities where the ratio between female and male is below the average ratio (computed over all universities)"
   ]
  },
  {
   "cell_type": "markdown",
   "metadata": {
    "id": "J8JuA49Ibmj7"
   },
   "source": [
    "Creazione della colonna \"ratio\", contenente il rapporto tra studentesse e studenti per ciascuna università."
   ]
  },
  {
   "cell_type": "code",
   "execution_count": 226,
   "metadata": {
    "colab": {
     "base_uri": "https://localhost:8080/",
     "height": 204
    },
    "id": "Ki4B144nB079",
    "outputId": "e8fa2992-354e-4025-e26c-45b00176a9b4"
   },
   "outputs": [
    {
     "data": {
      "text/html": [
       "<div>\n",
       "<style scoped>\n",
       "    .dataframe tbody tr th:only-of-type {\n",
       "        vertical-align: middle;\n",
       "    }\n",
       "\n",
       "    .dataframe tbody tr th {\n",
       "        vertical-align: top;\n",
       "    }\n",
       "\n",
       "    .dataframe thead th {\n",
       "        text-align: right;\n",
       "    }\n",
       "</style>\n",
       "<table border=\"1\" class=\"dataframe\">\n",
       "  <thead>\n",
       "    <tr style=\"text-align: right;\">\n",
       "      <th></th>\n",
       "      <th>university_name</th>\n",
       "      <th>country</th>\n",
       "      <th>num_students</th>\n",
       "      <th>female_male_ratio</th>\n",
       "      <th>females</th>\n",
       "      <th>males</th>\n",
       "      <th>ratio</th>\n",
       "    </tr>\n",
       "  </thead>\n",
       "  <tbody>\n",
       "    <tr>\n",
       "      <th>2003</th>\n",
       "      <td>Aalborg University</td>\n",
       "      <td>Denmark</td>\n",
       "      <td>17422.0</td>\n",
       "      <td>48 : 52</td>\n",
       "      <td>8363.0</td>\n",
       "      <td>9059.0</td>\n",
       "      <td>0.923170</td>\n",
       "    </tr>\n",
       "    <tr>\n",
       "      <th>2056</th>\n",
       "      <td>Aalto University</td>\n",
       "      <td>Finland</td>\n",
       "      <td>16099.0</td>\n",
       "      <td>32 : 68</td>\n",
       "      <td>5152.0</td>\n",
       "      <td>10947.0</td>\n",
       "      <td>0.470631</td>\n",
       "    </tr>\n",
       "    <tr>\n",
       "      <th>1908</th>\n",
       "      <td>Aarhus University</td>\n",
       "      <td>Denmark</td>\n",
       "      <td>23895.0</td>\n",
       "      <td>54 : 46</td>\n",
       "      <td>12903.0</td>\n",
       "      <td>10992.0</td>\n",
       "      <td>1.173854</td>\n",
       "    </tr>\n",
       "    <tr>\n",
       "      <th>2105</th>\n",
       "      <td>Aberystwyth University</td>\n",
       "      <td>United Kingdom</td>\n",
       "      <td>9252.0</td>\n",
       "      <td>48 : 52</td>\n",
       "      <td>4441.0</td>\n",
       "      <td>4811.0</td>\n",
       "      <td>0.923093</td>\n",
       "    </tr>\n",
       "    <tr>\n",
       "      <th>2404</th>\n",
       "      <td>Adam Mickiewicz University</td>\n",
       "      <td>Poland</td>\n",
       "      <td>40633.0</td>\n",
       "      <td>71 : 29</td>\n",
       "      <td>28849.0</td>\n",
       "      <td>11784.0</td>\n",
       "      <td>2.448150</td>\n",
       "    </tr>\n",
       "  </tbody>\n",
       "</table>\n",
       "</div>"
      ],
      "text/plain": [
       "                 university_name         country  num_students  \\\n",
       "2003          Aalborg University         Denmark       17422.0   \n",
       "2056            Aalto University         Finland       16099.0   \n",
       "1908           Aarhus University         Denmark       23895.0   \n",
       "2105      Aberystwyth University  United Kingdom        9252.0   \n",
       "2404  Adam Mickiewicz University          Poland       40633.0   \n",
       "\n",
       "     female_male_ratio  females    males     ratio  \n",
       "2003           48 : 52   8363.0   9059.0  0.923170  \n",
       "2056           32 : 68   5152.0  10947.0  0.470631  \n",
       "1908           54 : 46  12903.0  10992.0  1.173854  \n",
       "2105           48 : 52   4441.0   4811.0  0.923093  \n",
       "2404           71 : 29  28849.0  11784.0  2.448150  "
      ]
     },
     "execution_count": 226,
     "metadata": {},
     "output_type": "execute_result"
    }
   ],
   "source": [
    "times_most_recent_f_m['ratio'] = times_most_recent_f_m['females'] / times_most_recent_f_m['males']\n",
    "times_most_recent_f_m.head()"
   ]
  },
  {
   "cell_type": "markdown",
   "metadata": {
    "id": "FZTa0K5Gb1CB"
   },
   "source": [
    "Calcolo del rapporto medio tra studentesse e studenti su tutte le università."
   ]
  },
  {
   "cell_type": "code",
   "execution_count": 227,
   "metadata": {
    "colab": {
     "base_uri": "https://localhost:8080/"
    },
    "id": "U5yGgyMzJgqI",
    "outputId": "4c3cf5d7-b34e-4e1a-82be-ab9d4ad61096"
   },
   "outputs": [
    {
     "data": {
      "text/plain": [
       "1.070989873395366"
      ]
     },
     "execution_count": 227,
     "metadata": {},
     "output_type": "execute_result"
    }
   ],
   "source": [
    "avg_ratio = times_most_recent_f_m['females'].sum() / times_most_recent_f_m['males'].sum()\n",
    "avg_ratio"
   ]
  },
  {
   "cell_type": "markdown",
   "metadata": {
    "id": "JfkE7zmlcMlr"
   },
   "source": [
    "Estrazione delle università caratterizzate da un rapporto tra studentesse e studenti minore di quello medio."
   ]
  },
  {
   "cell_type": "code",
   "execution_count": 228,
   "metadata": {
    "colab": {
     "base_uri": "https://localhost:8080/",
     "height": 204
    },
    "id": "awbqjT_0K7H5",
    "outputId": "8fdb3741-26ab-463e-c0f0-71c8a508fb0f"
   },
   "outputs": [
    {
     "data": {
      "text/html": [
       "<div>\n",
       "<style scoped>\n",
       "    .dataframe tbody tr th:only-of-type {\n",
       "        vertical-align: middle;\n",
       "    }\n",
       "\n",
       "    .dataframe tbody tr th {\n",
       "        vertical-align: top;\n",
       "    }\n",
       "\n",
       "    .dataframe thead th {\n",
       "        text-align: right;\n",
       "    }\n",
       "</style>\n",
       "<table border=\"1\" class=\"dataframe\">\n",
       "  <thead>\n",
       "    <tr style=\"text-align: right;\">\n",
       "      <th></th>\n",
       "      <th>university_name</th>\n",
       "      <th>country</th>\n",
       "      <th>num_students</th>\n",
       "      <th>female_male_ratio</th>\n",
       "      <th>females</th>\n",
       "      <th>males</th>\n",
       "      <th>ratio</th>\n",
       "    </tr>\n",
       "  </thead>\n",
       "  <tbody>\n",
       "    <tr>\n",
       "      <th>2003</th>\n",
       "      <td>Aalborg University</td>\n",
       "      <td>Denmark</td>\n",
       "      <td>17422.0</td>\n",
       "      <td>48 : 52</td>\n",
       "      <td>8363.0</td>\n",
       "      <td>9059.0</td>\n",
       "      <td>0.923170</td>\n",
       "    </tr>\n",
       "    <tr>\n",
       "      <th>2056</th>\n",
       "      <td>Aalto University</td>\n",
       "      <td>Finland</td>\n",
       "      <td>16099.0</td>\n",
       "      <td>32 : 68</td>\n",
       "      <td>5152.0</td>\n",
       "      <td>10947.0</td>\n",
       "      <td>0.470631</td>\n",
       "    </tr>\n",
       "    <tr>\n",
       "      <th>2105</th>\n",
       "      <td>Aberystwyth University</td>\n",
       "      <td>United Kingdom</td>\n",
       "      <td>9252.0</td>\n",
       "      <td>48 : 52</td>\n",
       "      <td>4441.0</td>\n",
       "      <td>4811.0</td>\n",
       "      <td>0.923093</td>\n",
       "    </tr>\n",
       "    <tr>\n",
       "      <th>2406</th>\n",
       "      <td>Ajou University</td>\n",
       "      <td>South Korea</td>\n",
       "      <td>12706.0</td>\n",
       "      <td>33 : 67</td>\n",
       "      <td>4193.0</td>\n",
       "      <td>8513.0</td>\n",
       "      <td>0.492541</td>\n",
       "    </tr>\n",
       "    <tr>\n",
       "      <th>2408</th>\n",
       "      <td>Alexandria University</td>\n",
       "      <td>Egypt</td>\n",
       "      <td>127431.0</td>\n",
       "      <td>46 : 54</td>\n",
       "      <td>58618.0</td>\n",
       "      <td>68813.0</td>\n",
       "      <td>0.851845</td>\n",
       "    </tr>\n",
       "  </tbody>\n",
       "</table>\n",
       "</div>"
      ],
      "text/plain": [
       "             university_name         country  num_students female_male_ratio  \\\n",
       "2003      Aalborg University         Denmark       17422.0           48 : 52   \n",
       "2056        Aalto University         Finland       16099.0           32 : 68   \n",
       "2105  Aberystwyth University  United Kingdom        9252.0           48 : 52   \n",
       "2406         Ajou University     South Korea       12706.0           33 : 67   \n",
       "2408   Alexandria University           Egypt      127431.0           46 : 54   \n",
       "\n",
       "      females    males     ratio  \n",
       "2003   8363.0   9059.0  0.923170  \n",
       "2056   5152.0  10947.0  0.470631  \n",
       "2105   4441.0   4811.0  0.923093  \n",
       "2406   4193.0   8513.0  0.492541  \n",
       "2408  58618.0  68813.0  0.851845  "
      ]
     },
     "execution_count": 228,
     "metadata": {},
     "output_type": "execute_result"
    }
   ],
   "source": [
    "below_avg_f_m_ratio = times_most_recent_f_m[times_most_recent_f_m['ratio'] < avg_ratio]\n",
    "below_avg_f_m_ratio.head()"
   ]
  },
  {
   "cell_type": "markdown",
   "metadata": {
    "id": "nZ_3T7WVL2pX"
   },
   "source": [
    "### 7. For each country, compute the fraction of the students in the country that are in one of the universities computed in the previous point (that is, the denominator of the ratio is the total number of students over all universities in the country)"
   ]
  },
  {
   "cell_type": "markdown",
   "metadata": {
    "id": "_wMoP6r8PtUr"
   },
   "source": [
    "Creazione del dataframe \"total_students_in_country\", contenente il numero totale di studenti per ogni paese."
   ]
  },
  {
   "cell_type": "code",
   "execution_count": 229,
   "metadata": {
    "colab": {
     "base_uri": "https://localhost:8080/",
     "height": 204
    },
    "id": "cjSkr9dCV_KH",
    "outputId": "108a24e7-0e28-4fcd-f0f0-235a3f831d0c"
   },
   "outputs": [
    {
     "data": {
      "text/html": [
       "<div>\n",
       "<style scoped>\n",
       "    .dataframe tbody tr th:only-of-type {\n",
       "        vertical-align: middle;\n",
       "    }\n",
       "\n",
       "    .dataframe tbody tr th {\n",
       "        vertical-align: top;\n",
       "    }\n",
       "\n",
       "    .dataframe thead th {\n",
       "        text-align: right;\n",
       "    }\n",
       "</style>\n",
       "<table border=\"1\" class=\"dataframe\">\n",
       "  <thead>\n",
       "    <tr style=\"text-align: right;\">\n",
       "      <th></th>\n",
       "      <th>country</th>\n",
       "      <th>total_students</th>\n",
       "    </tr>\n",
       "  </thead>\n",
       "  <tbody>\n",
       "    <tr>\n",
       "      <th>0</th>\n",
       "      <td>Argentina</td>\n",
       "      <td>108373.0</td>\n",
       "    </tr>\n",
       "    <tr>\n",
       "      <th>1</th>\n",
       "      <td>Australia</td>\n",
       "      <td>743627.0</td>\n",
       "    </tr>\n",
       "    <tr>\n",
       "      <th>2</th>\n",
       "      <td>Austria</td>\n",
       "      <td>134477.0</td>\n",
       "    </tr>\n",
       "    <tr>\n",
       "      <th>3</th>\n",
       "      <td>Bangladesh</td>\n",
       "      <td>62716.0</td>\n",
       "    </tr>\n",
       "    <tr>\n",
       "      <th>4</th>\n",
       "      <td>Belarus</td>\n",
       "      <td>29303.0</td>\n",
       "    </tr>\n",
       "  </tbody>\n",
       "</table>\n",
       "</div>"
      ],
      "text/plain": [
       "      country  total_students\n",
       "0   Argentina        108373.0\n",
       "1   Australia        743627.0\n",
       "2     Austria        134477.0\n",
       "3  Bangladesh         62716.0\n",
       "4     Belarus         29303.0"
      ]
     },
     "execution_count": 229,
     "metadata": {},
     "output_type": "execute_result"
    }
   ],
   "source": [
    "total_students_in_country = times_most_recent.groupby('country', as_index = False).sum()[['country', 'num_students']]\n",
    "total_students_in_country.rename(columns = {'num_students' : 'total_students'}, inplace = True)\n",
    "total_students_in_country.head()"
   ]
  },
  {
   "cell_type": "markdown",
   "metadata": {
    "id": "Iqpr8vEOP0eF"
   },
   "source": [
    "Creazione del dataframe \"students_in_country_below_avg\" che, per ciascun paese, contiene il numero di studenti che frequentano un'università caratterizzata da un rapporto tra studentesse e studenti minore di quello medio."
   ]
  },
  {
   "cell_type": "code",
   "execution_count": 230,
   "metadata": {
    "colab": {
     "base_uri": "https://localhost:8080/",
     "height": 204
    },
    "id": "n3DUMim9M2ft",
    "outputId": "61a14e8f-58a3-4923-b785-221de8894b5f"
   },
   "outputs": [
    {
     "data": {
      "text/html": [
       "<div>\n",
       "<style scoped>\n",
       "    .dataframe tbody tr th:only-of-type {\n",
       "        vertical-align: middle;\n",
       "    }\n",
       "\n",
       "    .dataframe tbody tr th {\n",
       "        vertical-align: top;\n",
       "    }\n",
       "\n",
       "    .dataframe thead th {\n",
       "        text-align: right;\n",
       "    }\n",
       "</style>\n",
       "<table border=\"1\" class=\"dataframe\">\n",
       "  <thead>\n",
       "    <tr style=\"text-align: right;\">\n",
       "      <th></th>\n",
       "      <th>country</th>\n",
       "      <th>num_students</th>\n",
       "    </tr>\n",
       "  </thead>\n",
       "  <tbody>\n",
       "    <tr>\n",
       "      <th>0</th>\n",
       "      <td>Australia</td>\n",
       "      <td>146235.0</td>\n",
       "    </tr>\n",
       "    <tr>\n",
       "      <th>1</th>\n",
       "      <td>Austria</td>\n",
       "      <td>61033.0</td>\n",
       "    </tr>\n",
       "    <tr>\n",
       "      <th>2</th>\n",
       "      <td>Bangladesh</td>\n",
       "      <td>62716.0</td>\n",
       "    </tr>\n",
       "    <tr>\n",
       "      <th>3</th>\n",
       "      <td>Brazil</td>\n",
       "      <td>278774.0</td>\n",
       "    </tr>\n",
       "    <tr>\n",
       "      <th>4</th>\n",
       "      <td>Canada</td>\n",
       "      <td>86779.0</td>\n",
       "    </tr>\n",
       "  </tbody>\n",
       "</table>\n",
       "</div>"
      ],
      "text/plain": [
       "      country  num_students\n",
       "0   Australia      146235.0\n",
       "1     Austria       61033.0\n",
       "2  Bangladesh       62716.0\n",
       "3      Brazil      278774.0\n",
       "4      Canada       86779.0"
      ]
     },
     "execution_count": 230,
     "metadata": {},
     "output_type": "execute_result"
    }
   ],
   "source": [
    "students_in_country_below_avg = below_avg_f_m_ratio.groupby('country', as_index = False).sum()[['country', 'num_students']]\n",
    "students_in_country_below_avg.head()"
   ]
  },
  {
   "cell_type": "markdown",
   "metadata": {
    "id": "9Hhrw9UIQN3W"
   },
   "source": [
    "Creazione del dataframe \"students_in_country\", unione dei dataframe \"students_in_country_below_avg\" e \"total_students_in_country\"."
   ]
  },
  {
   "cell_type": "code",
   "execution_count": 231,
   "metadata": {
    "colab": {
     "base_uri": "https://localhost:8080/",
     "height": 204
    },
    "id": "zy7XwNcLOnKU",
    "outputId": "659a5d68-dc33-46f0-d018-6b6d093b3581"
   },
   "outputs": [
    {
     "data": {
      "text/html": [
       "<div>\n",
       "<style scoped>\n",
       "    .dataframe tbody tr th:only-of-type {\n",
       "        vertical-align: middle;\n",
       "    }\n",
       "\n",
       "    .dataframe tbody tr th {\n",
       "        vertical-align: top;\n",
       "    }\n",
       "\n",
       "    .dataframe thead th {\n",
       "        text-align: right;\n",
       "    }\n",
       "</style>\n",
       "<table border=\"1\" class=\"dataframe\">\n",
       "  <thead>\n",
       "    <tr style=\"text-align: right;\">\n",
       "      <th></th>\n",
       "      <th>country</th>\n",
       "      <th>num_students</th>\n",
       "      <th>total_students</th>\n",
       "    </tr>\n",
       "  </thead>\n",
       "  <tbody>\n",
       "    <tr>\n",
       "      <th>0</th>\n",
       "      <td>Australia</td>\n",
       "      <td>146235.0</td>\n",
       "      <td>743627.0</td>\n",
       "    </tr>\n",
       "    <tr>\n",
       "      <th>1</th>\n",
       "      <td>Austria</td>\n",
       "      <td>61033.0</td>\n",
       "      <td>134477.0</td>\n",
       "    </tr>\n",
       "    <tr>\n",
       "      <th>2</th>\n",
       "      <td>Bangladesh</td>\n",
       "      <td>62716.0</td>\n",
       "      <td>62716.0</td>\n",
       "    </tr>\n",
       "    <tr>\n",
       "      <th>3</th>\n",
       "      <td>Brazil</td>\n",
       "      <td>278774.0</td>\n",
       "      <td>534688.0</td>\n",
       "    </tr>\n",
       "    <tr>\n",
       "      <th>4</th>\n",
       "      <td>Canada</td>\n",
       "      <td>86779.0</td>\n",
       "      <td>717054.0</td>\n",
       "    </tr>\n",
       "  </tbody>\n",
       "</table>\n",
       "</div>"
      ],
      "text/plain": [
       "      country  num_students  total_students\n",
       "0   Australia      146235.0        743627.0\n",
       "1     Austria       61033.0        134477.0\n",
       "2  Bangladesh       62716.0         62716.0\n",
       "3      Brazil      278774.0        534688.0\n",
       "4      Canada       86779.0        717054.0"
      ]
     },
     "execution_count": 231,
     "metadata": {},
     "output_type": "execute_result"
    }
   ],
   "source": [
    "students_in_country = pd.merge(students_in_country_below_avg, total_students_in_country, on = ['country'])\n",
    "students_in_country.head()"
   ]
  },
  {
   "cell_type": "markdown",
   "metadata": {
    "id": "aCPTCwHQQbFd"
   },
   "source": [
    "Calcolo del rapporto tra il numero di universitari che frequentano un'università caratterizzata da un rapporto tra studentesse e studenti minore di quello medio e il numero di studenti totali per ciascun paese."
   ]
  },
  {
   "cell_type": "code",
   "execution_count": 232,
   "metadata": {
    "colab": {
     "base_uri": "https://localhost:8080/",
     "height": 204
    },
    "id": "Vy-tgmz1O_rY",
    "outputId": "b0b92282-3d22-4550-b992-984f9bccb9f3"
   },
   "outputs": [
    {
     "data": {
      "text/html": [
       "<div>\n",
       "<style scoped>\n",
       "    .dataframe tbody tr th:only-of-type {\n",
       "        vertical-align: middle;\n",
       "    }\n",
       "\n",
       "    .dataframe tbody tr th {\n",
       "        vertical-align: top;\n",
       "    }\n",
       "\n",
       "    .dataframe thead th {\n",
       "        text-align: right;\n",
       "    }\n",
       "</style>\n",
       "<table border=\"1\" class=\"dataframe\">\n",
       "  <thead>\n",
       "    <tr style=\"text-align: right;\">\n",
       "      <th></th>\n",
       "      <th>country</th>\n",
       "      <th>num_students</th>\n",
       "      <th>total_students</th>\n",
       "      <th>ratio</th>\n",
       "    </tr>\n",
       "  </thead>\n",
       "  <tbody>\n",
       "    <tr>\n",
       "      <th>0</th>\n",
       "      <td>Australia</td>\n",
       "      <td>146235.0</td>\n",
       "      <td>743627.0</td>\n",
       "      <td>0.196651</td>\n",
       "    </tr>\n",
       "    <tr>\n",
       "      <th>1</th>\n",
       "      <td>Austria</td>\n",
       "      <td>61033.0</td>\n",
       "      <td>134477.0</td>\n",
       "      <td>0.453855</td>\n",
       "    </tr>\n",
       "    <tr>\n",
       "      <th>2</th>\n",
       "      <td>Bangladesh</td>\n",
       "      <td>62716.0</td>\n",
       "      <td>62716.0</td>\n",
       "      <td>1.000000</td>\n",
       "    </tr>\n",
       "    <tr>\n",
       "      <th>3</th>\n",
       "      <td>Brazil</td>\n",
       "      <td>278774.0</td>\n",
       "      <td>534688.0</td>\n",
       "      <td>0.521377</td>\n",
       "    </tr>\n",
       "    <tr>\n",
       "      <th>4</th>\n",
       "      <td>Canada</td>\n",
       "      <td>86779.0</td>\n",
       "      <td>717054.0</td>\n",
       "      <td>0.121022</td>\n",
       "    </tr>\n",
       "  </tbody>\n",
       "</table>\n",
       "</div>"
      ],
      "text/plain": [
       "      country  num_students  total_students     ratio\n",
       "0   Australia      146235.0        743627.0  0.196651\n",
       "1     Austria       61033.0        134477.0  0.453855\n",
       "2  Bangladesh       62716.0         62716.0  1.000000\n",
       "3      Brazil      278774.0        534688.0  0.521377\n",
       "4      Canada       86779.0        717054.0  0.121022"
      ]
     },
     "execution_count": 232,
     "metadata": {},
     "output_type": "execute_result"
    }
   ],
   "source": [
    "students_in_country['ratio'] = students_in_country['num_students'] / students_in_country['total_students']\n",
    "students_in_country.head()"
   ]
  },
  {
   "cell_type": "markdown",
   "metadata": {
    "id": "GiM_J29tV_2v"
   },
   "source": [
    "### 8. Read the file educational_attainment_supplementary_data.csv, discarding any row with missing country_name or series_name"
   ]
  },
  {
   "cell_type": "code",
   "execution_count": 233,
   "metadata": {
    "colab": {
     "base_uri": "https://localhost:8080/",
     "height": 564
    },
    "id": "A1KalUfIWDK4",
    "outputId": "2be653f5-92c9-41ea-c561-71768107a53c"
   },
   "outputs": [
    {
     "data": {
      "text/html": [
       "<div>\n",
       "<style scoped>\n",
       "    .dataframe tbody tr th:only-of-type {\n",
       "        vertical-align: middle;\n",
       "    }\n",
       "\n",
       "    .dataframe tbody tr th {\n",
       "        vertical-align: top;\n",
       "    }\n",
       "\n",
       "    .dataframe thead th {\n",
       "        text-align: right;\n",
       "    }\n",
       "</style>\n",
       "<table border=\"1\" class=\"dataframe\">\n",
       "  <thead>\n",
       "    <tr style=\"text-align: right;\">\n",
       "      <th></th>\n",
       "      <th>country_name</th>\n",
       "      <th>series_name</th>\n",
       "      <th>1985</th>\n",
       "      <th>1986</th>\n",
       "      <th>1987</th>\n",
       "      <th>1990</th>\n",
       "      <th>1991</th>\n",
       "      <th>1992</th>\n",
       "      <th>1993</th>\n",
       "      <th>1995</th>\n",
       "      <th>...</th>\n",
       "      <th>2005</th>\n",
       "      <th>2006</th>\n",
       "      <th>2007</th>\n",
       "      <th>2008</th>\n",
       "      <th>2009</th>\n",
       "      <th>2010</th>\n",
       "      <th>2011</th>\n",
       "      <th>2012</th>\n",
       "      <th>2013</th>\n",
       "      <th>2015</th>\n",
       "    </tr>\n",
       "  </thead>\n",
       "  <tbody>\n",
       "    <tr>\n",
       "      <th>0</th>\n",
       "      <td>Afghanistan</td>\n",
       "      <td>Barro-Lee: Average years of primary schooling,...</td>\n",
       "      <td>0.33</td>\n",
       "      <td>NaN</td>\n",
       "      <td>NaN</td>\n",
       "      <td>0.44</td>\n",
       "      <td>NaN</td>\n",
       "      <td>NaN</td>\n",
       "      <td>NaN</td>\n",
       "      <td>0.57</td>\n",
       "      <td>...</td>\n",
       "      <td>0.86</td>\n",
       "      <td>NaN</td>\n",
       "      <td>NaN</td>\n",
       "      <td>NaN</td>\n",
       "      <td>NaN</td>\n",
       "      <td>1.27</td>\n",
       "      <td>NaN</td>\n",
       "      <td>NaN</td>\n",
       "      <td>NaN</td>\n",
       "      <td>NaN</td>\n",
       "    </tr>\n",
       "    <tr>\n",
       "      <th>1</th>\n",
       "      <td>Afghanistan</td>\n",
       "      <td>Barro-Lee: Average years of primary schooling,...</td>\n",
       "      <td>1.03</td>\n",
       "      <td>NaN</td>\n",
       "      <td>NaN</td>\n",
       "      <td>1.26</td>\n",
       "      <td>NaN</td>\n",
       "      <td>NaN</td>\n",
       "      <td>NaN</td>\n",
       "      <td>1.54</td>\n",
       "      <td>...</td>\n",
       "      <td>2.18</td>\n",
       "      <td>NaN</td>\n",
       "      <td>NaN</td>\n",
       "      <td>NaN</td>\n",
       "      <td>NaN</td>\n",
       "      <td>2.64</td>\n",
       "      <td>NaN</td>\n",
       "      <td>NaN</td>\n",
       "      <td>NaN</td>\n",
       "      <td>NaN</td>\n",
       "    </tr>\n",
       "    <tr>\n",
       "      <th>2</th>\n",
       "      <td>Afghanistan</td>\n",
       "      <td>Barro-Lee: Average years of primary schooling,...</td>\n",
       "      <td>0.83</td>\n",
       "      <td>NaN</td>\n",
       "      <td>NaN</td>\n",
       "      <td>0.95</td>\n",
       "      <td>NaN</td>\n",
       "      <td>NaN</td>\n",
       "      <td>NaN</td>\n",
       "      <td>1.26</td>\n",
       "      <td>...</td>\n",
       "      <td>1.01</td>\n",
       "      <td>NaN</td>\n",
       "      <td>NaN</td>\n",
       "      <td>NaN</td>\n",
       "      <td>NaN</td>\n",
       "      <td>2.45</td>\n",
       "      <td>NaN</td>\n",
       "      <td>NaN</td>\n",
       "      <td>NaN</td>\n",
       "      <td>NaN</td>\n",
       "    </tr>\n",
       "    <tr>\n",
       "      <th>3</th>\n",
       "      <td>Afghanistan</td>\n",
       "      <td>Barro-Lee: Average years of primary schooling,...</td>\n",
       "      <td>2.34</td>\n",
       "      <td>NaN</td>\n",
       "      <td>NaN</td>\n",
       "      <td>2.22</td>\n",
       "      <td>NaN</td>\n",
       "      <td>NaN</td>\n",
       "      <td>NaN</td>\n",
       "      <td>2.37</td>\n",
       "      <td>...</td>\n",
       "      <td>2.26</td>\n",
       "      <td>NaN</td>\n",
       "      <td>NaN</td>\n",
       "      <td>NaN</td>\n",
       "      <td>NaN</td>\n",
       "      <td>3.55</td>\n",
       "      <td>NaN</td>\n",
       "      <td>NaN</td>\n",
       "      <td>NaN</td>\n",
       "      <td>NaN</td>\n",
       "    </tr>\n",
       "    <tr>\n",
       "      <th>4</th>\n",
       "      <td>Afghanistan</td>\n",
       "      <td>Barro-Lee: Average years of primary schooling,...</td>\n",
       "      <td>0.54</td>\n",
       "      <td>NaN</td>\n",
       "      <td>NaN</td>\n",
       "      <td>0.92</td>\n",
       "      <td>NaN</td>\n",
       "      <td>NaN</td>\n",
       "      <td>NaN</td>\n",
       "      <td>0.94</td>\n",
       "      <td>...</td>\n",
       "      <td>2.00</td>\n",
       "      <td>NaN</td>\n",
       "      <td>NaN</td>\n",
       "      <td>NaN</td>\n",
       "      <td>NaN</td>\n",
       "      <td>1.29</td>\n",
       "      <td>NaN</td>\n",
       "      <td>NaN</td>\n",
       "      <td>NaN</td>\n",
       "      <td>NaN</td>\n",
       "    </tr>\n",
       "  </tbody>\n",
       "</table>\n",
       "<p>5 rows × 29 columns</p>\n",
       "</div>"
      ],
      "text/plain": [
       "  country_name                                        series_name  1985  1986  \\\n",
       "0  Afghanistan  Barro-Lee: Average years of primary schooling,...  0.33   NaN   \n",
       "1  Afghanistan  Barro-Lee: Average years of primary schooling,...  1.03   NaN   \n",
       "2  Afghanistan  Barro-Lee: Average years of primary schooling,...  0.83   NaN   \n",
       "3  Afghanistan  Barro-Lee: Average years of primary schooling,...  2.34   NaN   \n",
       "4  Afghanistan  Barro-Lee: Average years of primary schooling,...  0.54   NaN   \n",
       "\n",
       "   1987  1990  1991  1992  1993  1995  ...  2005  2006  2007  2008  2009  \\\n",
       "0   NaN  0.44   NaN   NaN   NaN  0.57  ...  0.86   NaN   NaN   NaN   NaN   \n",
       "1   NaN  1.26   NaN   NaN   NaN  1.54  ...  2.18   NaN   NaN   NaN   NaN   \n",
       "2   NaN  0.95   NaN   NaN   NaN  1.26  ...  1.01   NaN   NaN   NaN   NaN   \n",
       "3   NaN  2.22   NaN   NaN   NaN  2.37  ...  2.26   NaN   NaN   NaN   NaN   \n",
       "4   NaN  0.92   NaN   NaN   NaN  0.94  ...  2.00   NaN   NaN   NaN   NaN   \n",
       "\n",
       "   2010  2011  2012  2013  2015  \n",
       "0  1.27   NaN   NaN   NaN   NaN  \n",
       "1  2.64   NaN   NaN   NaN   NaN  \n",
       "2  2.45   NaN   NaN   NaN   NaN  \n",
       "3  3.55   NaN   NaN   NaN   NaN  \n",
       "4  1.29   NaN   NaN   NaN   NaN  \n",
       "\n",
       "[5 rows x 29 columns]"
      ]
     },
     "execution_count": 233,
     "metadata": {},
     "output_type": "execute_result"
    }
   ],
   "source": [
    "attainment = pd.read_csv('https://raw.githubusercontent.com/Vitorg-ux/Project2020/main/educational_attainment_supplementary_data.csv')\n",
    "attainment.dropna(subset = ['country_name', 'series_name'], inplace = True)\n",
    "attainment.head()"
   ]
  },
  {
   "cell_type": "code",
   "execution_count": 234,
   "metadata": {
    "colab": {
     "base_uri": "https://localhost:8080/",
     "height": 69
    },
    "id": "znDcutwgSgzf",
    "outputId": "3b1525a0-1555-4c8d-e7ad-43d22050842a"
   },
   "outputs": [
    {
     "data": {
      "text/html": [
       "<div>\n",
       "<style scoped>\n",
       "    .dataframe tbody tr th:only-of-type {\n",
       "        vertical-align: middle;\n",
       "    }\n",
       "\n",
       "    .dataframe tbody tr th {\n",
       "        vertical-align: top;\n",
       "    }\n",
       "\n",
       "    .dataframe thead th {\n",
       "        text-align: right;\n",
       "    }\n",
       "</style>\n",
       "<table border=\"1\" class=\"dataframe\">\n",
       "  <thead>\n",
       "    <tr style=\"text-align: right;\">\n",
       "      <th></th>\n",
       "      <th>country_name</th>\n",
       "      <th>series_name</th>\n",
       "      <th>1985</th>\n",
       "      <th>1986</th>\n",
       "      <th>1987</th>\n",
       "      <th>1990</th>\n",
       "      <th>1991</th>\n",
       "      <th>1992</th>\n",
       "      <th>1993</th>\n",
       "      <th>1995</th>\n",
       "      <th>...</th>\n",
       "      <th>2005</th>\n",
       "      <th>2006</th>\n",
       "      <th>2007</th>\n",
       "      <th>2008</th>\n",
       "      <th>2009</th>\n",
       "      <th>2010</th>\n",
       "      <th>2011</th>\n",
       "      <th>2012</th>\n",
       "      <th>2013</th>\n",
       "      <th>2015</th>\n",
       "    </tr>\n",
       "  </thead>\n",
       "  <tbody>\n",
       "  </tbody>\n",
       "</table>\n",
       "<p>0 rows × 29 columns</p>\n",
       "</div>"
      ],
      "text/plain": [
       "Empty DataFrame\n",
       "Columns: [country_name, series_name, 1985, 1986, 1987, 1990, 1991, 1992, 1993, 1995, 1996, 1997, 1998, 1999, 2000, 2001, 2002, 2003, 2004, 2005, 2006, 2007, 2008, 2009, 2010, 2011, 2012, 2013, 2015]\n",
       "Index: []\n",
       "\n",
       "[0 rows x 29 columns]"
      ]
     },
     "execution_count": 234,
     "metadata": {},
     "output_type": "execute_result"
    }
   ],
   "source": [
    "attainment[attainment['country_name'].isnull()]"
   ]
  },
  {
   "cell_type": "code",
   "execution_count": 235,
   "metadata": {
    "colab": {
     "base_uri": "https://localhost:8080/",
     "height": 69
    },
    "id": "Y8JUNAvxSp8y",
    "outputId": "c4ce7f1e-b49e-4fd3-80fe-5bc18bb91b22"
   },
   "outputs": [
    {
     "data": {
      "text/html": [
       "<div>\n",
       "<style scoped>\n",
       "    .dataframe tbody tr th:only-of-type {\n",
       "        vertical-align: middle;\n",
       "    }\n",
       "\n",
       "    .dataframe tbody tr th {\n",
       "        vertical-align: top;\n",
       "    }\n",
       "\n",
       "    .dataframe thead th {\n",
       "        text-align: right;\n",
       "    }\n",
       "</style>\n",
       "<table border=\"1\" class=\"dataframe\">\n",
       "  <thead>\n",
       "    <tr style=\"text-align: right;\">\n",
       "      <th></th>\n",
       "      <th>country_name</th>\n",
       "      <th>series_name</th>\n",
       "      <th>1985</th>\n",
       "      <th>1986</th>\n",
       "      <th>1987</th>\n",
       "      <th>1990</th>\n",
       "      <th>1991</th>\n",
       "      <th>1992</th>\n",
       "      <th>1993</th>\n",
       "      <th>1995</th>\n",
       "      <th>...</th>\n",
       "      <th>2005</th>\n",
       "      <th>2006</th>\n",
       "      <th>2007</th>\n",
       "      <th>2008</th>\n",
       "      <th>2009</th>\n",
       "      <th>2010</th>\n",
       "      <th>2011</th>\n",
       "      <th>2012</th>\n",
       "      <th>2013</th>\n",
       "      <th>2015</th>\n",
       "    </tr>\n",
       "  </thead>\n",
       "  <tbody>\n",
       "  </tbody>\n",
       "</table>\n",
       "<p>0 rows × 29 columns</p>\n",
       "</div>"
      ],
      "text/plain": [
       "Empty DataFrame\n",
       "Columns: [country_name, series_name, 1985, 1986, 1987, 1990, 1991, 1992, 1993, 1995, 1996, 1997, 1998, 1999, 2000, 2001, 2002, 2003, 2004, 2005, 2006, 2007, 2008, 2009, 2010, 2011, 2012, 2013, 2015]\n",
       "Index: []\n",
       "\n",
       "[0 rows x 29 columns]"
      ]
     },
     "execution_count": 235,
     "metadata": {},
     "output_type": "execute_result"
    }
   ],
   "source": [
    "attainment[attainment['series_name'].isnull()]"
   ]
  },
  {
   "cell_type": "markdown",
   "metadata": {
    "id": "63vTA9SzXnXn"
   },
   "source": [
    "### 9. From attainment build a dataframe with the same data, but with 4 columns: country_name, series_name, year, value"
   ]
  },
  {
   "cell_type": "code",
   "execution_count": 236,
   "metadata": {
    "colab": {
     "base_uri": "https://localhost:8080/",
     "height": 419
    },
    "id": "7x0zzSpWXpfI",
    "outputId": "9d9b9e26-f8f4-413d-86e4-10a44c1d98d5"
   },
   "outputs": [
    {
     "data": {
      "text/html": [
       "<div>\n",
       "<style scoped>\n",
       "    .dataframe tbody tr th:only-of-type {\n",
       "        vertical-align: middle;\n",
       "    }\n",
       "\n",
       "    .dataframe tbody tr th {\n",
       "        vertical-align: top;\n",
       "    }\n",
       "\n",
       "    .dataframe thead th {\n",
       "        text-align: right;\n",
       "    }\n",
       "</style>\n",
       "<table border=\"1\" class=\"dataframe\">\n",
       "  <thead>\n",
       "    <tr style=\"text-align: right;\">\n",
       "      <th></th>\n",
       "      <th>country_name</th>\n",
       "      <th>series_name</th>\n",
       "      <th>year</th>\n",
       "      <th>value</th>\n",
       "    </tr>\n",
       "  </thead>\n",
       "  <tbody>\n",
       "    <tr>\n",
       "      <th>0</th>\n",
       "      <td>Afghanistan</td>\n",
       "      <td>Barro-Lee: Average years of primary schooling,...</td>\n",
       "      <td>1985</td>\n",
       "      <td>0.33</td>\n",
       "    </tr>\n",
       "    <tr>\n",
       "      <th>1</th>\n",
       "      <td>Afghanistan</td>\n",
       "      <td>Barro-Lee: Average years of primary schooling,...</td>\n",
       "      <td>1985</td>\n",
       "      <td>1.03</td>\n",
       "    </tr>\n",
       "    <tr>\n",
       "      <th>2</th>\n",
       "      <td>Afghanistan</td>\n",
       "      <td>Barro-Lee: Average years of primary schooling,...</td>\n",
       "      <td>1985</td>\n",
       "      <td>0.83</td>\n",
       "    </tr>\n",
       "    <tr>\n",
       "      <th>3</th>\n",
       "      <td>Afghanistan</td>\n",
       "      <td>Barro-Lee: Average years of primary schooling,...</td>\n",
       "      <td>1985</td>\n",
       "      <td>2.34</td>\n",
       "    </tr>\n",
       "    <tr>\n",
       "      <th>4</th>\n",
       "      <td>Afghanistan</td>\n",
       "      <td>Barro-Lee: Average years of primary schooling,...</td>\n",
       "      <td>1985</td>\n",
       "      <td>0.54</td>\n",
       "    </tr>\n",
       "    <tr>\n",
       "      <th>...</th>\n",
       "      <td>...</td>\n",
       "      <td>...</td>\n",
       "      <td>...</td>\n",
       "      <td>...</td>\n",
       "    </tr>\n",
       "    <tr>\n",
       "      <th>2134345</th>\n",
       "      <td>Zimbabwe</td>\n",
       "      <td>UIS: Percentage of population age 25+ with som...</td>\n",
       "      <td>2015</td>\n",
       "      <td>NaN</td>\n",
       "    </tr>\n",
       "    <tr>\n",
       "      <th>2134346</th>\n",
       "      <td>Zimbabwe</td>\n",
       "      <td>UIS: Percentage of population age 25+ with som...</td>\n",
       "      <td>2015</td>\n",
       "      <td>NaN</td>\n",
       "    </tr>\n",
       "    <tr>\n",
       "      <th>2134347</th>\n",
       "      <td>Zimbabwe</td>\n",
       "      <td>UIS: Percentage of population age 25+ with unk...</td>\n",
       "      <td>2015</td>\n",
       "      <td>NaN</td>\n",
       "    </tr>\n",
       "    <tr>\n",
       "      <th>2134348</th>\n",
       "      <td>Zimbabwe</td>\n",
       "      <td>UIS: Percentage of population age 25+ with unk...</td>\n",
       "      <td>2015</td>\n",
       "      <td>NaN</td>\n",
       "    </tr>\n",
       "    <tr>\n",
       "      <th>2134349</th>\n",
       "      <td>Zimbabwe</td>\n",
       "      <td>UIS: Percentage of population age 25+ with unk...</td>\n",
       "      <td>2015</td>\n",
       "      <td>NaN</td>\n",
       "    </tr>\n",
       "  </tbody>\n",
       "</table>\n",
       "<p>2134350 rows × 4 columns</p>\n",
       "</div>"
      ],
      "text/plain": [
       "        country_name                                        series_name  year  \\\n",
       "0        Afghanistan  Barro-Lee: Average years of primary schooling,...  1985   \n",
       "1        Afghanistan  Barro-Lee: Average years of primary schooling,...  1985   \n",
       "2        Afghanistan  Barro-Lee: Average years of primary schooling,...  1985   \n",
       "3        Afghanistan  Barro-Lee: Average years of primary schooling,...  1985   \n",
       "4        Afghanistan  Barro-Lee: Average years of primary schooling,...  1985   \n",
       "...              ...                                                ...   ...   \n",
       "2134345     Zimbabwe  UIS: Percentage of population age 25+ with som...  2015   \n",
       "2134346     Zimbabwe  UIS: Percentage of population age 25+ with som...  2015   \n",
       "2134347     Zimbabwe  UIS: Percentage of population age 25+ with unk...  2015   \n",
       "2134348     Zimbabwe  UIS: Percentage of population age 25+ with unk...  2015   \n",
       "2134349     Zimbabwe  UIS: Percentage of population age 25+ with unk...  2015   \n",
       "\n",
       "         value  \n",
       "0         0.33  \n",
       "1         1.03  \n",
       "2         0.83  \n",
       "3         2.34  \n",
       "4         0.54  \n",
       "...        ...  \n",
       "2134345    NaN  \n",
       "2134346    NaN  \n",
       "2134347    NaN  \n",
       "2134348    NaN  \n",
       "2134349    NaN  \n",
       "\n",
       "[2134350 rows x 4 columns]"
      ]
     },
     "execution_count": 236,
     "metadata": {},
     "output_type": "execute_result"
    }
   ],
   "source": [
    "unpivoted_attainment = pd.melt(attainment, id_vars=['country_name', 'series_name'], var_name = 'year')\n",
    "unpivoted_attainment"
   ]
  },
  {
   "cell_type": "markdown",
   "metadata": {
    "id": "MBYdBZKGYCJI"
   },
   "source": [
    "### 10. For each university, find the number of rankings in which they appear (it suffices to appear in one year for each ranking)"
   ]
  },
  {
   "cell_type": "markdown",
   "metadata": {},
   "source": [
    "Creazione dell'elenco di università contenute in ciascuno dei tre dataframe \"times\", \"shanghai\" e \"cwur\" e calcolo del numero di occorrenze."
   ]
  },
  {
   "cell_type": "code",
   "execution_count": 237,
   "metadata": {
    "colab": {
     "base_uri": "https://localhost:8080/"
    },
    "id": "PI7QivBdYDaS",
    "outputId": "af678876-dfc4-40cd-a70f-0b05530abf70"
   },
   "outputs": [
    {
     "data": {
      "text/plain": [
       "Hiroshima University                   3\n",
       "University of Basel                    3\n",
       "Queensland University of Technology    3\n",
       "University of Cincinnati               3\n",
       "Osaka Prefecture University            3\n",
       "                                      ..\n",
       "University of Goettingen               1\n",
       "Sungkyunkwan University (SKKU)         1\n",
       "St George's, University of London      1\n",
       "Palacký University in Olomouc          1\n",
       "Zhejiang University of Technology      1\n",
       "Length: 1452, dtype: int64"
      ]
     },
     "execution_count": 237,
     "metadata": {},
     "output_type": "execute_result"
    }
   ],
   "source": [
    "universities_times = pd.Series(times['university_name'].unique())\n",
    "universities_shanghai = pd.Series(shanghai['university_name'].unique())\n",
    "universities_cwur = pd.Series(cwur['university_name'].unique())\n",
    "number_of_rankinkgs = pd.concat([universities_times, universities_shanghai, universities_cwur]) \n",
    "number_of_rankinkgs.value_counts()"
   ]
  },
  {
   "cell_type": "markdown",
   "metadata": {
    "id": "hCUp5UKuwSA3"
   },
   "source": [
    "### 11. In the times ranking, compute the number of times each university appears"
   ]
  },
  {
   "cell_type": "code",
   "execution_count": 238,
   "metadata": {
    "colab": {
     "base_uri": "https://localhost:8080/"
    },
    "id": "2ojVAC-_wUFI",
    "outputId": "18b9a2c1-86a4-4860-e8e9-56f5b5c69f8e"
   },
   "outputs": [
    {
     "data": {
      "text/plain": [
       "university_name\n",
       "AGH University of Science and Technology    1\n",
       "Aalborg University                          5\n",
       "Aalto University                            5\n",
       "Aarhus University                           6\n",
       "Aberystwyth University                      5\n",
       "dtype: int64"
      ]
     },
     "execution_count": 238,
     "metadata": {},
     "output_type": "execute_result"
    }
   ],
   "source": [
    "number_times = times.groupby('university_name').size()\n",
    "number_times.head()"
   ]
  },
  {
   "cell_type": "markdown",
   "metadata": {
    "id": "t8S6JgLLwyfq"
   },
   "source": [
    "### 12. Find the universities that appear at most twice in the times ranking¶"
   ]
  },
  {
   "cell_type": "code",
   "execution_count": 239,
   "metadata": {
    "colab": {
     "base_uri": "https://localhost:8080/"
    },
    "id": "jpoLjrw-w0Uc",
    "outputId": "50f4550d-e8e0-4168-d255-61a2e6bba151"
   },
   "outputs": [
    {
     "data": {
      "text/plain": [
       "university_name\n",
       "AGH University of Science and Technology    1\n",
       "Adam Mickiewicz University                  1\n",
       "Aix-Marseille University                    1\n",
       "Ajou University                             1\n",
       "Alexandru Ioan Cuza University              1\n",
       "                                           ..\n",
       "Yokohama City University                    1\n",
       "Yokohama National University                1\n",
       "Yuan Ze University                          2\n",
       "Yıldız Technical University                 1\n",
       "Örebro University                           1\n",
       "Length: 408, dtype: int64"
      ]
     },
     "execution_count": 239,
     "metadata": {},
     "output_type": "execute_result"
    }
   ],
   "source": [
    "number_times[number_times <= 2]"
   ]
  },
  {
   "cell_type": "markdown",
   "metadata": {
    "id": "z5b7Fnl3z0yK"
   },
   "source": [
    "### 13. The universities that, in any year, have the same position in all three rankings (they must have the same position in a year)"
   ]
  },
  {
   "cell_type": "markdown",
   "metadata": {},
   "source": [
    "Conversione dei valori dei ranking a partire dalla 100esima posizione in intervalli di ampiezza pari a 100 per uniformare i valori dei ranking nei tre dataframe."
   ]
  },
  {
   "cell_type": "code",
   "execution_count": 240,
   "metadata": {
    "colab": {
     "base_uri": "https://localhost:8080/",
     "height": 374
    },
    "id": "JYqUGprkQ45b",
    "outputId": "a0c4e7c1-434d-4c08-840e-3bd585d96ac0"
   },
   "outputs": [
    {
     "data": {
      "text/plain": [
       "array([  1,   2,   3,   4,   5,   6,   8,   9,  10,  11,  12,  13,  14,\n",
       "        15,  17,  18,  19,  20,  21,  22,  23,  24,  25,  26,  27,  28,\n",
       "        29,  30,  32,  33,  34,  35,  36,  37,  38,  39,  40,  41,  42,\n",
       "        43,  47,  48,  49,  51,  52,  53,  54,  55,  56,  57,  58,  59,\n",
       "        60,  61,  63,  64,  65,  66,  67,  68,  71,  72,  73,  75,  76,\n",
       "        77,  78,  79,  81,  83,  85,  86,  87,  88,  89,  90,  93,  94,\n",
       "        95,  98,  99, 100,   7,  16,  31,  44,  45,  46,  62,  69,  70,\n",
       "        74,  80,  84,  91,  92,  96,  97, 200, 300,  50,  82, 400, 500,\n",
       "       600], dtype=int64)"
      ]
     },
     "execution_count": 240,
     "metadata": {},
     "output_type": "execute_result"
    }
   ],
   "source": [
    "times['world_rank_intervals'] = times['world_rank'].str.extract('(\\d+)\\-?\\d*')\n",
    "times['world_rank_intervals'] = pd.to_numeric(times['world_rank_intervals'] )\n",
    "times.loc[times['world_rank_intervals']>99, 'world_rank_intervals'] = times['world_rank_intervals'] // 100 * 100\n",
    "times['world_rank_intervals'].unique()"
   ]
  },
  {
   "cell_type": "code",
   "execution_count": 241,
   "metadata": {},
   "outputs": [
    {
     "data": {
      "text/plain": [
       "array([  1,   2,   3,   4,   5,   6,   7,   8,   9,  10,  11,  12,  13,\n",
       "        14,  15,  16,  17,  18,  19,  20,  21,  22,  23,  24,  25,  26,\n",
       "        27,  28,  29,  30,  31,  32,  34,  35,  36,  37,  38,  39,  41,\n",
       "        43,  45,  46,  47,  50,  51,  52,  53,  54,  55,  56,  57,  60,\n",
       "        61,  62,  63,  64,  65,  67,  69,  71,  72,  73,  75,  76,  77,\n",
       "        78,  80,  82,  83,  84,  85,  86,  87,  89,  90,  92,  93,  97,\n",
       "        98,  99, 100, 200, 300, 400,  33,  40,  42,  44,  48,  58,  59,\n",
       "        66,  68,  70,  74,  79,  81,  88,  94,  95,  96,  49,  91],\n",
       "      dtype=int64)"
      ]
     },
     "execution_count": 241,
     "metadata": {},
     "output_type": "execute_result"
    }
   ],
   "source": [
    "shanghai['world_rank_intervals'] = shanghai['world_rank'].str.extract('(\\d+)\\-?\\d*')\n",
    "shanghai['world_rank_intervals'] = pd.to_numeric(shanghai['world_rank_intervals'] )\n",
    "shanghai.loc[shanghai['world_rank_intervals']>99, 'world_rank_intervals'] = shanghai['world_rank_intervals'] // 100 * 100\n",
    "shanghai['world_rank_intervals'].unique()"
   ]
  },
  {
   "cell_type": "code",
   "execution_count": 242,
   "metadata": {},
   "outputs": [
    {
     "data": {
      "text/plain": [
       "array([   1,    2,    3,    4,    5,    6,    7,    8,    9,   10,   11,\n",
       "         12,   13,   14,   15,   16,   17,   18,   19,   20,   21,   22,\n",
       "         23,   24,   25,   26,   27,   28,   29,   30,   31,   32,   33,\n",
       "         34,   35,   36,   37,   38,   39,   40,   41,   42,   43,   44,\n",
       "         45,   46,   47,   48,   49,   50,   51,   52,   53,   54,   55,\n",
       "         56,   57,   58,   59,   60,   61,   62,   63,   64,   65,   66,\n",
       "         67,   68,   69,   70,   71,   72,   73,   74,   75,   76,   77,\n",
       "         78,   79,   80,   81,   82,   83,   84,   85,   86,   87,   88,\n",
       "         89,   90,   91,   92,   93,   94,   95,   96,   97,   98,   99,\n",
       "        100,  200,  300,  400,  500,  600,  700,  800,  900, 1000],\n",
       "      dtype=int64)"
      ]
     },
     "execution_count": 242,
     "metadata": {},
     "output_type": "execute_result"
    }
   ],
   "source": [
    "cwur['world_rank_intervals'] = cwur['world_rank']\n",
    "cwur.loc[pd.to_numeric(cwur['world_rank_intervals'])>99, 'world_rank_intervals'] = pd.to_numeric(cwur['world_rank_intervals']) // 100 * 100\n",
    "cwur['world_rank_intervals'].unique()"
   ]
  },
  {
   "cell_type": "markdown",
   "metadata": {},
   "source": [
    "Creazione di un dataframe per il confronto contenente tutti e tre i ranking."
   ]
  },
  {
   "cell_type": "code",
   "execution_count": 243,
   "metadata": {
    "scrolled": true
   },
   "outputs": [
    {
     "data": {
      "text/html": [
       "<div>\n",
       "<style scoped>\n",
       "    .dataframe tbody tr th:only-of-type {\n",
       "        vertical-align: middle;\n",
       "    }\n",
       "\n",
       "    .dataframe tbody tr th {\n",
       "        vertical-align: top;\n",
       "    }\n",
       "\n",
       "    .dataframe thead th {\n",
       "        text-align: right;\n",
       "    }\n",
       "</style>\n",
       "<table border=\"1\" class=\"dataframe\">\n",
       "  <thead>\n",
       "    <tr style=\"text-align: right;\">\n",
       "      <th></th>\n",
       "      <th>university_name</th>\n",
       "      <th>year</th>\n",
       "      <th>world_rank_intervals_times</th>\n",
       "      <th>world_rank_intervals_shanghai</th>\n",
       "      <th>world_rank_intervals_cwur</th>\n",
       "    </tr>\n",
       "  </thead>\n",
       "  <tbody>\n",
       "    <tr>\n",
       "      <th>0</th>\n",
       "      <td>California Institute of Technology</td>\n",
       "      <td>2012</td>\n",
       "      <td>1</td>\n",
       "      <td>6</td>\n",
       "      <td>5</td>\n",
       "    </tr>\n",
       "    <tr>\n",
       "      <th>1</th>\n",
       "      <td>Harvard University</td>\n",
       "      <td>2012</td>\n",
       "      <td>2</td>\n",
       "      <td>1</td>\n",
       "      <td>1</td>\n",
       "    </tr>\n",
       "    <tr>\n",
       "      <th>2</th>\n",
       "      <td>Stanford University</td>\n",
       "      <td>2012</td>\n",
       "      <td>2</td>\n",
       "      <td>2</td>\n",
       "      <td>3</td>\n",
       "    </tr>\n",
       "    <tr>\n",
       "      <th>3</th>\n",
       "      <td>University of Oxford</td>\n",
       "      <td>2012</td>\n",
       "      <td>4</td>\n",
       "      <td>10</td>\n",
       "      <td>7</td>\n",
       "    </tr>\n",
       "    <tr>\n",
       "      <th>4</th>\n",
       "      <td>Princeton University</td>\n",
       "      <td>2012</td>\n",
       "      <td>5</td>\n",
       "      <td>7</td>\n",
       "      <td>6</td>\n",
       "    </tr>\n",
       "    <tr>\n",
       "      <th>...</th>\n",
       "      <td>...</td>\n",
       "      <td>...</td>\n",
       "      <td>...</td>\n",
       "      <td>...</td>\n",
       "      <td>...</td>\n",
       "    </tr>\n",
       "    <tr>\n",
       "      <th>546</th>\n",
       "      <td>University of Graz</td>\n",
       "      <td>2015</td>\n",
       "      <td>300</td>\n",
       "      <td>400</td>\n",
       "      <td>500</td>\n",
       "    </tr>\n",
       "    <tr>\n",
       "      <th>547</th>\n",
       "      <td>University of Lisbon</td>\n",
       "      <td>2015</td>\n",
       "      <td>300</td>\n",
       "      <td>200</td>\n",
       "      <td>200</td>\n",
       "    </tr>\n",
       "    <tr>\n",
       "      <th>548</th>\n",
       "      <td>University of Turku</td>\n",
       "      <td>2015</td>\n",
       "      <td>300</td>\n",
       "      <td>300</td>\n",
       "      <td>300</td>\n",
       "    </tr>\n",
       "    <tr>\n",
       "      <th>549</th>\n",
       "      <td>University of Vermont</td>\n",
       "      <td>2015</td>\n",
       "      <td>300</td>\n",
       "      <td>300</td>\n",
       "      <td>300</td>\n",
       "    </tr>\n",
       "    <tr>\n",
       "      <th>550</th>\n",
       "      <td>Wuhan University</td>\n",
       "      <td>2015</td>\n",
       "      <td>300</td>\n",
       "      <td>300</td>\n",
       "      <td>400</td>\n",
       "    </tr>\n",
       "  </tbody>\n",
       "</table>\n",
       "<p>551 rows × 5 columns</p>\n",
       "</div>"
      ],
      "text/plain": [
       "                        university_name  year  world_rank_intervals_times  \\\n",
       "0    California Institute of Technology  2012                           1   \n",
       "1                    Harvard University  2012                           2   \n",
       "2                   Stanford University  2012                           2   \n",
       "3                  University of Oxford  2012                           4   \n",
       "4                  Princeton University  2012                           5   \n",
       "..                                  ...   ...                         ...   \n",
       "546                  University of Graz  2015                         300   \n",
       "547                University of Lisbon  2015                         300   \n",
       "548                 University of Turku  2015                         300   \n",
       "549               University of Vermont  2015                         300   \n",
       "550                    Wuhan University  2015                         300   \n",
       "\n",
       "     world_rank_intervals_shanghai  world_rank_intervals_cwur  \n",
       "0                                6                          5  \n",
       "1                                1                          1  \n",
       "2                                2                          3  \n",
       "3                               10                          7  \n",
       "4                                7                          6  \n",
       "..                             ...                        ...  \n",
       "546                            400                        500  \n",
       "547                            200                        200  \n",
       "548                            300                        300  \n",
       "549                            300                        300  \n",
       "550                            300                        400  \n",
       "\n",
       "[551 rows x 5 columns]"
      ]
     },
     "execution_count": 243,
     "metadata": {},
     "output_type": "execute_result"
    }
   ],
   "source": [
    "position = pd.merge(times[['university_name','year','world_rank_intervals']],shanghai[['university_name','year','world_rank_intervals']], on = ['university_name','year'], suffixes = ('_times','_shanghai'))\n",
    "position = pd.merge(position,cwur[['university_name','year','world_rank_intervals']], on = ['university_name','year'])\n",
    "position.rename(columns = {'world_rank_intervals' : 'world_rank_intervals_cwur'}, inplace = True)\n",
    "position"
   ]
  },
  {
   "cell_type": "markdown",
   "metadata": {},
   "source": [
    "Estrazione delle università che nello stesso anno occupano la stessa posizione nei tre ranking."
   ]
  },
  {
   "cell_type": "code",
   "execution_count": 244,
   "metadata": {},
   "outputs": [
    {
     "data": {
      "text/html": [
       "<div>\n",
       "<style scoped>\n",
       "    .dataframe tbody tr th:only-of-type {\n",
       "        vertical-align: middle;\n",
       "    }\n",
       "\n",
       "    .dataframe tbody tr th {\n",
       "        vertical-align: top;\n",
       "    }\n",
       "\n",
       "    .dataframe thead th {\n",
       "        text-align: right;\n",
       "    }\n",
       "</style>\n",
       "<table border=\"1\" class=\"dataframe\">\n",
       "  <thead>\n",
       "    <tr style=\"text-align: right;\">\n",
       "      <th></th>\n",
       "      <th>university_name</th>\n",
       "      <th>year</th>\n",
       "      <th>world_rank_intervals_times</th>\n",
       "      <th>world_rank_intervals_shanghai</th>\n",
       "      <th>world_rank_intervals_cwur</th>\n",
       "    </tr>\n",
       "  </thead>\n",
       "  <tbody>\n",
       "    <tr>\n",
       "      <th>60</th>\n",
       "      <td>Stanford University</td>\n",
       "      <td>2013</td>\n",
       "      <td>2</td>\n",
       "      <td>2</td>\n",
       "      <td>2</td>\n",
       "    </tr>\n",
       "    <tr>\n",
       "      <th>168</th>\n",
       "      <td>University of Montreal</td>\n",
       "      <td>2014</td>\n",
       "      <td>100</td>\n",
       "      <td>100</td>\n",
       "      <td>100</td>\n",
       "    </tr>\n",
       "    <tr>\n",
       "      <th>170</th>\n",
       "      <td>University of Alberta</td>\n",
       "      <td>2014</td>\n",
       "      <td>100</td>\n",
       "      <td>100</td>\n",
       "      <td>100</td>\n",
       "    </tr>\n",
       "    <tr>\n",
       "      <th>173</th>\n",
       "      <td>Technical University of Denmark</td>\n",
       "      <td>2014</td>\n",
       "      <td>100</td>\n",
       "      <td>100</td>\n",
       "      <td>100</td>\n",
       "    </tr>\n",
       "    <tr>\n",
       "      <th>175</th>\n",
       "      <td>University of Sussex</td>\n",
       "      <td>2014</td>\n",
       "      <td>100</td>\n",
       "      <td>100</td>\n",
       "      <td>100</td>\n",
       "    </tr>\n",
       "  </tbody>\n",
       "</table>\n",
       "</div>"
      ],
      "text/plain": [
       "                     university_name  year  world_rank_intervals_times  \\\n",
       "60               Stanford University  2013                           2   \n",
       "168           University of Montreal  2014                         100   \n",
       "170            University of Alberta  2014                         100   \n",
       "173  Technical University of Denmark  2014                         100   \n",
       "175             University of Sussex  2014                         100   \n",
       "\n",
       "     world_rank_intervals_shanghai  world_rank_intervals_cwur  \n",
       "60                               2                          2  \n",
       "168                            100                        100  \n",
       "170                            100                        100  \n",
       "173                            100                        100  \n",
       "175                            100                        100  "
      ]
     },
     "execution_count": 244,
     "metadata": {},
     "output_type": "execute_result"
    }
   ],
   "source": [
    "confronto[(confronto['world_rank_intervals_times'] == confronto['world_rank_intervals_cwur']) & (confronto['world_rank_intervals_shanghai'] == confronto['world_rank_intervals_cwur'])].head()"
   ]
  }
 ],
 "metadata": {
  "colab": {
   "authorship_tag": "ABX9TyOUrjjW7VePeE6xJi1YWivW",
   "include_colab_link": true,
   "mount_file_id": "1ucgSTfw2azYTfqJkm1LKlrvKuN6_cB-s",
   "name": "Untitled0.ipynb",
   "provenance": []
  },
  "kernelspec": {
   "display_name": "Python 3",
   "language": "python",
   "name": "python3"
  },
  "language_info": {
   "codemirror_mode": {
    "name": "ipython",
    "version": 3
   },
   "file_extension": ".py",
   "mimetype": "text/x-python",
   "name": "python",
   "nbconvert_exporter": "python",
   "pygments_lexer": "ipython3",
   "version": "3.8.5"
  }
 },
 "nbformat": 4,
 "nbformat_minor": 1
}
