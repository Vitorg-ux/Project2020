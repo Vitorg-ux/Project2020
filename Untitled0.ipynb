{
  "nbformat": 4,
  "nbformat_minor": 0,
  "metadata": {
    "colab": {
      "name": "Untitled0.ipynb",
      "provenance": [],
      "mount_file_id": "1ucgSTfw2azYTfqJkm1LKlrvKuN6_cB-s",
      "authorship_tag": "ABX9TyOUrjjW7VePeE6xJi1YWivW",
      "include_colab_link": true
    },
    "kernelspec": {
      "name": "python3",
      "display_name": "Python 3"
    }
  },
  "cells": [
    {
      "cell_type": "markdown",
      "metadata": {
        "id": "view-in-github",
        "colab_type": "text"
      },
      "source": [
        "<a href=\"https://colab.research.google.com/github/Vitorg-ux/Project2020/blob/main/Untitled0.ipynb\" target=\"_parent\"><img src=\"https://colab.research.google.com/assets/colab-badge.svg\" alt=\"Open In Colab\"/></a>"
      ]
    },
    {
      "cell_type": "markdown",
      "metadata": {
        "id": "gOniXwq4F6HE"
      },
      "source": [
        "# Università degli studi di Milano-Bicocca\r\n",
        "# Laurea Magistrale in Data Science\r\n",
        "# Foundations of Computer Science (2021-1-F9101Q001)"
      ]
    },
    {
      "cell_type": "markdown",
      "metadata": {
        "id": "LyOjOG_rQ_-y"
      },
      "source": [
        "[University dataset](https://drive.google.com/drive/folders/1Hs3nRtK_F3h8eg59B4-TD1DEua6g8Klv)"
      ]
    },
    {
      "cell_type": "markdown",
      "metadata": {
        "id": "T8TUiXoKoCcd"
      },
      "source": [
        "Importazione delle librerie."
      ]
    },
    {
      "cell_type": "code",
      "metadata": {
        "id": "5XAM3hKzoJRw"
      },
      "source": [
        "import pandas as pd\r\n",
        "import re\r\n",
        "import numpy as np"
      ],
      "execution_count": 1,
      "outputs": []
    },
    {
      "cell_type": "markdown",
      "metadata": {
        "id": "P_zkS2eyoTzv"
      },
      "source": [
        "Importazione del dataset \"timesData.csv\", specificando che la virgola viene utilizzata come separatore per le migliaia, in modo che i dati contenuti nella colonna \"num_students\" vengano letti correttamente.\r\n"
      ]
    },
    {
      "cell_type": "code",
      "metadata": {
        "colab": {
          "base_uri": "https://localhost:8080/",
          "height": 479
        },
        "id": "StL0xuAeodMc",
        "outputId": "e4c637e1-5394-4944-acb2-53e7a9bd7df3"
      },
      "source": [
        "times = pd.read_csv('/content/drive/MyDrive/Colab Notebooks/timesData.csv', thousands = ',', na_values = '-')\r\n",
        "times.head()"
      ],
      "execution_count": 2,
      "outputs": [
        {
          "output_type": "execute_result",
          "data": {
            "text/html": [
              "<div>\n",
              "<style scoped>\n",
              "    .dataframe tbody tr th:only-of-type {\n",
              "        vertical-align: middle;\n",
              "    }\n",
              "\n",
              "    .dataframe tbody tr th {\n",
              "        vertical-align: top;\n",
              "    }\n",
              "\n",
              "    .dataframe thead th {\n",
              "        text-align: right;\n",
              "    }\n",
              "</style>\n",
              "<table border=\"1\" class=\"dataframe\">\n",
              "  <thead>\n",
              "    <tr style=\"text-align: right;\">\n",
              "      <th></th>\n",
              "      <th>world_rank</th>\n",
              "      <th>university_name</th>\n",
              "      <th>country</th>\n",
              "      <th>teaching</th>\n",
              "      <th>international</th>\n",
              "      <th>research</th>\n",
              "      <th>citations</th>\n",
              "      <th>income</th>\n",
              "      <th>total_score</th>\n",
              "      <th>num_students</th>\n",
              "      <th>student_staff_ratio</th>\n",
              "      <th>international_students</th>\n",
              "      <th>female_male_ratio</th>\n",
              "      <th>year</th>\n",
              "    </tr>\n",
              "  </thead>\n",
              "  <tbody>\n",
              "    <tr>\n",
              "      <th>0</th>\n",
              "      <td>1</td>\n",
              "      <td>Harvard University</td>\n",
              "      <td>United States of America</td>\n",
              "      <td>99.7</td>\n",
              "      <td>72.4</td>\n",
              "      <td>98.7</td>\n",
              "      <td>98.8</td>\n",
              "      <td>34.5</td>\n",
              "      <td>96.1</td>\n",
              "      <td>20152.0</td>\n",
              "      <td>8.9</td>\n",
              "      <td>25%</td>\n",
              "      <td>NaN</td>\n",
              "      <td>2011</td>\n",
              "    </tr>\n",
              "    <tr>\n",
              "      <th>1</th>\n",
              "      <td>2</td>\n",
              "      <td>California Institute of Technology</td>\n",
              "      <td>United States of America</td>\n",
              "      <td>97.7</td>\n",
              "      <td>54.6</td>\n",
              "      <td>98.0</td>\n",
              "      <td>99.9</td>\n",
              "      <td>83.7</td>\n",
              "      <td>96.0</td>\n",
              "      <td>2243.0</td>\n",
              "      <td>6.9</td>\n",
              "      <td>27%</td>\n",
              "      <td>33 : 67</td>\n",
              "      <td>2011</td>\n",
              "    </tr>\n",
              "    <tr>\n",
              "      <th>2</th>\n",
              "      <td>3</td>\n",
              "      <td>Massachusetts Institute of Technology</td>\n",
              "      <td>United States of America</td>\n",
              "      <td>97.8</td>\n",
              "      <td>82.3</td>\n",
              "      <td>91.4</td>\n",
              "      <td>99.9</td>\n",
              "      <td>87.5</td>\n",
              "      <td>95.6</td>\n",
              "      <td>11074.0</td>\n",
              "      <td>9.0</td>\n",
              "      <td>33%</td>\n",
              "      <td>37 : 63</td>\n",
              "      <td>2011</td>\n",
              "    </tr>\n",
              "    <tr>\n",
              "      <th>3</th>\n",
              "      <td>4</td>\n",
              "      <td>Stanford University</td>\n",
              "      <td>United States of America</td>\n",
              "      <td>98.3</td>\n",
              "      <td>29.5</td>\n",
              "      <td>98.1</td>\n",
              "      <td>99.2</td>\n",
              "      <td>64.3</td>\n",
              "      <td>94.3</td>\n",
              "      <td>15596.0</td>\n",
              "      <td>7.8</td>\n",
              "      <td>22%</td>\n",
              "      <td>42 : 58</td>\n",
              "      <td>2011</td>\n",
              "    </tr>\n",
              "    <tr>\n",
              "      <th>4</th>\n",
              "      <td>5</td>\n",
              "      <td>Princeton University</td>\n",
              "      <td>United States of America</td>\n",
              "      <td>90.9</td>\n",
              "      <td>70.3</td>\n",
              "      <td>95.4</td>\n",
              "      <td>99.9</td>\n",
              "      <td>NaN</td>\n",
              "      <td>94.2</td>\n",
              "      <td>7929.0</td>\n",
              "      <td>8.4</td>\n",
              "      <td>27%</td>\n",
              "      <td>45 : 55</td>\n",
              "      <td>2011</td>\n",
              "    </tr>\n",
              "  </tbody>\n",
              "</table>\n",
              "</div>"
            ],
            "text/plain": [
              "  world_rank                        university_name  ... female_male_ratio  year\n",
              "0          1                     Harvard University  ...               NaN  2011\n",
              "1          2     California Institute of Technology  ...           33 : 67  2011\n",
              "2          3  Massachusetts Institute of Technology  ...           37 : 63  2011\n",
              "3          4                    Stanford University  ...           42 : 58  2011\n",
              "4          5                   Princeton University  ...           45 : 55  2011\n",
              "\n",
              "[5 rows x 14 columns]"
            ]
          },
          "metadata": {
            "tags": []
          },
          "execution_count": 2
        }
      ]
    },
    {
      "cell_type": "markdown",
      "metadata": {
        "id": "YOpbx3ytoz0Z"
      },
      "source": [
        "Importazione del dataset \"ShanghaiData.csv\"."
      ]
    },
    {
      "cell_type": "code",
      "metadata": {
        "colab": {
          "base_uri": "https://localhost:8080/",
          "height": 272
        },
        "id": "xkKv3DZmo3eb",
        "outputId": "9bb5c7fa-9ea8-4e55-fb01-d3dae1c0d145"
      },
      "source": [
        "shanghai = pd.read_csv('/content/drive/MyDrive/Colab Notebooks/shanghaiData.csv')\r\n",
        "shanghai.head()"
      ],
      "execution_count": 3,
      "outputs": [
        {
          "output_type": "execute_result",
          "data": {
            "text/html": [
              "<div>\n",
              "<style scoped>\n",
              "    .dataframe tbody tr th:only-of-type {\n",
              "        vertical-align: middle;\n",
              "    }\n",
              "\n",
              "    .dataframe tbody tr th {\n",
              "        vertical-align: top;\n",
              "    }\n",
              "\n",
              "    .dataframe thead th {\n",
              "        text-align: right;\n",
              "    }\n",
              "</style>\n",
              "<table border=\"1\" class=\"dataframe\">\n",
              "  <thead>\n",
              "    <tr style=\"text-align: right;\">\n",
              "      <th></th>\n",
              "      <th>world_rank</th>\n",
              "      <th>university_name</th>\n",
              "      <th>national_rank</th>\n",
              "      <th>total_score</th>\n",
              "      <th>alumni</th>\n",
              "      <th>award</th>\n",
              "      <th>hici</th>\n",
              "      <th>ns</th>\n",
              "      <th>pub</th>\n",
              "      <th>pcp</th>\n",
              "      <th>year</th>\n",
              "    </tr>\n",
              "  </thead>\n",
              "  <tbody>\n",
              "    <tr>\n",
              "      <th>0</th>\n",
              "      <td>1</td>\n",
              "      <td>Harvard University</td>\n",
              "      <td>1</td>\n",
              "      <td>100.0</td>\n",
              "      <td>100.0</td>\n",
              "      <td>100.0</td>\n",
              "      <td>100.0</td>\n",
              "      <td>100.0</td>\n",
              "      <td>100.0</td>\n",
              "      <td>72.4</td>\n",
              "      <td>2005</td>\n",
              "    </tr>\n",
              "    <tr>\n",
              "      <th>1</th>\n",
              "      <td>2</td>\n",
              "      <td>University of Cambridge</td>\n",
              "      <td>1</td>\n",
              "      <td>73.6</td>\n",
              "      <td>99.8</td>\n",
              "      <td>93.4</td>\n",
              "      <td>53.3</td>\n",
              "      <td>56.6</td>\n",
              "      <td>70.9</td>\n",
              "      <td>66.9</td>\n",
              "      <td>2005</td>\n",
              "    </tr>\n",
              "    <tr>\n",
              "      <th>2</th>\n",
              "      <td>3</td>\n",
              "      <td>Stanford University</td>\n",
              "      <td>2</td>\n",
              "      <td>73.4</td>\n",
              "      <td>41.1</td>\n",
              "      <td>72.2</td>\n",
              "      <td>88.5</td>\n",
              "      <td>70.9</td>\n",
              "      <td>72.3</td>\n",
              "      <td>65.0</td>\n",
              "      <td>2005</td>\n",
              "    </tr>\n",
              "    <tr>\n",
              "      <th>3</th>\n",
              "      <td>4</td>\n",
              "      <td>University of California, Berkeley</td>\n",
              "      <td>3</td>\n",
              "      <td>72.8</td>\n",
              "      <td>71.8</td>\n",
              "      <td>76.0</td>\n",
              "      <td>69.4</td>\n",
              "      <td>73.9</td>\n",
              "      <td>72.2</td>\n",
              "      <td>52.7</td>\n",
              "      <td>2005</td>\n",
              "    </tr>\n",
              "    <tr>\n",
              "      <th>4</th>\n",
              "      <td>5</td>\n",
              "      <td>Massachusetts Institute of Technology (MIT)</td>\n",
              "      <td>4</td>\n",
              "      <td>70.1</td>\n",
              "      <td>74.0</td>\n",
              "      <td>80.6</td>\n",
              "      <td>66.7</td>\n",
              "      <td>65.8</td>\n",
              "      <td>64.3</td>\n",
              "      <td>53.0</td>\n",
              "      <td>2005</td>\n",
              "    </tr>\n",
              "  </tbody>\n",
              "</table>\n",
              "</div>"
            ],
            "text/plain": [
              "  world_rank                              university_name  ...   pcp  year\n",
              "0          1                           Harvard University  ...  72.4  2005\n",
              "1          2                      University of Cambridge  ...  66.9  2005\n",
              "2          3                          Stanford University  ...  65.0  2005\n",
              "3          4           University of California, Berkeley  ...  52.7  2005\n",
              "4          5  Massachusetts Institute of Technology (MIT)  ...  53.0  2005\n",
              "\n",
              "[5 rows x 11 columns]"
            ]
          },
          "metadata": {
            "tags": []
          },
          "execution_count": 3
        }
      ]
    },
    {
      "cell_type": "markdown",
      "metadata": {
        "id": "v1ekXykzo_6Q"
      },
      "source": [
        "Importazione del dataset \"cwurData.csv\"."
      ]
    },
    {
      "cell_type": "code",
      "metadata": {
        "colab": {
          "base_uri": "https://localhost:8080/",
          "height": 343
        },
        "id": "mofOdb3apDc9",
        "outputId": "acc81b27-a3b7-4ad1-88b2-1713350e7099"
      },
      "source": [
        "cwur = pd.read_csv('/content/drive/MyDrive/Colab Notebooks/cwurData.csv')\r\n",
        "cwur.head()"
      ],
      "execution_count": 4,
      "outputs": [
        {
          "output_type": "execute_result",
          "data": {
            "text/html": [
              "<div>\n",
              "<style scoped>\n",
              "    .dataframe tbody tr th:only-of-type {\n",
              "        vertical-align: middle;\n",
              "    }\n",
              "\n",
              "    .dataframe tbody tr th {\n",
              "        vertical-align: top;\n",
              "    }\n",
              "\n",
              "    .dataframe thead th {\n",
              "        text-align: right;\n",
              "    }\n",
              "</style>\n",
              "<table border=\"1\" class=\"dataframe\">\n",
              "  <thead>\n",
              "    <tr style=\"text-align: right;\">\n",
              "      <th></th>\n",
              "      <th>world_rank</th>\n",
              "      <th>institution</th>\n",
              "      <th>country</th>\n",
              "      <th>national_rank</th>\n",
              "      <th>quality_of_education</th>\n",
              "      <th>alumni_employment</th>\n",
              "      <th>quality_of_faculty</th>\n",
              "      <th>publications</th>\n",
              "      <th>influence</th>\n",
              "      <th>citations</th>\n",
              "      <th>broad_impact</th>\n",
              "      <th>patents</th>\n",
              "      <th>score</th>\n",
              "      <th>year</th>\n",
              "    </tr>\n",
              "  </thead>\n",
              "  <tbody>\n",
              "    <tr>\n",
              "      <th>0</th>\n",
              "      <td>1</td>\n",
              "      <td>Harvard University</td>\n",
              "      <td>USA</td>\n",
              "      <td>1</td>\n",
              "      <td>7</td>\n",
              "      <td>9</td>\n",
              "      <td>1</td>\n",
              "      <td>1</td>\n",
              "      <td>1</td>\n",
              "      <td>1</td>\n",
              "      <td>NaN</td>\n",
              "      <td>5</td>\n",
              "      <td>100.00</td>\n",
              "      <td>2012</td>\n",
              "    </tr>\n",
              "    <tr>\n",
              "      <th>1</th>\n",
              "      <td>2</td>\n",
              "      <td>Massachusetts Institute of Technology</td>\n",
              "      <td>USA</td>\n",
              "      <td>2</td>\n",
              "      <td>9</td>\n",
              "      <td>17</td>\n",
              "      <td>3</td>\n",
              "      <td>12</td>\n",
              "      <td>4</td>\n",
              "      <td>4</td>\n",
              "      <td>NaN</td>\n",
              "      <td>1</td>\n",
              "      <td>91.67</td>\n",
              "      <td>2012</td>\n",
              "    </tr>\n",
              "    <tr>\n",
              "      <th>2</th>\n",
              "      <td>3</td>\n",
              "      <td>Stanford University</td>\n",
              "      <td>USA</td>\n",
              "      <td>3</td>\n",
              "      <td>17</td>\n",
              "      <td>11</td>\n",
              "      <td>5</td>\n",
              "      <td>4</td>\n",
              "      <td>2</td>\n",
              "      <td>2</td>\n",
              "      <td>NaN</td>\n",
              "      <td>15</td>\n",
              "      <td>89.50</td>\n",
              "      <td>2012</td>\n",
              "    </tr>\n",
              "    <tr>\n",
              "      <th>3</th>\n",
              "      <td>4</td>\n",
              "      <td>University of Cambridge</td>\n",
              "      <td>United Kingdom</td>\n",
              "      <td>1</td>\n",
              "      <td>10</td>\n",
              "      <td>24</td>\n",
              "      <td>4</td>\n",
              "      <td>16</td>\n",
              "      <td>16</td>\n",
              "      <td>11</td>\n",
              "      <td>NaN</td>\n",
              "      <td>50</td>\n",
              "      <td>86.17</td>\n",
              "      <td>2012</td>\n",
              "    </tr>\n",
              "    <tr>\n",
              "      <th>4</th>\n",
              "      <td>5</td>\n",
              "      <td>California Institute of Technology</td>\n",
              "      <td>USA</td>\n",
              "      <td>4</td>\n",
              "      <td>2</td>\n",
              "      <td>29</td>\n",
              "      <td>7</td>\n",
              "      <td>37</td>\n",
              "      <td>22</td>\n",
              "      <td>22</td>\n",
              "      <td>NaN</td>\n",
              "      <td>18</td>\n",
              "      <td>85.21</td>\n",
              "      <td>2012</td>\n",
              "    </tr>\n",
              "  </tbody>\n",
              "</table>\n",
              "</div>"
            ],
            "text/plain": [
              "   world_rank                            institution  ...   score  year\n",
              "0           1                     Harvard University  ...  100.00  2012\n",
              "1           2  Massachusetts Institute of Technology  ...   91.67  2012\n",
              "2           3                    Stanford University  ...   89.50  2012\n",
              "3           4                University of Cambridge  ...   86.17  2012\n",
              "4           5     California Institute of Technology  ...   85.21  2012\n",
              "\n",
              "[5 rows x 14 columns]"
            ]
          },
          "metadata": {
            "tags": []
          },
          "execution_count": 4
        }
      ]
    },
    {
      "cell_type": "markdown",
      "metadata": {
        "id": "zngp-6mpU9KZ"
      },
      "source": [
        "## 1. For each university, extract from the times dataset the most recent and the least recent data, obtaining two separate dataframes"
      ]
    },
    {
      "cell_type": "markdown",
      "metadata": {
        "id": "cKq42AxbHw_e"
      },
      "source": [
        "Creazione del dataframe \"times_most_recent\", contenente i dati più recenti (ossia associati al massimo valore possibile nella colonna \"year\") relativi a ciascuna università presente nel dataframe \"times\"."
      ]
    },
    {
      "cell_type": "code",
      "metadata": {
        "id": "bixQqw1tnKbu",
        "colab": {
          "base_uri": "https://localhost:8080/",
          "height": 275
        },
        "outputId": "f5084d91-9d5c-4e67-8062-c2be552388e3"
      },
      "source": [
        "times_most_recent = times.loc[times.groupby('university_name')['year'].idxmax()]\r\n",
        "times_most_recent.head()"
      ],
      "execution_count": 5,
      "outputs": [
        {
          "output_type": "execute_result",
          "data": {
            "text/html": [
              "<div>\n",
              "<style scoped>\n",
              "    .dataframe tbody tr th:only-of-type {\n",
              "        vertical-align: middle;\n",
              "    }\n",
              "\n",
              "    .dataframe tbody tr th {\n",
              "        vertical-align: top;\n",
              "    }\n",
              "\n",
              "    .dataframe thead th {\n",
              "        text-align: right;\n",
              "    }\n",
              "</style>\n",
              "<table border=\"1\" class=\"dataframe\">\n",
              "  <thead>\n",
              "    <tr style=\"text-align: right;\">\n",
              "      <th></th>\n",
              "      <th>world_rank</th>\n",
              "      <th>university_name</th>\n",
              "      <th>country</th>\n",
              "      <th>teaching</th>\n",
              "      <th>international</th>\n",
              "      <th>research</th>\n",
              "      <th>citations</th>\n",
              "      <th>income</th>\n",
              "      <th>total_score</th>\n",
              "      <th>num_students</th>\n",
              "      <th>student_staff_ratio</th>\n",
              "      <th>international_students</th>\n",
              "      <th>female_male_ratio</th>\n",
              "      <th>year</th>\n",
              "    </tr>\n",
              "  </thead>\n",
              "  <tbody>\n",
              "    <tr>\n",
              "      <th>2405</th>\n",
              "      <td>601-800</td>\n",
              "      <td>AGH University of Science and Technology</td>\n",
              "      <td>Poland</td>\n",
              "      <td>14.2</td>\n",
              "      <td>17.9</td>\n",
              "      <td>3.7</td>\n",
              "      <td>35.7</td>\n",
              "      <td>NaN</td>\n",
              "      <td>NaN</td>\n",
              "      <td>35569.0</td>\n",
              "      <td>17.0</td>\n",
              "      <td>1%</td>\n",
              "      <td>NaN</td>\n",
              "      <td>2016</td>\n",
              "    </tr>\n",
              "    <tr>\n",
              "      <th>2003</th>\n",
              "      <td>201-250</td>\n",
              "      <td>Aalborg University</td>\n",
              "      <td>Denmark</td>\n",
              "      <td>25.1</td>\n",
              "      <td>71.0</td>\n",
              "      <td>28.4</td>\n",
              "      <td>73.8</td>\n",
              "      <td>43.7</td>\n",
              "      <td>NaN</td>\n",
              "      <td>17422.0</td>\n",
              "      <td>15.9</td>\n",
              "      <td>15%</td>\n",
              "      <td>48 : 52</td>\n",
              "      <td>2016</td>\n",
              "    </tr>\n",
              "    <tr>\n",
              "      <th>2056</th>\n",
              "      <td>251-300</td>\n",
              "      <td>Aalto University</td>\n",
              "      <td>Finland</td>\n",
              "      <td>31.1</td>\n",
              "      <td>65.4</td>\n",
              "      <td>32.8</td>\n",
              "      <td>62.1</td>\n",
              "      <td>61.6</td>\n",
              "      <td>NaN</td>\n",
              "      <td>16099.0</td>\n",
              "      <td>24.2</td>\n",
              "      <td>17%</td>\n",
              "      <td>32 : 68</td>\n",
              "      <td>2016</td>\n",
              "    </tr>\n",
              "    <tr>\n",
              "      <th>1908</th>\n",
              "      <td>=106</td>\n",
              "      <td>Aarhus University</td>\n",
              "      <td>Denmark</td>\n",
              "      <td>36.9</td>\n",
              "      <td>76.8</td>\n",
              "      <td>50.7</td>\n",
              "      <td>79.8</td>\n",
              "      <td>68.3</td>\n",
              "      <td>57.7</td>\n",
              "      <td>23895.0</td>\n",
              "      <td>13.6</td>\n",
              "      <td>14%</td>\n",
              "      <td>54 : 46</td>\n",
              "      <td>2016</td>\n",
              "    </tr>\n",
              "    <tr>\n",
              "      <th>2105</th>\n",
              "      <td>301-350</td>\n",
              "      <td>Aberystwyth University</td>\n",
              "      <td>United Kingdom</td>\n",
              "      <td>21.6</td>\n",
              "      <td>72.2</td>\n",
              "      <td>18.9</td>\n",
              "      <td>67.2</td>\n",
              "      <td>31.3</td>\n",
              "      <td>NaN</td>\n",
              "      <td>9252.0</td>\n",
              "      <td>19.2</td>\n",
              "      <td>18%</td>\n",
              "      <td>48 : 52</td>\n",
              "      <td>2016</td>\n",
              "    </tr>\n",
              "  </tbody>\n",
              "</table>\n",
              "</div>"
            ],
            "text/plain": [
              "     world_rank  ...  year\n",
              "2405    601-800  ...  2016\n",
              "2003    201-250  ...  2016\n",
              "2056    251-300  ...  2016\n",
              "1908       =106  ...  2016\n",
              "2105    301-350  ...  2016\n",
              "\n",
              "[5 rows x 14 columns]"
            ]
          },
          "metadata": {
            "tags": []
          },
          "execution_count": 5
        }
      ]
    },
    {
      "cell_type": "markdown",
      "metadata": {
        "id": "NUTLpKR5IyYZ"
      },
      "source": [
        "Creazione del dataframe \"times_least_recent\", contenente i dati meno recenti (ossia associati al minimo valore possibile nella colonna \"year\") relativi a ciascuna università presente nel dataframe \"times\"."
      ]
    },
    {
      "cell_type": "code",
      "metadata": {
        "id": "n-5FxI77bWqB",
        "colab": {
          "base_uri": "https://localhost:8080/",
          "height": 275
        },
        "outputId": "be2f6f00-6bac-4fc2-f1bf-ae22b27f5561"
      },
      "source": [
        "times_least_recent = times.iloc[times.groupby('university_name')['year'].idxmin()]\r\n",
        "times_least_recent.head()"
      ],
      "execution_count": 6,
      "outputs": [
        {
          "output_type": "execute_result",
          "data": {
            "text/html": [
              "<div>\n",
              "<style scoped>\n",
              "    .dataframe tbody tr th:only-of-type {\n",
              "        vertical-align: middle;\n",
              "    }\n",
              "\n",
              "    .dataframe tbody tr th {\n",
              "        vertical-align: top;\n",
              "    }\n",
              "\n",
              "    .dataframe thead th {\n",
              "        text-align: right;\n",
              "    }\n",
              "</style>\n",
              "<table border=\"1\" class=\"dataframe\">\n",
              "  <thead>\n",
              "    <tr style=\"text-align: right;\">\n",
              "      <th></th>\n",
              "      <th>world_rank</th>\n",
              "      <th>university_name</th>\n",
              "      <th>country</th>\n",
              "      <th>teaching</th>\n",
              "      <th>international</th>\n",
              "      <th>research</th>\n",
              "      <th>citations</th>\n",
              "      <th>income</th>\n",
              "      <th>total_score</th>\n",
              "      <th>num_students</th>\n",
              "      <th>student_staff_ratio</th>\n",
              "      <th>international_students</th>\n",
              "      <th>female_male_ratio</th>\n",
              "      <th>year</th>\n",
              "    </tr>\n",
              "  </thead>\n",
              "  <tbody>\n",
              "    <tr>\n",
              "      <th>2405</th>\n",
              "      <td>601-800</td>\n",
              "      <td>AGH University of Science and Technology</td>\n",
              "      <td>Poland</td>\n",
              "      <td>14.2</td>\n",
              "      <td>17.9</td>\n",
              "      <td>3.7</td>\n",
              "      <td>35.7</td>\n",
              "      <td>NaN</td>\n",
              "      <td>NaN</td>\n",
              "      <td>35569.0</td>\n",
              "      <td>17.0</td>\n",
              "      <td>1%</td>\n",
              "      <td>NaN</td>\n",
              "      <td>2016</td>\n",
              "    </tr>\n",
              "    <tr>\n",
              "      <th>501</th>\n",
              "      <td>301-350</td>\n",
              "      <td>Aalborg University</td>\n",
              "      <td>Denmark</td>\n",
              "      <td>19.0</td>\n",
              "      <td>75.3</td>\n",
              "      <td>20.0</td>\n",
              "      <td>27.1</td>\n",
              "      <td>36.4</td>\n",
              "      <td>NaN</td>\n",
              "      <td>17422.0</td>\n",
              "      <td>15.9</td>\n",
              "      <td>15%</td>\n",
              "      <td>48 : 52</td>\n",
              "      <td>2012</td>\n",
              "    </tr>\n",
              "    <tr>\n",
              "      <th>502</th>\n",
              "      <td>301-350</td>\n",
              "      <td>Aalto University</td>\n",
              "      <td>Finland</td>\n",
              "      <td>26.2</td>\n",
              "      <td>49.0</td>\n",
              "      <td>22.2</td>\n",
              "      <td>37.5</td>\n",
              "      <td>61.9</td>\n",
              "      <td>NaN</td>\n",
              "      <td>16099.0</td>\n",
              "      <td>24.2</td>\n",
              "      <td>17%</td>\n",
              "      <td>32 : 68</td>\n",
              "      <td>2012</td>\n",
              "    </tr>\n",
              "    <tr>\n",
              "      <th>166</th>\n",
              "      <td>167</td>\n",
              "      <td>Aarhus University</td>\n",
              "      <td>Denmark</td>\n",
              "      <td>38.1</td>\n",
              "      <td>33.4</td>\n",
              "      <td>55.6</td>\n",
              "      <td>57.3</td>\n",
              "      <td>61.5</td>\n",
              "      <td>49.9</td>\n",
              "      <td>23895.0</td>\n",
              "      <td>13.6</td>\n",
              "      <td>14%</td>\n",
              "      <td>54 : 46</td>\n",
              "      <td>2011</td>\n",
              "    </tr>\n",
              "    <tr>\n",
              "      <th>476</th>\n",
              "      <td>276-300</td>\n",
              "      <td>Aberystwyth University</td>\n",
              "      <td>United Kingdom</td>\n",
              "      <td>19.8</td>\n",
              "      <td>63.8</td>\n",
              "      <td>15.5</td>\n",
              "      <td>56.6</td>\n",
              "      <td>35.5</td>\n",
              "      <td>NaN</td>\n",
              "      <td>9252.0</td>\n",
              "      <td>19.2</td>\n",
              "      <td>18%</td>\n",
              "      <td>48 : 52</td>\n",
              "      <td>2012</td>\n",
              "    </tr>\n",
              "  </tbody>\n",
              "</table>\n",
              "</div>"
            ],
            "text/plain": [
              "     world_rank  ...  year\n",
              "2405    601-800  ...  2016\n",
              "501     301-350  ...  2012\n",
              "502     301-350  ...  2012\n",
              "166         167  ...  2011\n",
              "476     276-300  ...  2012\n",
              "\n",
              "[5 rows x 14 columns]"
            ]
          },
          "metadata": {
            "tags": []
          },
          "execution_count": 6
        }
      ]
    },
    {
      "cell_type": "markdown",
      "metadata": {
        "id": "9tIp0XuenUx2"
      },
      "source": [
        "## 2. For each university, compute the improvement in income between the least recent and the most recent data points"
      ]
    },
    {
      "cell_type": "markdown",
      "metadata": {
        "id": "qAG2-pyRJXug"
      },
      "source": [
        "Creazione del dataframe \"times_least_most_recent\" effettuando un join dei dataframe \"times_least_recent\" e \"times_most_recent\". "
      ]
    },
    {
      "cell_type": "code",
      "metadata": {
        "colab": {
          "base_uri": "https://localhost:8080/",
          "height": 221
        },
        "id": "GTYkRxlqnXxN",
        "outputId": "746b0b23-df6e-454f-e0ed-94579c2ffaa7"
      },
      "source": [
        "times_least_most_recent = pd.merge(times_least_recent[['university_name', 'year', 'income']], times_most_recent[['university_name', 'year', 'income']], on = ['university_name'], suffixes = ('_least_recent', '_most_recent'))\r\n",
        "times_least_most_recent.head()"
      ],
      "execution_count": 7,
      "outputs": [
        {
          "output_type": "execute_result",
          "data": {
            "text/html": [
              "<div>\n",
              "<style scoped>\n",
              "    .dataframe tbody tr th:only-of-type {\n",
              "        vertical-align: middle;\n",
              "    }\n",
              "\n",
              "    .dataframe tbody tr th {\n",
              "        vertical-align: top;\n",
              "    }\n",
              "\n",
              "    .dataframe thead th {\n",
              "        text-align: right;\n",
              "    }\n",
              "</style>\n",
              "<table border=\"1\" class=\"dataframe\">\n",
              "  <thead>\n",
              "    <tr style=\"text-align: right;\">\n",
              "      <th></th>\n",
              "      <th>university_name</th>\n",
              "      <th>year_least_recent</th>\n",
              "      <th>income_least_recent</th>\n",
              "      <th>year_most_recent</th>\n",
              "      <th>income_most_recent</th>\n",
              "    </tr>\n",
              "  </thead>\n",
              "  <tbody>\n",
              "    <tr>\n",
              "      <th>0</th>\n",
              "      <td>AGH University of Science and Technology</td>\n",
              "      <td>2016</td>\n",
              "      <td>NaN</td>\n",
              "      <td>2016</td>\n",
              "      <td>NaN</td>\n",
              "    </tr>\n",
              "    <tr>\n",
              "      <th>1</th>\n",
              "      <td>Aalborg University</td>\n",
              "      <td>2012</td>\n",
              "      <td>36.4</td>\n",
              "      <td>2016</td>\n",
              "      <td>43.7</td>\n",
              "    </tr>\n",
              "    <tr>\n",
              "      <th>2</th>\n",
              "      <td>Aalto University</td>\n",
              "      <td>2012</td>\n",
              "      <td>61.9</td>\n",
              "      <td>2016</td>\n",
              "      <td>61.6</td>\n",
              "    </tr>\n",
              "    <tr>\n",
              "      <th>3</th>\n",
              "      <td>Aarhus University</td>\n",
              "      <td>2011</td>\n",
              "      <td>61.5</td>\n",
              "      <td>2016</td>\n",
              "      <td>68.3</td>\n",
              "    </tr>\n",
              "    <tr>\n",
              "      <th>4</th>\n",
              "      <td>Aberystwyth University</td>\n",
              "      <td>2012</td>\n",
              "      <td>35.5</td>\n",
              "      <td>2016</td>\n",
              "      <td>31.3</td>\n",
              "    </tr>\n",
              "  </tbody>\n",
              "</table>\n",
              "</div>"
            ],
            "text/plain": [
              "                            university_name  ...  income_most_recent\n",
              "0  AGH University of Science and Technology  ...                 NaN\n",
              "1                        Aalborg University  ...                43.7\n",
              "2                          Aalto University  ...                61.6\n",
              "3                         Aarhus University  ...                68.3\n",
              "4                    Aberystwyth University  ...                31.3\n",
              "\n",
              "[5 rows x 5 columns]"
            ]
          },
          "metadata": {
            "tags": []
          },
          "execution_count": 7
        }
      ]
    },
    {
      "cell_type": "markdown",
      "metadata": {
        "id": "OoDoFOXOLzN7"
      },
      "source": [
        "Calcolo del miglioramento di reddito (\"income_most_recent\" - \"income_least_recent\") tra i dati più recenti e quelli meno recenti per ciascuna università."
      ]
    },
    {
      "cell_type": "code",
      "metadata": {
        "colab": {
          "base_uri": "https://localhost:8080/",
          "height": 275
        },
        "id": "_DMDRqocyiv_",
        "outputId": "f9f0f790-6892-4bff-b701-76993a06440a"
      },
      "source": [
        "times_least_most_recent['improvement'] = pd.to_numeric(times_least_most_recent['income_most_recent']) - pd.to_numeric(times_least_most_recent['income_least_recent'])\r\n",
        "times_least_most_recent.head()"
      ],
      "execution_count": 8,
      "outputs": [
        {
          "output_type": "execute_result",
          "data": {
            "text/html": [
              "<div>\n",
              "<style scoped>\n",
              "    .dataframe tbody tr th:only-of-type {\n",
              "        vertical-align: middle;\n",
              "    }\n",
              "\n",
              "    .dataframe tbody tr th {\n",
              "        vertical-align: top;\n",
              "    }\n",
              "\n",
              "    .dataframe thead th {\n",
              "        text-align: right;\n",
              "    }\n",
              "</style>\n",
              "<table border=\"1\" class=\"dataframe\">\n",
              "  <thead>\n",
              "    <tr style=\"text-align: right;\">\n",
              "      <th></th>\n",
              "      <th>university_name</th>\n",
              "      <th>year_least_recent</th>\n",
              "      <th>income_least_recent</th>\n",
              "      <th>year_most_recent</th>\n",
              "      <th>income_most_recent</th>\n",
              "      <th>improvement</th>\n",
              "    </tr>\n",
              "  </thead>\n",
              "  <tbody>\n",
              "    <tr>\n",
              "      <th>0</th>\n",
              "      <td>AGH University of Science and Technology</td>\n",
              "      <td>2016</td>\n",
              "      <td>NaN</td>\n",
              "      <td>2016</td>\n",
              "      <td>NaN</td>\n",
              "      <td>NaN</td>\n",
              "    </tr>\n",
              "    <tr>\n",
              "      <th>1</th>\n",
              "      <td>Aalborg University</td>\n",
              "      <td>2012</td>\n",
              "      <td>36.4</td>\n",
              "      <td>2016</td>\n",
              "      <td>43.7</td>\n",
              "      <td>7.3</td>\n",
              "    </tr>\n",
              "    <tr>\n",
              "      <th>2</th>\n",
              "      <td>Aalto University</td>\n",
              "      <td>2012</td>\n",
              "      <td>61.9</td>\n",
              "      <td>2016</td>\n",
              "      <td>61.6</td>\n",
              "      <td>-0.3</td>\n",
              "    </tr>\n",
              "    <tr>\n",
              "      <th>3</th>\n",
              "      <td>Aarhus University</td>\n",
              "      <td>2011</td>\n",
              "      <td>61.5</td>\n",
              "      <td>2016</td>\n",
              "      <td>68.3</td>\n",
              "      <td>6.8</td>\n",
              "    </tr>\n",
              "    <tr>\n",
              "      <th>4</th>\n",
              "      <td>Aberystwyth University</td>\n",
              "      <td>2012</td>\n",
              "      <td>35.5</td>\n",
              "      <td>2016</td>\n",
              "      <td>31.3</td>\n",
              "      <td>-4.2</td>\n",
              "    </tr>\n",
              "  </tbody>\n",
              "</table>\n",
              "</div>"
            ],
            "text/plain": [
              "                            university_name  ...  improvement\n",
              "0  AGH University of Science and Technology  ...          NaN\n",
              "1                        Aalborg University  ...          7.3\n",
              "2                          Aalto University  ...         -0.3\n",
              "3                         Aarhus University  ...          6.8\n",
              "4                    Aberystwyth University  ...         -4.2\n",
              "\n",
              "[5 rows x 6 columns]"
            ]
          },
          "metadata": {
            "tags": []
          },
          "execution_count": 8
        }
      ]
    },
    {
      "cell_type": "markdown",
      "metadata": {
        "id": "pNYux6xO0tLl"
      },
      "source": [
        "### 3. Find the university with the largest increase computed in the previous point"
      ]
    },
    {
      "cell_type": "code",
      "metadata": {
        "colab": {
          "base_uri": "https://localhost:8080/",
          "height": 0
        },
        "id": "aO89lLEB0v-4",
        "outputId": "74d1afbb-a195-4b93-e5f7-91695f4f2db6"
      },
      "source": [
        "times_least_most_recent[times_least_most_recent['improvement'] >= times_least_most_recent['improvement'].max()]"
      ],
      "execution_count": 9,
      "outputs": [
        {
          "output_type": "execute_result",
          "data": {
            "text/html": [
              "<div>\n",
              "<style scoped>\n",
              "    .dataframe tbody tr th:only-of-type {\n",
              "        vertical-align: middle;\n",
              "    }\n",
              "\n",
              "    .dataframe tbody tr th {\n",
              "        vertical-align: top;\n",
              "    }\n",
              "\n",
              "    .dataframe thead th {\n",
              "        text-align: right;\n",
              "    }\n",
              "</style>\n",
              "<table border=\"1\" class=\"dataframe\">\n",
              "  <thead>\n",
              "    <tr style=\"text-align: right;\">\n",
              "      <th></th>\n",
              "      <th>university_name</th>\n",
              "      <th>year_least_recent</th>\n",
              "      <th>income_least_recent</th>\n",
              "      <th>year_most_recent</th>\n",
              "      <th>income_most_recent</th>\n",
              "      <th>improvement</th>\n",
              "    </tr>\n",
              "  </thead>\n",
              "  <tbody>\n",
              "    <tr>\n",
              "      <th>428</th>\n",
              "      <td>TU Dresden</td>\n",
              "      <td>2012</td>\n",
              "      <td>31.9</td>\n",
              "      <td>2016</td>\n",
              "      <td>99.7</td>\n",
              "      <td>67.8</td>\n",
              "    </tr>\n",
              "  </tbody>\n",
              "</table>\n",
              "</div>"
            ],
            "text/plain": [
              "    university_name  year_least_recent  ...  income_most_recent  improvement\n",
              "428      TU Dresden               2012  ...                99.7         67.8\n",
              "\n",
              "[1 rows x 6 columns]"
            ]
          },
          "metadata": {
            "tags": []
          },
          "execution_count": 9
        }
      ]
    },
    {
      "cell_type": "markdown",
      "metadata": {
        "id": "zWFerhXROarp"
      },
      "source": [
        "## 4. For each ranking, consider only the most recent data point. For each university, compute the maximum difference between the rankings (e.g. for Aarhus University the value is 122-73=49). Notice that some rankings are expressed as a range"
      ]
    },
    {
      "cell_type": "markdown",
      "metadata": {
        "id": "qne4uWr1OQFE"
      },
      "source": [
        "Creazione del dataframe \"shanghai_most_recent\", contenente i dati più recenti (ossia associati al massimo valore possibile nella colonna \"year\") relativi a ciascuna università presente nel dataframe \"shanghai\"."
      ]
    },
    {
      "cell_type": "code",
      "metadata": {
        "colab": {
          "base_uri": "https://localhost:8080/",
          "height": 238
        },
        "id": "BNNMIx5nPTyz",
        "outputId": "a5934a03-f322-4ce6-84e1-b32c9b844623"
      },
      "source": [
        "shanghai_most_recent = shanghai.iloc[shanghai.groupby('university_name').idxmax()['year']]\r\n",
        "shanghai_most_recent.head()"
      ],
      "execution_count": 10,
      "outputs": [
        {
          "output_type": "execute_result",
          "data": {
            "text/html": [
              "<div>\n",
              "<style scoped>\n",
              "    .dataframe tbody tr th:only-of-type {\n",
              "        vertical-align: middle;\n",
              "    }\n",
              "\n",
              "    .dataframe tbody tr th {\n",
              "        vertical-align: top;\n",
              "    }\n",
              "\n",
              "    .dataframe thead th {\n",
              "        text-align: right;\n",
              "    }\n",
              "</style>\n",
              "<table border=\"1\" class=\"dataframe\">\n",
              "  <thead>\n",
              "    <tr style=\"text-align: right;\">\n",
              "      <th></th>\n",
              "      <th>world_rank</th>\n",
              "      <th>university_name</th>\n",
              "      <th>national_rank</th>\n",
              "      <th>total_score</th>\n",
              "      <th>alumni</th>\n",
              "      <th>award</th>\n",
              "      <th>hici</th>\n",
              "      <th>ns</th>\n",
              "      <th>pub</th>\n",
              "      <th>pcp</th>\n",
              "      <th>year</th>\n",
              "    </tr>\n",
              "  </thead>\n",
              "  <tbody>\n",
              "    <tr>\n",
              "      <th>4697</th>\n",
              "      <td>301-400</td>\n",
              "      <td>Aalborg University</td>\n",
              "      <td>5</td>\n",
              "      <td>NaN</td>\n",
              "      <td>0.0</td>\n",
              "      <td>0.0</td>\n",
              "      <td>11.2</td>\n",
              "      <td>4.6</td>\n",
              "      <td>30.4</td>\n",
              "      <td>16.8</td>\n",
              "      <td>2015</td>\n",
              "    </tr>\n",
              "    <tr>\n",
              "      <th>4797</th>\n",
              "      <td>401-500</td>\n",
              "      <td>Aalto University</td>\n",
              "      <td>4-6</td>\n",
              "      <td>NaN</td>\n",
              "      <td>0.0</td>\n",
              "      <td>0.0</td>\n",
              "      <td>0.0</td>\n",
              "      <td>10.4</td>\n",
              "      <td>33.4</td>\n",
              "      <td>17.0</td>\n",
              "      <td>2015</td>\n",
              "    </tr>\n",
              "    <tr>\n",
              "      <th>4469</th>\n",
              "      <td>73</td>\n",
              "      <td>Aarhus University</td>\n",
              "      <td>2</td>\n",
              "      <td>27.3</td>\n",
              "      <td>11.5</td>\n",
              "      <td>22.1</td>\n",
              "      <td>12.3</td>\n",
              "      <td>25.8</td>\n",
              "      <td>51.8</td>\n",
              "      <td>31.0</td>\n",
              "      <td>2015</td>\n",
              "    </tr>\n",
              "    <tr>\n",
              "      <th>4497</th>\n",
              "      <td>101-150</td>\n",
              "      <td>Aix Marseille University</td>\n",
              "      <td>5-6</td>\n",
              "      <td>NaN</td>\n",
              "      <td>13.6</td>\n",
              "      <td>0.0</td>\n",
              "      <td>15.2</td>\n",
              "      <td>20.3</td>\n",
              "      <td>50.1</td>\n",
              "      <td>27.6</td>\n",
              "      <td>2015</td>\n",
              "    </tr>\n",
              "    <tr>\n",
              "      <th>3115</th>\n",
              "      <td>102-150</td>\n",
              "      <td>Aix-Marseille University</td>\n",
              "      <td>4-6</td>\n",
              "      <td>NaN</td>\n",
              "      <td>15.6</td>\n",
              "      <td>0.0</td>\n",
              "      <td>16.1</td>\n",
              "      <td>22.4</td>\n",
              "      <td>44.3</td>\n",
              "      <td>15.3</td>\n",
              "      <td>2011</td>\n",
              "    </tr>\n",
              "  </tbody>\n",
              "</table>\n",
              "</div>"
            ],
            "text/plain": [
              "     world_rank           university_name national_rank  ...   pub   pcp  year\n",
              "4697    301-400        Aalborg University             5  ...  30.4  16.8  2015\n",
              "4797    401-500          Aalto University           4-6  ...  33.4  17.0  2015\n",
              "4469         73         Aarhus University             2  ...  51.8  31.0  2015\n",
              "4497    101-150  Aix Marseille University           5-6  ...  50.1  27.6  2015\n",
              "3115    102-150  Aix-Marseille University           4-6  ...  44.3  15.3  2011\n",
              "\n",
              "[5 rows x 11 columns]"
            ]
          },
          "metadata": {
            "tags": []
          },
          "execution_count": 10
        }
      ]
    },
    {
      "cell_type": "markdown",
      "metadata": {
        "id": "lmiViQPWO9Vo"
      },
      "source": [
        "Ridenominazione della colonna \"institution\" del dataframe \"cwur\" in \"university_name\"."
      ]
    },
    {
      "cell_type": "code",
      "metadata": {
        "id": "U6amd4bNO7Vx"
      },
      "source": [
        "cwur.rename(columns = {'institution' : 'university_name'}, inplace = True)"
      ],
      "execution_count": 11,
      "outputs": []
    },
    {
      "cell_type": "markdown",
      "metadata": {
        "id": "JKqQgR3EOqaJ"
      },
      "source": [
        "Creazione del dataframe \"cwur_most_recent\", contenente i dati più recenti (ossia associati al massimo valore possibile nella colonna \"year\") relativi a ciascuna università presente nel dataframe \"cwur\"."
      ]
    },
    {
      "cell_type": "code",
      "metadata": {
        "colab": {
          "base_uri": "https://localhost:8080/",
          "height": 275
        },
        "id": "rRtI2-KOP7p0",
        "outputId": "b22b3d6a-9954-4e5f-8433-ebafee0cfdb5"
      },
      "source": [
        "cwur_most_recent = cwur.iloc[cwur.groupby('university_name').idxmax()['year']]\r\n",
        "cwur_most_recent.head()"
      ],
      "execution_count": 12,
      "outputs": [
        {
          "output_type": "execute_result",
          "data": {
            "text/html": [
              "<div>\n",
              "<style scoped>\n",
              "    .dataframe tbody tr th:only-of-type {\n",
              "        vertical-align: middle;\n",
              "    }\n",
              "\n",
              "    .dataframe tbody tr th {\n",
              "        vertical-align: top;\n",
              "    }\n",
              "\n",
              "    .dataframe thead th {\n",
              "        text-align: right;\n",
              "    }\n",
              "</style>\n",
              "<table border=\"1\" class=\"dataframe\">\n",
              "  <thead>\n",
              "    <tr style=\"text-align: right;\">\n",
              "      <th></th>\n",
              "      <th>world_rank</th>\n",
              "      <th>university_name</th>\n",
              "      <th>country</th>\n",
              "      <th>national_rank</th>\n",
              "      <th>quality_of_education</th>\n",
              "      <th>alumni_employment</th>\n",
              "      <th>quality_of_faculty</th>\n",
              "      <th>publications</th>\n",
              "      <th>influence</th>\n",
              "      <th>citations</th>\n",
              "      <th>broad_impact</th>\n",
              "      <th>patents</th>\n",
              "      <th>score</th>\n",
              "      <th>year</th>\n",
              "    </tr>\n",
              "  </thead>\n",
              "  <tbody>\n",
              "    <tr>\n",
              "      <th>1981</th>\n",
              "      <td>782</td>\n",
              "      <td>AGH University of Science and Technology</td>\n",
              "      <td>Poland</td>\n",
              "      <td>4</td>\n",
              "      <td>267</td>\n",
              "      <td>279</td>\n",
              "      <td>218</td>\n",
              "      <td>708</td>\n",
              "      <td>891</td>\n",
              "      <td>511</td>\n",
              "      <td>896.0</td>\n",
              "      <td>398</td>\n",
              "      <td>44.26</td>\n",
              "      <td>2015</td>\n",
              "    </tr>\n",
              "    <tr>\n",
              "      <th>1764</th>\n",
              "      <td>565</td>\n",
              "      <td>Aalborg University</td>\n",
              "      <td>Denmark</td>\n",
              "      <td>5</td>\n",
              "      <td>367</td>\n",
              "      <td>439</td>\n",
              "      <td>218</td>\n",
              "      <td>596</td>\n",
              "      <td>660</td>\n",
              "      <td>287</td>\n",
              "      <td>520.0</td>\n",
              "      <td>401</td>\n",
              "      <td>44.59</td>\n",
              "      <td>2015</td>\n",
              "    </tr>\n",
              "    <tr>\n",
              "      <th>1620</th>\n",
              "      <td>421</td>\n",
              "      <td>Aalto University</td>\n",
              "      <td>Finland</td>\n",
              "      <td>4</td>\n",
              "      <td>367</td>\n",
              "      <td>224</td>\n",
              "      <td>218</td>\n",
              "      <td>336</td>\n",
              "      <td>403</td>\n",
              "      <td>645</td>\n",
              "      <td>424.0</td>\n",
              "      <td>246</td>\n",
              "      <td>45.10</td>\n",
              "      <td>2015</td>\n",
              "    </tr>\n",
              "    <tr>\n",
              "      <th>1321</th>\n",
              "      <td>122</td>\n",
              "      <td>Aarhus University</td>\n",
              "      <td>Denmark</td>\n",
              "      <td>2</td>\n",
              "      <td>310</td>\n",
              "      <td>165</td>\n",
              "      <td>106</td>\n",
              "      <td>91</td>\n",
              "      <td>81</td>\n",
              "      <td>101</td>\n",
              "      <td>95.0</td>\n",
              "      <td>154</td>\n",
              "      <td>49.65</td>\n",
              "      <td>2015</td>\n",
              "    </tr>\n",
              "    <tr>\n",
              "      <th>2013</th>\n",
              "      <td>814</td>\n",
              "      <td>Aberystwyth University</td>\n",
              "      <td>United Kingdom</td>\n",
              "      <td>59</td>\n",
              "      <td>367</td>\n",
              "      <td>567</td>\n",
              "      <td>218</td>\n",
              "      <td>842</td>\n",
              "      <td>552</td>\n",
              "      <td>511</td>\n",
              "      <td>754.0</td>\n",
              "      <td>607</td>\n",
              "      <td>44.22</td>\n",
              "      <td>2015</td>\n",
              "    </tr>\n",
              "  </tbody>\n",
              "</table>\n",
              "</div>"
            ],
            "text/plain": [
              "      world_rank                           university_name  ...  score  year\n",
              "1981         782  AGH University of Science and Technology  ...  44.26  2015\n",
              "1764         565                        Aalborg University  ...  44.59  2015\n",
              "1620         421                          Aalto University  ...  45.10  2015\n",
              "1321         122                         Aarhus University  ...  49.65  2015\n",
              "2013         814                    Aberystwyth University  ...  44.22  2015\n",
              "\n",
              "[5 rows x 14 columns]"
            ]
          },
          "metadata": {
            "tags": []
          },
          "execution_count": 12
        }
      ]
    },
    {
      "cell_type": "markdown",
      "metadata": {
        "id": "BAM-FnxKRnNH"
      },
      "source": [
        "Creazione del dataframe \"most_recent_ranking\", costruito effettuando il join dei dataframe \"times_most_recent\", \"shanghai_most_recent\" e \"cwur_most_recent\"."
      ]
    },
    {
      "cell_type": "code",
      "metadata": {
        "colab": {
          "base_uri": "https://localhost:8080/",
          "height": 204
        },
        "id": "InLZPr-TQSkR",
        "outputId": "946b814f-5d10-41ed-b29b-6a5eec9a8266"
      },
      "source": [
        "most_recent_ranking = pd.merge(times_most_recent[['university_name', 'world_rank']], shanghai_most_recent[['university_name', 'world_rank']], on = ['university_name'], suffixes = ('_intervals_times', '_intervals_shanghai'))\r\n",
        "most_recent_ranking = pd.merge(most_recent_ranking, cwur_most_recent[['university_name', 'world_rank']], on = ['university_name'])\r\n",
        "most_recent_ranking.rename(columns = {'world_rank' : 'world_rank_cwur'}, inplace = True)\r\n",
        "most_recent_ranking.head()"
      ],
      "execution_count": 13,
      "outputs": [
        {
          "output_type": "execute_result",
          "data": {
            "text/html": [
              "<div>\n",
              "<style scoped>\n",
              "    .dataframe tbody tr th:only-of-type {\n",
              "        vertical-align: middle;\n",
              "    }\n",
              "\n",
              "    .dataframe tbody tr th {\n",
              "        vertical-align: top;\n",
              "    }\n",
              "\n",
              "    .dataframe thead th {\n",
              "        text-align: right;\n",
              "    }\n",
              "</style>\n",
              "<table border=\"1\" class=\"dataframe\">\n",
              "  <thead>\n",
              "    <tr style=\"text-align: right;\">\n",
              "      <th></th>\n",
              "      <th>university_name</th>\n",
              "      <th>world_rank_intervals_times</th>\n",
              "      <th>world_rank_intervals_shanghai</th>\n",
              "      <th>world_rank_cwur</th>\n",
              "    </tr>\n",
              "  </thead>\n",
              "  <tbody>\n",
              "    <tr>\n",
              "      <th>0</th>\n",
              "      <td>Aalborg University</td>\n",
              "      <td>201-250</td>\n",
              "      <td>301-400</td>\n",
              "      <td>565</td>\n",
              "    </tr>\n",
              "    <tr>\n",
              "      <th>1</th>\n",
              "      <td>Aalto University</td>\n",
              "      <td>251-300</td>\n",
              "      <td>401-500</td>\n",
              "      <td>421</td>\n",
              "    </tr>\n",
              "    <tr>\n",
              "      <th>2</th>\n",
              "      <td>Aarhus University</td>\n",
              "      <td>=106</td>\n",
              "      <td>73</td>\n",
              "      <td>122</td>\n",
              "    </tr>\n",
              "    <tr>\n",
              "      <th>3</th>\n",
              "      <td>Aix-Marseille University</td>\n",
              "      <td>251-300</td>\n",
              "      <td>102-150</td>\n",
              "      <td>206</td>\n",
              "    </tr>\n",
              "    <tr>\n",
              "      <th>4</th>\n",
              "      <td>Aristotle University of Thessaloniki</td>\n",
              "      <td>601-800</td>\n",
              "      <td>401-500</td>\n",
              "      <td>459</td>\n",
              "    </tr>\n",
              "  </tbody>\n",
              "</table>\n",
              "</div>"
            ],
            "text/plain": [
              "                        university_name  ... world_rank_cwur\n",
              "0                    Aalborg University  ...             565\n",
              "1                      Aalto University  ...             421\n",
              "2                     Aarhus University  ...             122\n",
              "3              Aix-Marseille University  ...             206\n",
              "4  Aristotle University of Thessaloniki  ...             459\n",
              "\n",
              "[5 rows x 4 columns]"
            ]
          },
          "metadata": {
            "tags": []
          },
          "execution_count": 13
        }
      ]
    },
    {
      "cell_type": "code",
      "metadata": {
        "id": "1oZ0u9IjUwg6",
        "colab": {
          "base_uri": "https://localhost:8080/",
          "height": 258
        },
        "outputId": "90f07e1b-66e7-4a85-b2b3-4ae4da4ab171"
      },
      "source": [
        "interval_times = most_recent_ranking['world_rank_intervals_times'].str.extract('(\\d+)\\-?(\\d*)')\r\n",
        "interval_times[0] = pd.to_numeric(interval_times[0])\r\n",
        "interval_times[1] = pd.to_numeric(interval_times[1])\r\n",
        "most_recent_ranking['world_rank_times'] = np.nanmean(interval_times, axis = 1).round()\r\n",
        "most_recent_ranking.head()"
      ],
      "execution_count": 14,
      "outputs": [
        {
          "output_type": "execute_result",
          "data": {
            "text/html": [
              "<div>\n",
              "<style scoped>\n",
              "    .dataframe tbody tr th:only-of-type {\n",
              "        vertical-align: middle;\n",
              "    }\n",
              "\n",
              "    .dataframe tbody tr th {\n",
              "        vertical-align: top;\n",
              "    }\n",
              "\n",
              "    .dataframe thead th {\n",
              "        text-align: right;\n",
              "    }\n",
              "</style>\n",
              "<table border=\"1\" class=\"dataframe\">\n",
              "  <thead>\n",
              "    <tr style=\"text-align: right;\">\n",
              "      <th></th>\n",
              "      <th>university_name</th>\n",
              "      <th>world_rank_intervals_times</th>\n",
              "      <th>world_rank_intervals_shanghai</th>\n",
              "      <th>world_rank_cwur</th>\n",
              "      <th>world_rank_times</th>\n",
              "    </tr>\n",
              "  </thead>\n",
              "  <tbody>\n",
              "    <tr>\n",
              "      <th>0</th>\n",
              "      <td>Aalborg University</td>\n",
              "      <td>201-250</td>\n",
              "      <td>301-400</td>\n",
              "      <td>565</td>\n",
              "      <td>226.0</td>\n",
              "    </tr>\n",
              "    <tr>\n",
              "      <th>1</th>\n",
              "      <td>Aalto University</td>\n",
              "      <td>251-300</td>\n",
              "      <td>401-500</td>\n",
              "      <td>421</td>\n",
              "      <td>276.0</td>\n",
              "    </tr>\n",
              "    <tr>\n",
              "      <th>2</th>\n",
              "      <td>Aarhus University</td>\n",
              "      <td>=106</td>\n",
              "      <td>73</td>\n",
              "      <td>122</td>\n",
              "      <td>106.0</td>\n",
              "    </tr>\n",
              "    <tr>\n",
              "      <th>3</th>\n",
              "      <td>Aix-Marseille University</td>\n",
              "      <td>251-300</td>\n",
              "      <td>102-150</td>\n",
              "      <td>206</td>\n",
              "      <td>276.0</td>\n",
              "    </tr>\n",
              "    <tr>\n",
              "      <th>4</th>\n",
              "      <td>Aristotle University of Thessaloniki</td>\n",
              "      <td>601-800</td>\n",
              "      <td>401-500</td>\n",
              "      <td>459</td>\n",
              "      <td>700.0</td>\n",
              "    </tr>\n",
              "  </tbody>\n",
              "</table>\n",
              "</div>"
            ],
            "text/plain": [
              "                        university_name  ... world_rank_times\n",
              "0                    Aalborg University  ...            226.0\n",
              "1                      Aalto University  ...            276.0\n",
              "2                     Aarhus University  ...            106.0\n",
              "3              Aix-Marseille University  ...            276.0\n",
              "4  Aristotle University of Thessaloniki  ...            700.0\n",
              "\n",
              "[5 rows x 5 columns]"
            ]
          },
          "metadata": {
            "tags": []
          },
          "execution_count": 14
        }
      ]
    },
    {
      "cell_type": "code",
      "metadata": {
        "colab": {
          "base_uri": "https://localhost:8080/",
          "height": 258
        },
        "id": "oLx0Ds2Wl1AK",
        "outputId": "521af864-421f-4b95-c538-270d20ed6754"
      },
      "source": [
        "interval_shanghai = most_recent_ranking['world_rank_intervals_shanghai'].str.extract('(\\d+)\\-?(\\d*)')\r\n",
        "interval_shanghai[0] = pd.to_numeric(interval_shanghai[0])\r\n",
        "interval_shanghai[1] = pd.to_numeric(interval_shanghai[1])\r\n",
        "most_recent_ranking['world_rank_shanghai'] = np.nanmean(interval_shanghai, axis = 1).round()\r\n",
        "most_recent_ranking.head()"
      ],
      "execution_count": 15,
      "outputs": [
        {
          "output_type": "execute_result",
          "data": {
            "text/html": [
              "<div>\n",
              "<style scoped>\n",
              "    .dataframe tbody tr th:only-of-type {\n",
              "        vertical-align: middle;\n",
              "    }\n",
              "\n",
              "    .dataframe tbody tr th {\n",
              "        vertical-align: top;\n",
              "    }\n",
              "\n",
              "    .dataframe thead th {\n",
              "        text-align: right;\n",
              "    }\n",
              "</style>\n",
              "<table border=\"1\" class=\"dataframe\">\n",
              "  <thead>\n",
              "    <tr style=\"text-align: right;\">\n",
              "      <th></th>\n",
              "      <th>university_name</th>\n",
              "      <th>world_rank_intervals_times</th>\n",
              "      <th>world_rank_intervals_shanghai</th>\n",
              "      <th>world_rank_cwur</th>\n",
              "      <th>world_rank_times</th>\n",
              "      <th>world_rank_shanghai</th>\n",
              "    </tr>\n",
              "  </thead>\n",
              "  <tbody>\n",
              "    <tr>\n",
              "      <th>0</th>\n",
              "      <td>Aalborg University</td>\n",
              "      <td>201-250</td>\n",
              "      <td>301-400</td>\n",
              "      <td>565</td>\n",
              "      <td>226.0</td>\n",
              "      <td>350.0</td>\n",
              "    </tr>\n",
              "    <tr>\n",
              "      <th>1</th>\n",
              "      <td>Aalto University</td>\n",
              "      <td>251-300</td>\n",
              "      <td>401-500</td>\n",
              "      <td>421</td>\n",
              "      <td>276.0</td>\n",
              "      <td>450.0</td>\n",
              "    </tr>\n",
              "    <tr>\n",
              "      <th>2</th>\n",
              "      <td>Aarhus University</td>\n",
              "      <td>=106</td>\n",
              "      <td>73</td>\n",
              "      <td>122</td>\n",
              "      <td>106.0</td>\n",
              "      <td>73.0</td>\n",
              "    </tr>\n",
              "    <tr>\n",
              "      <th>3</th>\n",
              "      <td>Aix-Marseille University</td>\n",
              "      <td>251-300</td>\n",
              "      <td>102-150</td>\n",
              "      <td>206</td>\n",
              "      <td>276.0</td>\n",
              "      <td>126.0</td>\n",
              "    </tr>\n",
              "    <tr>\n",
              "      <th>4</th>\n",
              "      <td>Aristotle University of Thessaloniki</td>\n",
              "      <td>601-800</td>\n",
              "      <td>401-500</td>\n",
              "      <td>459</td>\n",
              "      <td>700.0</td>\n",
              "      <td>450.0</td>\n",
              "    </tr>\n",
              "  </tbody>\n",
              "</table>\n",
              "</div>"
            ],
            "text/plain": [
              "                        university_name  ... world_rank_shanghai\n",
              "0                    Aalborg University  ...               350.0\n",
              "1                      Aalto University  ...               450.0\n",
              "2                     Aarhus University  ...                73.0\n",
              "3              Aix-Marseille University  ...               126.0\n",
              "4  Aristotle University of Thessaloniki  ...               450.0\n",
              "\n",
              "[5 rows x 6 columns]"
            ]
          },
          "metadata": {
            "tags": []
          },
          "execution_count": 15
        }
      ]
    },
    {
      "cell_type": "code",
      "metadata": {
        "colab": {
          "base_uri": "https://localhost:8080/",
          "height": 419
        },
        "id": "4q-lvaPuoRhe",
        "outputId": "890b9956-4c9f-4c90-ecf9-a5319416614d"
      },
      "source": [
        "most_recent_ranking['max_difference'] = most_recent_ranking[['world_rank_times','world_rank_shanghai', 'world_rank_cwur']].astype(int).max(axis = 1) - most_recent_ranking[['world_rank_times','world_rank_shanghai', 'world_rank_cwur']].astype(int).min(axis = 1)\r\n",
        "most_recent_ranking[['university_name', 'world_rank_times','world_rank_shanghai', 'world_rank_cwur', 'max_difference']]"
      ],
      "execution_count": 16,
      "outputs": [
        {
          "output_type": "execute_result",
          "data": {
            "text/html": [
              "<div>\n",
              "<style scoped>\n",
              "    .dataframe tbody tr th:only-of-type {\n",
              "        vertical-align: middle;\n",
              "    }\n",
              "\n",
              "    .dataframe tbody tr th {\n",
              "        vertical-align: top;\n",
              "    }\n",
              "\n",
              "    .dataframe thead th {\n",
              "        text-align: right;\n",
              "    }\n",
              "</style>\n",
              "<table border=\"1\" class=\"dataframe\">\n",
              "  <thead>\n",
              "    <tr style=\"text-align: right;\">\n",
              "      <th></th>\n",
              "      <th>university_name</th>\n",
              "      <th>world_rank_times</th>\n",
              "      <th>world_rank_shanghai</th>\n",
              "      <th>world_rank_cwur</th>\n",
              "      <th>max_difference</th>\n",
              "    </tr>\n",
              "  </thead>\n",
              "  <tbody>\n",
              "    <tr>\n",
              "      <th>0</th>\n",
              "      <td>Aalborg University</td>\n",
              "      <td>226.0</td>\n",
              "      <td>350.0</td>\n",
              "      <td>565</td>\n",
              "      <td>339</td>\n",
              "    </tr>\n",
              "    <tr>\n",
              "      <th>1</th>\n",
              "      <td>Aalto University</td>\n",
              "      <td>276.0</td>\n",
              "      <td>450.0</td>\n",
              "      <td>421</td>\n",
              "      <td>174</td>\n",
              "    </tr>\n",
              "    <tr>\n",
              "      <th>2</th>\n",
              "      <td>Aarhus University</td>\n",
              "      <td>106.0</td>\n",
              "      <td>73.0</td>\n",
              "      <td>122</td>\n",
              "      <td>49</td>\n",
              "    </tr>\n",
              "    <tr>\n",
              "      <th>3</th>\n",
              "      <td>Aix-Marseille University</td>\n",
              "      <td>276.0</td>\n",
              "      <td>126.0</td>\n",
              "      <td>206</td>\n",
              "      <td>150</td>\n",
              "    </tr>\n",
              "    <tr>\n",
              "      <th>4</th>\n",
              "      <td>Aristotle University of Thessaloniki</td>\n",
              "      <td>700.0</td>\n",
              "      <td>450.0</td>\n",
              "      <td>459</td>\n",
              "      <td>250</td>\n",
              "    </tr>\n",
              "    <tr>\n",
              "      <th>...</th>\n",
              "      <td>...</td>\n",
              "      <td>...</td>\n",
              "      <td>...</td>\n",
              "      <td>...</td>\n",
              "      <td>...</td>\n",
              "    </tr>\n",
              "    <tr>\n",
              "      <th>357</th>\n",
              "      <td>Yale University</td>\n",
              "      <td>12.0</td>\n",
              "      <td>11.0</td>\n",
              "      <td>11</td>\n",
              "      <td>1</td>\n",
              "    </tr>\n",
              "    <tr>\n",
              "      <th>358</th>\n",
              "      <td>Yeshiva University</td>\n",
              "      <td>164.0</td>\n",
              "      <td>250.0</td>\n",
              "      <td>171</td>\n",
              "      <td>86</td>\n",
              "    </tr>\n",
              "    <tr>\n",
              "      <th>359</th>\n",
              "      <td>Yonsei University</td>\n",
              "      <td>326.0</td>\n",
              "      <td>250.0</td>\n",
              "      <td>98</td>\n",
              "      <td>228</td>\n",
              "    </tr>\n",
              "    <tr>\n",
              "      <th>360</th>\n",
              "      <td>York University</td>\n",
              "      <td>326.0</td>\n",
              "      <td>450.0</td>\n",
              "      <td>337</td>\n",
              "      <td>124</td>\n",
              "    </tr>\n",
              "    <tr>\n",
              "      <th>361</th>\n",
              "      <td>Zhejiang University</td>\n",
              "      <td>276.0</td>\n",
              "      <td>126.0</td>\n",
              "      <td>191</td>\n",
              "      <td>150</td>\n",
              "    </tr>\n",
              "  </tbody>\n",
              "</table>\n",
              "<p>362 rows × 5 columns</p>\n",
              "</div>"
            ],
            "text/plain": [
              "                          university_name  ...  max_difference\n",
              "0                      Aalborg University  ...             339\n",
              "1                        Aalto University  ...             174\n",
              "2                       Aarhus University  ...              49\n",
              "3                Aix-Marseille University  ...             150\n",
              "4    Aristotle University of Thessaloniki  ...             250\n",
              "..                                    ...  ...             ...\n",
              "357                       Yale University  ...               1\n",
              "358                    Yeshiva University  ...              86\n",
              "359                     Yonsei University  ...             228\n",
              "360                       York University  ...             124\n",
              "361                   Zhejiang University  ...             150\n",
              "\n",
              "[362 rows x 5 columns]"
            ]
          },
          "metadata": {
            "tags": []
          },
          "execution_count": 16
        }
      ]
    },
    {
      "cell_type": "markdown",
      "metadata": {
        "id": "vo_mWohhTpRx"
      },
      "source": [
        "### 5. Consider only the most recent data point of the times dataset. Compute the number of male and female students for each country"
      ]
    },
    {
      "cell_type": "markdown",
      "metadata": {
        "id": "KjL05u5tSs8i"
      },
      "source": [
        "Creazione del dataframe \"times_most_recent_f_m\" a partire dalle colonne \"university_name\", \"country\", \"num_students\" e \"female_male_ratio\" del dataframe \"times_most_recent\".\r\n"
      ]
    },
    {
      "cell_type": "code",
      "metadata": {
        "id": "_qAtzkY_76C9",
        "colab": {
          "base_uri": "https://localhost:8080/",
          "height": 204
        },
        "outputId": "a4b1664c-5311-46ff-c839-b8e0ecfcb032"
      },
      "source": [
        "times_most_recent_f_m = times_most_recent[['university_name', 'country', 'num_students', 'female_male_ratio']].dropna(subset = ['female_male_ratio', 'num_students']).copy()\r\n",
        "times_most_recent_f_m.head()"
      ],
      "execution_count": 17,
      "outputs": [
        {
          "output_type": "execute_result",
          "data": {
            "text/html": [
              "<div>\n",
              "<style scoped>\n",
              "    .dataframe tbody tr th:only-of-type {\n",
              "        vertical-align: middle;\n",
              "    }\n",
              "\n",
              "    .dataframe tbody tr th {\n",
              "        vertical-align: top;\n",
              "    }\n",
              "\n",
              "    .dataframe thead th {\n",
              "        text-align: right;\n",
              "    }\n",
              "</style>\n",
              "<table border=\"1\" class=\"dataframe\">\n",
              "  <thead>\n",
              "    <tr style=\"text-align: right;\">\n",
              "      <th></th>\n",
              "      <th>university_name</th>\n",
              "      <th>country</th>\n",
              "      <th>num_students</th>\n",
              "      <th>female_male_ratio</th>\n",
              "    </tr>\n",
              "  </thead>\n",
              "  <tbody>\n",
              "    <tr>\n",
              "      <th>2003</th>\n",
              "      <td>Aalborg University</td>\n",
              "      <td>Denmark</td>\n",
              "      <td>17422.0</td>\n",
              "      <td>48 : 52</td>\n",
              "    </tr>\n",
              "    <tr>\n",
              "      <th>2056</th>\n",
              "      <td>Aalto University</td>\n",
              "      <td>Finland</td>\n",
              "      <td>16099.0</td>\n",
              "      <td>32 : 68</td>\n",
              "    </tr>\n",
              "    <tr>\n",
              "      <th>1908</th>\n",
              "      <td>Aarhus University</td>\n",
              "      <td>Denmark</td>\n",
              "      <td>23895.0</td>\n",
              "      <td>54 : 46</td>\n",
              "    </tr>\n",
              "    <tr>\n",
              "      <th>2105</th>\n",
              "      <td>Aberystwyth University</td>\n",
              "      <td>United Kingdom</td>\n",
              "      <td>9252.0</td>\n",
              "      <td>48 : 52</td>\n",
              "    </tr>\n",
              "    <tr>\n",
              "      <th>2404</th>\n",
              "      <td>Adam Mickiewicz University</td>\n",
              "      <td>Poland</td>\n",
              "      <td>40633.0</td>\n",
              "      <td>71 : 29</td>\n",
              "    </tr>\n",
              "  </tbody>\n",
              "</table>\n",
              "</div>"
            ],
            "text/plain": [
              "                 university_name  ... female_male_ratio\n",
              "2003          Aalborg University  ...           48 : 52\n",
              "2056            Aalto University  ...           32 : 68\n",
              "1908           Aarhus University  ...           54 : 46\n",
              "2105      Aberystwyth University  ...           48 : 52\n",
              "2404  Adam Mickiewicz University  ...           71 : 29\n",
              "\n",
              "[5 rows x 4 columns]"
            ]
          },
          "metadata": {
            "tags": []
          },
          "execution_count": 17
        }
      ]
    },
    {
      "cell_type": "markdown",
      "metadata": {
        "id": "bHHxSSgysIks"
      },
      "source": [
        "Controllo che la somma di female e male sia 100."
      ]
    },
    {
      "cell_type": "code",
      "metadata": {
        "colab": {
          "base_uri": "https://localhost:8080/"
        },
        "id": "_V0ajZdVrYfD",
        "outputId": "b7248242-eedd-46df-c799-f20f93538edf"
      },
      "source": [
        "check = times_most_recent_f_m['female_male_ratio'].str.extract(r'(\\d+) : (\\d+)')\r\n",
        "check['check'] = check[0].astype(int) + check[1].astype(int) - 100\r\n",
        "check['check'].sum()     "
      ],
      "execution_count": 18,
      "outputs": [
        {
          "output_type": "execute_result",
          "data": {
            "text/plain": [
              "0"
            ]
          },
          "metadata": {
            "tags": []
          },
          "execution_count": 18
        }
      ]
    },
    {
      "cell_type": "markdown",
      "metadata": {
        "id": "xjxOKDfpTkkm"
      },
      "source": [
        "Creazione della colonna \"females_percentage\", contenente la percentuale di femmine per ciascuna università."
      ]
    },
    {
      "cell_type": "code",
      "metadata": {
        "id": "UfecoWf58oqX",
        "colab": {
          "base_uri": "https://localhost:8080/",
          "height": 204
        },
        "outputId": "0cd18655-707d-4f1c-a5b4-145fd6f66202"
      },
      "source": [
        "times_most_recent_f_m['females'] = times_most_recent_f_m['female_male_ratio'].str.extract('^(\\d+)')\r\n",
        "times_most_recent_f_m['females'] = round(pd.to_numeric(times_most_recent_f_m['females']) * times_most_recent_f_m['num_students'] / 100)\r\n",
        "times_most_recent_f_m.head()"
      ],
      "execution_count": 19,
      "outputs": [
        {
          "output_type": "execute_result",
          "data": {
            "text/html": [
              "<div>\n",
              "<style scoped>\n",
              "    .dataframe tbody tr th:only-of-type {\n",
              "        vertical-align: middle;\n",
              "    }\n",
              "\n",
              "    .dataframe tbody tr th {\n",
              "        vertical-align: top;\n",
              "    }\n",
              "\n",
              "    .dataframe thead th {\n",
              "        text-align: right;\n",
              "    }\n",
              "</style>\n",
              "<table border=\"1\" class=\"dataframe\">\n",
              "  <thead>\n",
              "    <tr style=\"text-align: right;\">\n",
              "      <th></th>\n",
              "      <th>university_name</th>\n",
              "      <th>country</th>\n",
              "      <th>num_students</th>\n",
              "      <th>female_male_ratio</th>\n",
              "      <th>females</th>\n",
              "    </tr>\n",
              "  </thead>\n",
              "  <tbody>\n",
              "    <tr>\n",
              "      <th>2003</th>\n",
              "      <td>Aalborg University</td>\n",
              "      <td>Denmark</td>\n",
              "      <td>17422.0</td>\n",
              "      <td>48 : 52</td>\n",
              "      <td>8363.0</td>\n",
              "    </tr>\n",
              "    <tr>\n",
              "      <th>2056</th>\n",
              "      <td>Aalto University</td>\n",
              "      <td>Finland</td>\n",
              "      <td>16099.0</td>\n",
              "      <td>32 : 68</td>\n",
              "      <td>5152.0</td>\n",
              "    </tr>\n",
              "    <tr>\n",
              "      <th>1908</th>\n",
              "      <td>Aarhus University</td>\n",
              "      <td>Denmark</td>\n",
              "      <td>23895.0</td>\n",
              "      <td>54 : 46</td>\n",
              "      <td>12903.0</td>\n",
              "    </tr>\n",
              "    <tr>\n",
              "      <th>2105</th>\n",
              "      <td>Aberystwyth University</td>\n",
              "      <td>United Kingdom</td>\n",
              "      <td>9252.0</td>\n",
              "      <td>48 : 52</td>\n",
              "      <td>4441.0</td>\n",
              "    </tr>\n",
              "    <tr>\n",
              "      <th>2404</th>\n",
              "      <td>Adam Mickiewicz University</td>\n",
              "      <td>Poland</td>\n",
              "      <td>40633.0</td>\n",
              "      <td>71 : 29</td>\n",
              "      <td>28849.0</td>\n",
              "    </tr>\n",
              "  </tbody>\n",
              "</table>\n",
              "</div>"
            ],
            "text/plain": [
              "                 university_name         country  ...  female_male_ratio  females\n",
              "2003          Aalborg University         Denmark  ...            48 : 52   8363.0\n",
              "2056            Aalto University         Finland  ...            32 : 68   5152.0\n",
              "1908           Aarhus University         Denmark  ...            54 : 46  12903.0\n",
              "2105      Aberystwyth University  United Kingdom  ...            48 : 52   4441.0\n",
              "2404  Adam Mickiewicz University          Poland  ...            71 : 29  28849.0\n",
              "\n",
              "[5 rows x 5 columns]"
            ]
          },
          "metadata": {
            "tags": []
          },
          "execution_count": 19
        }
      ]
    },
    {
      "cell_type": "markdown",
      "metadata": {
        "id": "zAtbWr91TwD4"
      },
      "source": [
        "Creazione della colonna \"males_percentage\", contenente la percentuale di maschi per ciascuna università."
      ]
    },
    {
      "cell_type": "code",
      "metadata": {
        "id": "iE448K8CTVZs",
        "colab": {
          "base_uri": "https://localhost:8080/",
          "height": 204
        },
        "outputId": "fdf64f5d-acc4-4d20-d88e-762c1ce38aa1"
      },
      "source": [
        "times_most_recent_f_m['males'] = times_most_recent_f_m['female_male_ratio'].str.extract('(\\d+)$')\r\n",
        "times_most_recent_f_m['males'] = round(pd.to_numeric(times_most_recent_f_m['males']) * times_most_recent_f_m['num_students'] / 100)\r\n",
        "times_most_recent_f_m.head()"
      ],
      "execution_count": 20,
      "outputs": [
        {
          "output_type": "execute_result",
          "data": {
            "text/html": [
              "<div>\n",
              "<style scoped>\n",
              "    .dataframe tbody tr th:only-of-type {\n",
              "        vertical-align: middle;\n",
              "    }\n",
              "\n",
              "    .dataframe tbody tr th {\n",
              "        vertical-align: top;\n",
              "    }\n",
              "\n",
              "    .dataframe thead th {\n",
              "        text-align: right;\n",
              "    }\n",
              "</style>\n",
              "<table border=\"1\" class=\"dataframe\">\n",
              "  <thead>\n",
              "    <tr style=\"text-align: right;\">\n",
              "      <th></th>\n",
              "      <th>university_name</th>\n",
              "      <th>country</th>\n",
              "      <th>num_students</th>\n",
              "      <th>female_male_ratio</th>\n",
              "      <th>females</th>\n",
              "      <th>males</th>\n",
              "    </tr>\n",
              "  </thead>\n",
              "  <tbody>\n",
              "    <tr>\n",
              "      <th>2003</th>\n",
              "      <td>Aalborg University</td>\n",
              "      <td>Denmark</td>\n",
              "      <td>17422.0</td>\n",
              "      <td>48 : 52</td>\n",
              "      <td>8363.0</td>\n",
              "      <td>9059.0</td>\n",
              "    </tr>\n",
              "    <tr>\n",
              "      <th>2056</th>\n",
              "      <td>Aalto University</td>\n",
              "      <td>Finland</td>\n",
              "      <td>16099.0</td>\n",
              "      <td>32 : 68</td>\n",
              "      <td>5152.0</td>\n",
              "      <td>10947.0</td>\n",
              "    </tr>\n",
              "    <tr>\n",
              "      <th>1908</th>\n",
              "      <td>Aarhus University</td>\n",
              "      <td>Denmark</td>\n",
              "      <td>23895.0</td>\n",
              "      <td>54 : 46</td>\n",
              "      <td>12903.0</td>\n",
              "      <td>10992.0</td>\n",
              "    </tr>\n",
              "    <tr>\n",
              "      <th>2105</th>\n",
              "      <td>Aberystwyth University</td>\n",
              "      <td>United Kingdom</td>\n",
              "      <td>9252.0</td>\n",
              "      <td>48 : 52</td>\n",
              "      <td>4441.0</td>\n",
              "      <td>4811.0</td>\n",
              "    </tr>\n",
              "    <tr>\n",
              "      <th>2404</th>\n",
              "      <td>Adam Mickiewicz University</td>\n",
              "      <td>Poland</td>\n",
              "      <td>40633.0</td>\n",
              "      <td>71 : 29</td>\n",
              "      <td>28849.0</td>\n",
              "      <td>11784.0</td>\n",
              "    </tr>\n",
              "  </tbody>\n",
              "</table>\n",
              "</div>"
            ],
            "text/plain": [
              "                 university_name         country  ...  females    males\n",
              "2003          Aalborg University         Denmark  ...   8363.0   9059.0\n",
              "2056            Aalto University         Finland  ...   5152.0  10947.0\n",
              "1908           Aarhus University         Denmark  ...  12903.0  10992.0\n",
              "2105      Aberystwyth University  United Kingdom  ...   4441.0   4811.0\n",
              "2404  Adam Mickiewicz University          Poland  ...  28849.0  11784.0\n",
              "\n",
              "[5 rows x 6 columns]"
            ]
          },
          "metadata": {
            "tags": []
          },
          "execution_count": 20
        }
      ]
    },
    {
      "cell_type": "markdown",
      "metadata": {
        "id": "237ezpCgVV7B"
      },
      "source": [
        "Calcolo del numero totale di studentesse e di quello di studenti per ciascun paese."
      ]
    },
    {
      "cell_type": "code",
      "metadata": {
        "id": "3Jem4KFDVWQY",
        "colab": {
          "base_uri": "https://localhost:8080/",
          "height": 419
        },
        "outputId": "22ad4444-5ba7-42ae-dbaf-d872a4f5aade"
      },
      "source": [
        "times_most_recent_f_m.groupby('country', as_index = False).sum()[['country', 'females', 'males']]"
      ],
      "execution_count": 21,
      "outputs": [
        {
          "output_type": "execute_result",
          "data": {
            "text/html": [
              "<div>\n",
              "<style scoped>\n",
              "    .dataframe tbody tr th:only-of-type {\n",
              "        vertical-align: middle;\n",
              "    }\n",
              "\n",
              "    .dataframe tbody tr th {\n",
              "        vertical-align: top;\n",
              "    }\n",
              "\n",
              "    .dataframe thead th {\n",
              "        text-align: right;\n",
              "    }\n",
              "</style>\n",
              "<table border=\"1\" class=\"dataframe\">\n",
              "  <thead>\n",
              "    <tr style=\"text-align: right;\">\n",
              "      <th></th>\n",
              "      <th>country</th>\n",
              "      <th>females</th>\n",
              "      <th>males</th>\n",
              "    </tr>\n",
              "  </thead>\n",
              "  <tbody>\n",
              "    <tr>\n",
              "      <th>0</th>\n",
              "      <td>Argentina</td>\n",
              "      <td>67191.0</td>\n",
              "      <td>41182.0</td>\n",
              "    </tr>\n",
              "    <tr>\n",
              "      <th>1</th>\n",
              "      <td>Australia</td>\n",
              "      <td>391736.0</td>\n",
              "      <td>321640.0</td>\n",
              "    </tr>\n",
              "    <tr>\n",
              "      <th>2</th>\n",
              "      <td>Austria</td>\n",
              "      <td>68364.0</td>\n",
              "      <td>66113.0</td>\n",
              "    </tr>\n",
              "    <tr>\n",
              "      <th>3</th>\n",
              "      <td>Bangladesh</td>\n",
              "      <td>21323.0</td>\n",
              "      <td>41393.0</td>\n",
              "    </tr>\n",
              "    <tr>\n",
              "      <th>4</th>\n",
              "      <td>Belarus</td>\n",
              "      <td>20219.0</td>\n",
              "      <td>9084.0</td>\n",
              "    </tr>\n",
              "    <tr>\n",
              "      <th>...</th>\n",
              "      <td>...</td>\n",
              "      <td>...</td>\n",
              "      <td>...</td>\n",
              "    </tr>\n",
              "    <tr>\n",
              "      <th>65</th>\n",
              "      <td>Uganda</td>\n",
              "      <td>18670.0</td>\n",
              "      <td>18670.0</td>\n",
              "    </tr>\n",
              "    <tr>\n",
              "      <th>66</th>\n",
              "      <td>Ukraine</td>\n",
              "      <td>17846.0</td>\n",
              "      <td>19250.0</td>\n",
              "    </tr>\n",
              "    <tr>\n",
              "      <th>67</th>\n",
              "      <td>United Arab Emirates</td>\n",
              "      <td>9516.0</td>\n",
              "      <td>4931.0</td>\n",
              "    </tr>\n",
              "    <tr>\n",
              "      <th>68</th>\n",
              "      <td>United Kingdom</td>\n",
              "      <td>711814.0</td>\n",
              "      <td>613028.0</td>\n",
              "    </tr>\n",
              "    <tr>\n",
              "      <th>69</th>\n",
              "      <td>United States of America</td>\n",
              "      <td>1601453.0</td>\n",
              "      <td>1556324.0</td>\n",
              "    </tr>\n",
              "  </tbody>\n",
              "</table>\n",
              "<p>70 rows × 3 columns</p>\n",
              "</div>"
            ],
            "text/plain": [
              "                     country    females      males\n",
              "0                  Argentina    67191.0    41182.0\n",
              "1                  Australia   391736.0   321640.0\n",
              "2                    Austria    68364.0    66113.0\n",
              "3                 Bangladesh    21323.0    41393.0\n",
              "4                    Belarus    20219.0     9084.0\n",
              "..                       ...        ...        ...\n",
              "65                    Uganda    18670.0    18670.0\n",
              "66                   Ukraine    17846.0    19250.0\n",
              "67      United Arab Emirates     9516.0     4931.0\n",
              "68            United Kingdom   711814.0   613028.0\n",
              "69  United States of America  1601453.0  1556324.0\n",
              "\n",
              "[70 rows x 3 columns]"
            ]
          },
          "metadata": {
            "tags": []
          },
          "execution_count": 21
        }
      ]
    },
    {
      "cell_type": "markdown",
      "metadata": {
        "id": "O7Q8cgtYBxCg"
      },
      "source": [
        "## 6. Find the universities where the ratio between female and male is below the average ratio (computed over all universities)"
      ]
    },
    {
      "cell_type": "markdown",
      "metadata": {
        "id": "J8JuA49Ibmj7"
      },
      "source": [
        "Creazione della colonna \"ratio\", contenente il rapporto tra femmine e maschi per ciascuna università."
      ]
    },
    {
      "cell_type": "code",
      "metadata": {
        "id": "Ki4B144nB079",
        "colab": {
          "base_uri": "https://localhost:8080/",
          "height": 204
        },
        "outputId": "e8fa2992-354e-4025-e26c-45b00176a9b4"
      },
      "source": [
        "times_most_recent_f_m['ratio'] = times_most_recent_f_m['females'] / times_most_recent_f_m['males']\r\n",
        "times_most_recent_f_m.head()"
      ],
      "execution_count": 22,
      "outputs": [
        {
          "output_type": "execute_result",
          "data": {
            "text/html": [
              "<div>\n",
              "<style scoped>\n",
              "    .dataframe tbody tr th:only-of-type {\n",
              "        vertical-align: middle;\n",
              "    }\n",
              "\n",
              "    .dataframe tbody tr th {\n",
              "        vertical-align: top;\n",
              "    }\n",
              "\n",
              "    .dataframe thead th {\n",
              "        text-align: right;\n",
              "    }\n",
              "</style>\n",
              "<table border=\"1\" class=\"dataframe\">\n",
              "  <thead>\n",
              "    <tr style=\"text-align: right;\">\n",
              "      <th></th>\n",
              "      <th>university_name</th>\n",
              "      <th>country</th>\n",
              "      <th>num_students</th>\n",
              "      <th>female_male_ratio</th>\n",
              "      <th>females</th>\n",
              "      <th>males</th>\n",
              "      <th>ratio</th>\n",
              "    </tr>\n",
              "  </thead>\n",
              "  <tbody>\n",
              "    <tr>\n",
              "      <th>2003</th>\n",
              "      <td>Aalborg University</td>\n",
              "      <td>Denmark</td>\n",
              "      <td>17422.0</td>\n",
              "      <td>48 : 52</td>\n",
              "      <td>8363.0</td>\n",
              "      <td>9059.0</td>\n",
              "      <td>0.923170</td>\n",
              "    </tr>\n",
              "    <tr>\n",
              "      <th>2056</th>\n",
              "      <td>Aalto University</td>\n",
              "      <td>Finland</td>\n",
              "      <td>16099.0</td>\n",
              "      <td>32 : 68</td>\n",
              "      <td>5152.0</td>\n",
              "      <td>10947.0</td>\n",
              "      <td>0.470631</td>\n",
              "    </tr>\n",
              "    <tr>\n",
              "      <th>1908</th>\n",
              "      <td>Aarhus University</td>\n",
              "      <td>Denmark</td>\n",
              "      <td>23895.0</td>\n",
              "      <td>54 : 46</td>\n",
              "      <td>12903.0</td>\n",
              "      <td>10992.0</td>\n",
              "      <td>1.173854</td>\n",
              "    </tr>\n",
              "    <tr>\n",
              "      <th>2105</th>\n",
              "      <td>Aberystwyth University</td>\n",
              "      <td>United Kingdom</td>\n",
              "      <td>9252.0</td>\n",
              "      <td>48 : 52</td>\n",
              "      <td>4441.0</td>\n",
              "      <td>4811.0</td>\n",
              "      <td>0.923093</td>\n",
              "    </tr>\n",
              "    <tr>\n",
              "      <th>2404</th>\n",
              "      <td>Adam Mickiewicz University</td>\n",
              "      <td>Poland</td>\n",
              "      <td>40633.0</td>\n",
              "      <td>71 : 29</td>\n",
              "      <td>28849.0</td>\n",
              "      <td>11784.0</td>\n",
              "      <td>2.448150</td>\n",
              "    </tr>\n",
              "  </tbody>\n",
              "</table>\n",
              "</div>"
            ],
            "text/plain": [
              "                 university_name         country  ...    males     ratio\n",
              "2003          Aalborg University         Denmark  ...   9059.0  0.923170\n",
              "2056            Aalto University         Finland  ...  10947.0  0.470631\n",
              "1908           Aarhus University         Denmark  ...  10992.0  1.173854\n",
              "2105      Aberystwyth University  United Kingdom  ...   4811.0  0.923093\n",
              "2404  Adam Mickiewicz University          Poland  ...  11784.0  2.448150\n",
              "\n",
              "[5 rows x 7 columns]"
            ]
          },
          "metadata": {
            "tags": []
          },
          "execution_count": 22
        }
      ]
    },
    {
      "cell_type": "markdown",
      "metadata": {
        "id": "FZTa0K5Gb1CB"
      },
      "source": [
        "Calcolo del rapporto medio tra femmine e maschi su tutte le università.\r\n"
      ]
    },
    {
      "cell_type": "code",
      "metadata": {
        "id": "U5yGgyMzJgqI",
        "colab": {
          "base_uri": "https://localhost:8080/"
        },
        "outputId": "4c3cf5d7-b34e-4e1a-82be-ab9d4ad61096"
      },
      "source": [
        "avg_ratio = times_most_recent_f_m['females'].sum() / times_most_recent_f_m['males'].sum()\r\n",
        "avg_ratio"
      ],
      "execution_count": 23,
      "outputs": [
        {
          "output_type": "execute_result",
          "data": {
            "text/plain": [
              "1.070989873395366"
            ]
          },
          "metadata": {
            "tags": []
          },
          "execution_count": 23
        }
      ]
    },
    {
      "cell_type": "markdown",
      "metadata": {
        "id": "JfkE7zmlcMlr"
      },
      "source": [
        "Estrazione delle università caratterizzate da un rapporto tra femmine e maschi minore di quello medio."
      ]
    },
    {
      "cell_type": "code",
      "metadata": {
        "id": "awbqjT_0K7H5",
        "colab": {
          "base_uri": "https://localhost:8080/",
          "height": 204
        },
        "outputId": "8fdb3741-26ab-463e-c0f0-71c8a508fb0f"
      },
      "source": [
        "below_avg_f_m_ratio = times_most_recent_f_m[times_most_recent_f_m['ratio'] < avg_ratio]\r\n",
        "below_avg_f_m_ratio.head()"
      ],
      "execution_count": 24,
      "outputs": [
        {
          "output_type": "execute_result",
          "data": {
            "text/html": [
              "<div>\n",
              "<style scoped>\n",
              "    .dataframe tbody tr th:only-of-type {\n",
              "        vertical-align: middle;\n",
              "    }\n",
              "\n",
              "    .dataframe tbody tr th {\n",
              "        vertical-align: top;\n",
              "    }\n",
              "\n",
              "    .dataframe thead th {\n",
              "        text-align: right;\n",
              "    }\n",
              "</style>\n",
              "<table border=\"1\" class=\"dataframe\">\n",
              "  <thead>\n",
              "    <tr style=\"text-align: right;\">\n",
              "      <th></th>\n",
              "      <th>university_name</th>\n",
              "      <th>country</th>\n",
              "      <th>num_students</th>\n",
              "      <th>female_male_ratio</th>\n",
              "      <th>females</th>\n",
              "      <th>males</th>\n",
              "      <th>ratio</th>\n",
              "    </tr>\n",
              "  </thead>\n",
              "  <tbody>\n",
              "    <tr>\n",
              "      <th>2003</th>\n",
              "      <td>Aalborg University</td>\n",
              "      <td>Denmark</td>\n",
              "      <td>17422.0</td>\n",
              "      <td>48 : 52</td>\n",
              "      <td>8363.0</td>\n",
              "      <td>9059.0</td>\n",
              "      <td>0.923170</td>\n",
              "    </tr>\n",
              "    <tr>\n",
              "      <th>2056</th>\n",
              "      <td>Aalto University</td>\n",
              "      <td>Finland</td>\n",
              "      <td>16099.0</td>\n",
              "      <td>32 : 68</td>\n",
              "      <td>5152.0</td>\n",
              "      <td>10947.0</td>\n",
              "      <td>0.470631</td>\n",
              "    </tr>\n",
              "    <tr>\n",
              "      <th>2105</th>\n",
              "      <td>Aberystwyth University</td>\n",
              "      <td>United Kingdom</td>\n",
              "      <td>9252.0</td>\n",
              "      <td>48 : 52</td>\n",
              "      <td>4441.0</td>\n",
              "      <td>4811.0</td>\n",
              "      <td>0.923093</td>\n",
              "    </tr>\n",
              "    <tr>\n",
              "      <th>2406</th>\n",
              "      <td>Ajou University</td>\n",
              "      <td>South Korea</td>\n",
              "      <td>12706.0</td>\n",
              "      <td>33 : 67</td>\n",
              "      <td>4193.0</td>\n",
              "      <td>8513.0</td>\n",
              "      <td>0.492541</td>\n",
              "    </tr>\n",
              "    <tr>\n",
              "      <th>2408</th>\n",
              "      <td>Alexandria University</td>\n",
              "      <td>Egypt</td>\n",
              "      <td>127431.0</td>\n",
              "      <td>46 : 54</td>\n",
              "      <td>58618.0</td>\n",
              "      <td>68813.0</td>\n",
              "      <td>0.851845</td>\n",
              "    </tr>\n",
              "  </tbody>\n",
              "</table>\n",
              "</div>"
            ],
            "text/plain": [
              "             university_name         country  ...    males     ratio\n",
              "2003      Aalborg University         Denmark  ...   9059.0  0.923170\n",
              "2056        Aalto University         Finland  ...  10947.0  0.470631\n",
              "2105  Aberystwyth University  United Kingdom  ...   4811.0  0.923093\n",
              "2406         Ajou University     South Korea  ...   8513.0  0.492541\n",
              "2408   Alexandria University           Egypt  ...  68813.0  0.851845\n",
              "\n",
              "[5 rows x 7 columns]"
            ]
          },
          "metadata": {
            "tags": []
          },
          "execution_count": 24
        }
      ]
    },
    {
      "cell_type": "markdown",
      "metadata": {
        "id": "nZ_3T7WVL2pX"
      },
      "source": [
        "### 7. For each country, compute the fraction of the students in the country that are in one of the universities computed in the previous point (that is, the denominator of the ratio is the total number of students over all universities in the country)"
      ]
    },
    {
      "cell_type": "markdown",
      "metadata": {
        "id": "_wMoP6r8PtUr"
      },
      "source": [
        "Creazione del dataframe \"total_students_in_country\", contenente il numero totale di studenti per ogni paese."
      ]
    },
    {
      "cell_type": "code",
      "metadata": {
        "id": "cjSkr9dCV_KH",
        "colab": {
          "base_uri": "https://localhost:8080/",
          "height": 204
        },
        "outputId": "108a24e7-0e28-4fcd-f0f0-235a3f831d0c"
      },
      "source": [
        "total_students_in_country = times_most_recent.groupby('country', as_index = False).sum()[['country', 'num_students']]\r\n",
        "total_students_in_country.rename(columns = {'num_students' : 'total_students'}, inplace = True)\r\n",
        "total_students_in_country.head()"
      ],
      "execution_count": 25,
      "outputs": [
        {
          "output_type": "execute_result",
          "data": {
            "text/html": [
              "<div>\n",
              "<style scoped>\n",
              "    .dataframe tbody tr th:only-of-type {\n",
              "        vertical-align: middle;\n",
              "    }\n",
              "\n",
              "    .dataframe tbody tr th {\n",
              "        vertical-align: top;\n",
              "    }\n",
              "\n",
              "    .dataframe thead th {\n",
              "        text-align: right;\n",
              "    }\n",
              "</style>\n",
              "<table border=\"1\" class=\"dataframe\">\n",
              "  <thead>\n",
              "    <tr style=\"text-align: right;\">\n",
              "      <th></th>\n",
              "      <th>country</th>\n",
              "      <th>total_students</th>\n",
              "    </tr>\n",
              "  </thead>\n",
              "  <tbody>\n",
              "    <tr>\n",
              "      <th>0</th>\n",
              "      <td>Argentina</td>\n",
              "      <td>108373.0</td>\n",
              "    </tr>\n",
              "    <tr>\n",
              "      <th>1</th>\n",
              "      <td>Australia</td>\n",
              "      <td>743627.0</td>\n",
              "    </tr>\n",
              "    <tr>\n",
              "      <th>2</th>\n",
              "      <td>Austria</td>\n",
              "      <td>134477.0</td>\n",
              "    </tr>\n",
              "    <tr>\n",
              "      <th>3</th>\n",
              "      <td>Bangladesh</td>\n",
              "      <td>62716.0</td>\n",
              "    </tr>\n",
              "    <tr>\n",
              "      <th>4</th>\n",
              "      <td>Belarus</td>\n",
              "      <td>29303.0</td>\n",
              "    </tr>\n",
              "  </tbody>\n",
              "</table>\n",
              "</div>"
            ],
            "text/plain": [
              "      country  total_students\n",
              "0   Argentina        108373.0\n",
              "1   Australia        743627.0\n",
              "2     Austria        134477.0\n",
              "3  Bangladesh         62716.0\n",
              "4     Belarus         29303.0"
            ]
          },
          "metadata": {
            "tags": []
          },
          "execution_count": 25
        }
      ]
    },
    {
      "cell_type": "markdown",
      "metadata": {
        "id": "Iqpr8vEOP0eF"
      },
      "source": [
        "Creazione del dataframe \"students_in_country_below_avg\" che, per ciascun paese, indica il numero di studenti che frequentano un'università caratterizzata da un rapporto tra femmine e maschi minore di quello medio."
      ]
    },
    {
      "cell_type": "code",
      "metadata": {
        "id": "n3DUMim9M2ft",
        "colab": {
          "base_uri": "https://localhost:8080/",
          "height": 204
        },
        "outputId": "61a14e8f-58a3-4923-b785-221de8894b5f"
      },
      "source": [
        "students_in_country_below_avg = below_avg_f_m_ratio.groupby('country', as_index = False).sum()[['country', 'num_students']]\r\n",
        "students_in_country_below_avg.head()"
      ],
      "execution_count": 26,
      "outputs": [
        {
          "output_type": "execute_result",
          "data": {
            "text/html": [
              "<div>\n",
              "<style scoped>\n",
              "    .dataframe tbody tr th:only-of-type {\n",
              "        vertical-align: middle;\n",
              "    }\n",
              "\n",
              "    .dataframe tbody tr th {\n",
              "        vertical-align: top;\n",
              "    }\n",
              "\n",
              "    .dataframe thead th {\n",
              "        text-align: right;\n",
              "    }\n",
              "</style>\n",
              "<table border=\"1\" class=\"dataframe\">\n",
              "  <thead>\n",
              "    <tr style=\"text-align: right;\">\n",
              "      <th></th>\n",
              "      <th>country</th>\n",
              "      <th>num_students</th>\n",
              "    </tr>\n",
              "  </thead>\n",
              "  <tbody>\n",
              "    <tr>\n",
              "      <th>0</th>\n",
              "      <td>Australia</td>\n",
              "      <td>146235.0</td>\n",
              "    </tr>\n",
              "    <tr>\n",
              "      <th>1</th>\n",
              "      <td>Austria</td>\n",
              "      <td>61033.0</td>\n",
              "    </tr>\n",
              "    <tr>\n",
              "      <th>2</th>\n",
              "      <td>Bangladesh</td>\n",
              "      <td>62716.0</td>\n",
              "    </tr>\n",
              "    <tr>\n",
              "      <th>3</th>\n",
              "      <td>Brazil</td>\n",
              "      <td>278774.0</td>\n",
              "    </tr>\n",
              "    <tr>\n",
              "      <th>4</th>\n",
              "      <td>Canada</td>\n",
              "      <td>86779.0</td>\n",
              "    </tr>\n",
              "  </tbody>\n",
              "</table>\n",
              "</div>"
            ],
            "text/plain": [
              "      country  num_students\n",
              "0   Australia      146235.0\n",
              "1     Austria       61033.0\n",
              "2  Bangladesh       62716.0\n",
              "3      Brazil      278774.0\n",
              "4      Canada       86779.0"
            ]
          },
          "metadata": {
            "tags": []
          },
          "execution_count": 26
        }
      ]
    },
    {
      "cell_type": "markdown",
      "metadata": {
        "id": "9Hhrw9UIQN3W"
      },
      "source": [
        "Creazione del dataframe \"students_in_country\", che costituisce il join dei dataframe \"students_in_country_below_avg\" e \"total_students_in_country\"."
      ]
    },
    {
      "cell_type": "code",
      "metadata": {
        "id": "zy7XwNcLOnKU",
        "colab": {
          "base_uri": "https://localhost:8080/",
          "height": 204
        },
        "outputId": "659a5d68-dc33-46f0-d018-6b6d093b3581"
      },
      "source": [
        "students_in_country = pd.merge(students_in_country_below_avg, total_students_in_country, on = ['country'])\r\n",
        "students_in_country.head()"
      ],
      "execution_count": 27,
      "outputs": [
        {
          "output_type": "execute_result",
          "data": {
            "text/html": [
              "<div>\n",
              "<style scoped>\n",
              "    .dataframe tbody tr th:only-of-type {\n",
              "        vertical-align: middle;\n",
              "    }\n",
              "\n",
              "    .dataframe tbody tr th {\n",
              "        vertical-align: top;\n",
              "    }\n",
              "\n",
              "    .dataframe thead th {\n",
              "        text-align: right;\n",
              "    }\n",
              "</style>\n",
              "<table border=\"1\" class=\"dataframe\">\n",
              "  <thead>\n",
              "    <tr style=\"text-align: right;\">\n",
              "      <th></th>\n",
              "      <th>country</th>\n",
              "      <th>num_students</th>\n",
              "      <th>total_students</th>\n",
              "    </tr>\n",
              "  </thead>\n",
              "  <tbody>\n",
              "    <tr>\n",
              "      <th>0</th>\n",
              "      <td>Australia</td>\n",
              "      <td>146235.0</td>\n",
              "      <td>743627.0</td>\n",
              "    </tr>\n",
              "    <tr>\n",
              "      <th>1</th>\n",
              "      <td>Austria</td>\n",
              "      <td>61033.0</td>\n",
              "      <td>134477.0</td>\n",
              "    </tr>\n",
              "    <tr>\n",
              "      <th>2</th>\n",
              "      <td>Bangladesh</td>\n",
              "      <td>62716.0</td>\n",
              "      <td>62716.0</td>\n",
              "    </tr>\n",
              "    <tr>\n",
              "      <th>3</th>\n",
              "      <td>Brazil</td>\n",
              "      <td>278774.0</td>\n",
              "      <td>534688.0</td>\n",
              "    </tr>\n",
              "    <tr>\n",
              "      <th>4</th>\n",
              "      <td>Canada</td>\n",
              "      <td>86779.0</td>\n",
              "      <td>717054.0</td>\n",
              "    </tr>\n",
              "  </tbody>\n",
              "</table>\n",
              "</div>"
            ],
            "text/plain": [
              "      country  num_students  total_students\n",
              "0   Australia      146235.0        743627.0\n",
              "1     Austria       61033.0        134477.0\n",
              "2  Bangladesh       62716.0         62716.0\n",
              "3      Brazil      278774.0        534688.0\n",
              "4      Canada       86779.0        717054.0"
            ]
          },
          "metadata": {
            "tags": []
          },
          "execution_count": 27
        }
      ]
    },
    {
      "cell_type": "markdown",
      "metadata": {
        "id": "aCPTCwHQQbFd"
      },
      "source": [
        "Calcolo del rapporto tra il numero di studenti che frequentano un'università caratterizzata da un rapporto tra femmine e maschi minore di quello medio e il numero di studenti totali per ciascun paese."
      ]
    },
    {
      "cell_type": "code",
      "metadata": {
        "id": "Vy-tgmz1O_rY",
        "colab": {
          "base_uri": "https://localhost:8080/",
          "height": 204
        },
        "outputId": "b0b92282-3d22-4550-b992-984f9bccb9f3"
      },
      "source": [
        "students_in_country['ratio'] = students_in_country['num_students'] / students_in_country['total_students']\r\n",
        "students_in_country.head()"
      ],
      "execution_count": 28,
      "outputs": [
        {
          "output_type": "execute_result",
          "data": {
            "text/html": [
              "<div>\n",
              "<style scoped>\n",
              "    .dataframe tbody tr th:only-of-type {\n",
              "        vertical-align: middle;\n",
              "    }\n",
              "\n",
              "    .dataframe tbody tr th {\n",
              "        vertical-align: top;\n",
              "    }\n",
              "\n",
              "    .dataframe thead th {\n",
              "        text-align: right;\n",
              "    }\n",
              "</style>\n",
              "<table border=\"1\" class=\"dataframe\">\n",
              "  <thead>\n",
              "    <tr style=\"text-align: right;\">\n",
              "      <th></th>\n",
              "      <th>country</th>\n",
              "      <th>num_students</th>\n",
              "      <th>total_students</th>\n",
              "      <th>ratio</th>\n",
              "    </tr>\n",
              "  </thead>\n",
              "  <tbody>\n",
              "    <tr>\n",
              "      <th>0</th>\n",
              "      <td>Australia</td>\n",
              "      <td>146235.0</td>\n",
              "      <td>743627.0</td>\n",
              "      <td>0.196651</td>\n",
              "    </tr>\n",
              "    <tr>\n",
              "      <th>1</th>\n",
              "      <td>Austria</td>\n",
              "      <td>61033.0</td>\n",
              "      <td>134477.0</td>\n",
              "      <td>0.453855</td>\n",
              "    </tr>\n",
              "    <tr>\n",
              "      <th>2</th>\n",
              "      <td>Bangladesh</td>\n",
              "      <td>62716.0</td>\n",
              "      <td>62716.0</td>\n",
              "      <td>1.000000</td>\n",
              "    </tr>\n",
              "    <tr>\n",
              "      <th>3</th>\n",
              "      <td>Brazil</td>\n",
              "      <td>278774.0</td>\n",
              "      <td>534688.0</td>\n",
              "      <td>0.521377</td>\n",
              "    </tr>\n",
              "    <tr>\n",
              "      <th>4</th>\n",
              "      <td>Canada</td>\n",
              "      <td>86779.0</td>\n",
              "      <td>717054.0</td>\n",
              "      <td>0.121022</td>\n",
              "    </tr>\n",
              "  </tbody>\n",
              "</table>\n",
              "</div>"
            ],
            "text/plain": [
              "      country  num_students  total_students     ratio\n",
              "0   Australia      146235.0        743627.0  0.196651\n",
              "1     Austria       61033.0        134477.0  0.453855\n",
              "2  Bangladesh       62716.0         62716.0  1.000000\n",
              "3      Brazil      278774.0        534688.0  0.521377\n",
              "4      Canada       86779.0        717054.0  0.121022"
            ]
          },
          "metadata": {
            "tags": []
          },
          "execution_count": 28
        }
      ]
    },
    {
      "cell_type": "markdown",
      "metadata": {
        "id": "GiM_J29tV_2v"
      },
      "source": [
        "### 8. Read the file educational_attainment_supplementary_data.csv, discarding any row with missing country_name or series_name"
      ]
    },
    {
      "cell_type": "code",
      "metadata": {
        "id": "A1KalUfIWDK4",
        "colab": {
          "base_uri": "https://localhost:8080/",
          "height": 564
        },
        "outputId": "2be653f5-92c9-41ea-c561-71768107a53c"
      },
      "source": [
        "attainment = pd.read_csv('/content/drive/MyDrive/Colab Notebooks/educational_attainment_supplementary_data.csv')\r\n",
        "attainment.dropna(subset = ['country_name', 'series_name'], inplace = True)\r\n",
        "attainment.head()"
      ],
      "execution_count": 29,
      "outputs": [
        {
          "output_type": "execute_result",
          "data": {
            "text/html": [
              "<div>\n",
              "<style scoped>\n",
              "    .dataframe tbody tr th:only-of-type {\n",
              "        vertical-align: middle;\n",
              "    }\n",
              "\n",
              "    .dataframe tbody tr th {\n",
              "        vertical-align: top;\n",
              "    }\n",
              "\n",
              "    .dataframe thead th {\n",
              "        text-align: right;\n",
              "    }\n",
              "</style>\n",
              "<table border=\"1\" class=\"dataframe\">\n",
              "  <thead>\n",
              "    <tr style=\"text-align: right;\">\n",
              "      <th></th>\n",
              "      <th>country_name</th>\n",
              "      <th>series_name</th>\n",
              "      <th>1985</th>\n",
              "      <th>1986</th>\n",
              "      <th>1987</th>\n",
              "      <th>1990</th>\n",
              "      <th>1991</th>\n",
              "      <th>1992</th>\n",
              "      <th>1993</th>\n",
              "      <th>1995</th>\n",
              "      <th>1996</th>\n",
              "      <th>1997</th>\n",
              "      <th>1998</th>\n",
              "      <th>1999</th>\n",
              "      <th>2000</th>\n",
              "      <th>2001</th>\n",
              "      <th>2002</th>\n",
              "      <th>2003</th>\n",
              "      <th>2004</th>\n",
              "      <th>2005</th>\n",
              "      <th>2006</th>\n",
              "      <th>2007</th>\n",
              "      <th>2008</th>\n",
              "      <th>2009</th>\n",
              "      <th>2010</th>\n",
              "      <th>2011</th>\n",
              "      <th>2012</th>\n",
              "      <th>2013</th>\n",
              "      <th>2015</th>\n",
              "    </tr>\n",
              "  </thead>\n",
              "  <tbody>\n",
              "    <tr>\n",
              "      <th>0</th>\n",
              "      <td>Afghanistan</td>\n",
              "      <td>Barro-Lee: Average years of primary schooling,...</td>\n",
              "      <td>0.33</td>\n",
              "      <td>NaN</td>\n",
              "      <td>NaN</td>\n",
              "      <td>0.44</td>\n",
              "      <td>NaN</td>\n",
              "      <td>NaN</td>\n",
              "      <td>NaN</td>\n",
              "      <td>0.57</td>\n",
              "      <td>NaN</td>\n",
              "      <td>NaN</td>\n",
              "      <td>NaN</td>\n",
              "      <td>NaN</td>\n",
              "      <td>0.75</td>\n",
              "      <td>NaN</td>\n",
              "      <td>NaN</td>\n",
              "      <td>NaN</td>\n",
              "      <td>NaN</td>\n",
              "      <td>0.86</td>\n",
              "      <td>NaN</td>\n",
              "      <td>NaN</td>\n",
              "      <td>NaN</td>\n",
              "      <td>NaN</td>\n",
              "      <td>1.27</td>\n",
              "      <td>NaN</td>\n",
              "      <td>NaN</td>\n",
              "      <td>NaN</td>\n",
              "      <td>NaN</td>\n",
              "    </tr>\n",
              "    <tr>\n",
              "      <th>1</th>\n",
              "      <td>Afghanistan</td>\n",
              "      <td>Barro-Lee: Average years of primary schooling,...</td>\n",
              "      <td>1.03</td>\n",
              "      <td>NaN</td>\n",
              "      <td>NaN</td>\n",
              "      <td>1.26</td>\n",
              "      <td>NaN</td>\n",
              "      <td>NaN</td>\n",
              "      <td>NaN</td>\n",
              "      <td>1.54</td>\n",
              "      <td>NaN</td>\n",
              "      <td>NaN</td>\n",
              "      <td>NaN</td>\n",
              "      <td>NaN</td>\n",
              "      <td>2.01</td>\n",
              "      <td>NaN</td>\n",
              "      <td>NaN</td>\n",
              "      <td>NaN</td>\n",
              "      <td>NaN</td>\n",
              "      <td>2.18</td>\n",
              "      <td>NaN</td>\n",
              "      <td>NaN</td>\n",
              "      <td>NaN</td>\n",
              "      <td>NaN</td>\n",
              "      <td>2.64</td>\n",
              "      <td>NaN</td>\n",
              "      <td>NaN</td>\n",
              "      <td>NaN</td>\n",
              "      <td>NaN</td>\n",
              "    </tr>\n",
              "    <tr>\n",
              "      <th>2</th>\n",
              "      <td>Afghanistan</td>\n",
              "      <td>Barro-Lee: Average years of primary schooling,...</td>\n",
              "      <td>0.83</td>\n",
              "      <td>NaN</td>\n",
              "      <td>NaN</td>\n",
              "      <td>0.95</td>\n",
              "      <td>NaN</td>\n",
              "      <td>NaN</td>\n",
              "      <td>NaN</td>\n",
              "      <td>1.26</td>\n",
              "      <td>NaN</td>\n",
              "      <td>NaN</td>\n",
              "      <td>NaN</td>\n",
              "      <td>NaN</td>\n",
              "      <td>1.92</td>\n",
              "      <td>NaN</td>\n",
              "      <td>NaN</td>\n",
              "      <td>NaN</td>\n",
              "      <td>NaN</td>\n",
              "      <td>1.01</td>\n",
              "      <td>NaN</td>\n",
              "      <td>NaN</td>\n",
              "      <td>NaN</td>\n",
              "      <td>NaN</td>\n",
              "      <td>2.45</td>\n",
              "      <td>NaN</td>\n",
              "      <td>NaN</td>\n",
              "      <td>NaN</td>\n",
              "      <td>NaN</td>\n",
              "    </tr>\n",
              "    <tr>\n",
              "      <th>3</th>\n",
              "      <td>Afghanistan</td>\n",
              "      <td>Barro-Lee: Average years of primary schooling,...</td>\n",
              "      <td>2.34</td>\n",
              "      <td>NaN</td>\n",
              "      <td>NaN</td>\n",
              "      <td>2.22</td>\n",
              "      <td>NaN</td>\n",
              "      <td>NaN</td>\n",
              "      <td>NaN</td>\n",
              "      <td>2.37</td>\n",
              "      <td>NaN</td>\n",
              "      <td>NaN</td>\n",
              "      <td>NaN</td>\n",
              "      <td>NaN</td>\n",
              "      <td>3.83</td>\n",
              "      <td>NaN</td>\n",
              "      <td>NaN</td>\n",
              "      <td>NaN</td>\n",
              "      <td>NaN</td>\n",
              "      <td>2.26</td>\n",
              "      <td>NaN</td>\n",
              "      <td>NaN</td>\n",
              "      <td>NaN</td>\n",
              "      <td>NaN</td>\n",
              "      <td>3.55</td>\n",
              "      <td>NaN</td>\n",
              "      <td>NaN</td>\n",
              "      <td>NaN</td>\n",
              "      <td>NaN</td>\n",
              "    </tr>\n",
              "    <tr>\n",
              "      <th>4</th>\n",
              "      <td>Afghanistan</td>\n",
              "      <td>Barro-Lee: Average years of primary schooling,...</td>\n",
              "      <td>0.54</td>\n",
              "      <td>NaN</td>\n",
              "      <td>NaN</td>\n",
              "      <td>0.92</td>\n",
              "      <td>NaN</td>\n",
              "      <td>NaN</td>\n",
              "      <td>NaN</td>\n",
              "      <td>0.94</td>\n",
              "      <td>NaN</td>\n",
              "      <td>NaN</td>\n",
              "      <td>NaN</td>\n",
              "      <td>NaN</td>\n",
              "      <td>1.26</td>\n",
              "      <td>NaN</td>\n",
              "      <td>NaN</td>\n",
              "      <td>NaN</td>\n",
              "      <td>NaN</td>\n",
              "      <td>2.00</td>\n",
              "      <td>NaN</td>\n",
              "      <td>NaN</td>\n",
              "      <td>NaN</td>\n",
              "      <td>NaN</td>\n",
              "      <td>1.29</td>\n",
              "      <td>NaN</td>\n",
              "      <td>NaN</td>\n",
              "      <td>NaN</td>\n",
              "      <td>NaN</td>\n",
              "    </tr>\n",
              "  </tbody>\n",
              "</table>\n",
              "</div>"
            ],
            "text/plain": [
              "  country_name                                        series_name  ...  2013  2015\n",
              "0  Afghanistan  Barro-Lee: Average years of primary schooling,...  ...   NaN   NaN\n",
              "1  Afghanistan  Barro-Lee: Average years of primary schooling,...  ...   NaN   NaN\n",
              "2  Afghanistan  Barro-Lee: Average years of primary schooling,...  ...   NaN   NaN\n",
              "3  Afghanistan  Barro-Lee: Average years of primary schooling,...  ...   NaN   NaN\n",
              "4  Afghanistan  Barro-Lee: Average years of primary schooling,...  ...   NaN   NaN\n",
              "\n",
              "[5 rows x 29 columns]"
            ]
          },
          "metadata": {
            "tags": []
          },
          "execution_count": 29
        }
      ]
    },
    {
      "cell_type": "code",
      "metadata": {
        "id": "znDcutwgSgzf",
        "colab": {
          "base_uri": "https://localhost:8080/",
          "height": 69
        },
        "outputId": "3b1525a0-1555-4c8d-e7ad-43d22050842a"
      },
      "source": [
        "attainment[attainment['country_name'].isnull()]"
      ],
      "execution_count": 30,
      "outputs": [
        {
          "output_type": "execute_result",
          "data": {
            "text/html": [
              "<div>\n",
              "<style scoped>\n",
              "    .dataframe tbody tr th:only-of-type {\n",
              "        vertical-align: middle;\n",
              "    }\n",
              "\n",
              "    .dataframe tbody tr th {\n",
              "        vertical-align: top;\n",
              "    }\n",
              "\n",
              "    .dataframe thead th {\n",
              "        text-align: right;\n",
              "    }\n",
              "</style>\n",
              "<table border=\"1\" class=\"dataframe\">\n",
              "  <thead>\n",
              "    <tr style=\"text-align: right;\">\n",
              "      <th></th>\n",
              "      <th>country_name</th>\n",
              "      <th>series_name</th>\n",
              "      <th>1985</th>\n",
              "      <th>1986</th>\n",
              "      <th>1987</th>\n",
              "      <th>1990</th>\n",
              "      <th>1991</th>\n",
              "      <th>1992</th>\n",
              "      <th>1993</th>\n",
              "      <th>1995</th>\n",
              "      <th>1996</th>\n",
              "      <th>1997</th>\n",
              "      <th>1998</th>\n",
              "      <th>1999</th>\n",
              "      <th>2000</th>\n",
              "      <th>2001</th>\n",
              "      <th>2002</th>\n",
              "      <th>2003</th>\n",
              "      <th>2004</th>\n",
              "      <th>2005</th>\n",
              "      <th>2006</th>\n",
              "      <th>2007</th>\n",
              "      <th>2008</th>\n",
              "      <th>2009</th>\n",
              "      <th>2010</th>\n",
              "      <th>2011</th>\n",
              "      <th>2012</th>\n",
              "      <th>2013</th>\n",
              "      <th>2015</th>\n",
              "    </tr>\n",
              "  </thead>\n",
              "  <tbody>\n",
              "  </tbody>\n",
              "</table>\n",
              "</div>"
            ],
            "text/plain": [
              "Empty DataFrame\n",
              "Columns: [country_name, series_name, 1985, 1986, 1987, 1990, 1991, 1992, 1993, 1995, 1996, 1997, 1998, 1999, 2000, 2001, 2002, 2003, 2004, 2005, 2006, 2007, 2008, 2009, 2010, 2011, 2012, 2013, 2015]\n",
              "Index: []"
            ]
          },
          "metadata": {
            "tags": []
          },
          "execution_count": 30
        }
      ]
    },
    {
      "cell_type": "code",
      "metadata": {
        "id": "Y8JUNAvxSp8y",
        "colab": {
          "base_uri": "https://localhost:8080/",
          "height": 69
        },
        "outputId": "c4ce7f1e-b49e-4fd3-80fe-5bc18bb91b22"
      },
      "source": [
        "attainment[attainment['series_name'].isnull()]"
      ],
      "execution_count": 31,
      "outputs": [
        {
          "output_type": "execute_result",
          "data": {
            "text/html": [
              "<div>\n",
              "<style scoped>\n",
              "    .dataframe tbody tr th:only-of-type {\n",
              "        vertical-align: middle;\n",
              "    }\n",
              "\n",
              "    .dataframe tbody tr th {\n",
              "        vertical-align: top;\n",
              "    }\n",
              "\n",
              "    .dataframe thead th {\n",
              "        text-align: right;\n",
              "    }\n",
              "</style>\n",
              "<table border=\"1\" class=\"dataframe\">\n",
              "  <thead>\n",
              "    <tr style=\"text-align: right;\">\n",
              "      <th></th>\n",
              "      <th>country_name</th>\n",
              "      <th>series_name</th>\n",
              "      <th>1985</th>\n",
              "      <th>1986</th>\n",
              "      <th>1987</th>\n",
              "      <th>1990</th>\n",
              "      <th>1991</th>\n",
              "      <th>1992</th>\n",
              "      <th>1993</th>\n",
              "      <th>1995</th>\n",
              "      <th>1996</th>\n",
              "      <th>1997</th>\n",
              "      <th>1998</th>\n",
              "      <th>1999</th>\n",
              "      <th>2000</th>\n",
              "      <th>2001</th>\n",
              "      <th>2002</th>\n",
              "      <th>2003</th>\n",
              "      <th>2004</th>\n",
              "      <th>2005</th>\n",
              "      <th>2006</th>\n",
              "      <th>2007</th>\n",
              "      <th>2008</th>\n",
              "      <th>2009</th>\n",
              "      <th>2010</th>\n",
              "      <th>2011</th>\n",
              "      <th>2012</th>\n",
              "      <th>2013</th>\n",
              "      <th>2015</th>\n",
              "    </tr>\n",
              "  </thead>\n",
              "  <tbody>\n",
              "  </tbody>\n",
              "</table>\n",
              "</div>"
            ],
            "text/plain": [
              "Empty DataFrame\n",
              "Columns: [country_name, series_name, 1985, 1986, 1987, 1990, 1991, 1992, 1993, 1995, 1996, 1997, 1998, 1999, 2000, 2001, 2002, 2003, 2004, 2005, 2006, 2007, 2008, 2009, 2010, 2011, 2012, 2013, 2015]\n",
              "Index: []"
            ]
          },
          "metadata": {
            "tags": []
          },
          "execution_count": 31
        }
      ]
    },
    {
      "cell_type": "markdown",
      "metadata": {
        "id": "63vTA9SzXnXn"
      },
      "source": [
        "### 9. From attainment build a dataframe with the same data, but with 4 columns: country_name, series_name, year, value"
      ]
    },
    {
      "cell_type": "code",
      "metadata": {
        "id": "7x0zzSpWXpfI",
        "colab": {
          "base_uri": "https://localhost:8080/",
          "height": 419
        },
        "outputId": "9d9b9e26-f8f4-413d-86e4-10a44c1d98d5"
      },
      "source": [
        "unpivoted_attainment = pd.melt(attainment, id_vars=['country_name', 'series_name'], var_name = 'year')\r\n",
        "unpivoted_attainment"
      ],
      "execution_count": 32,
      "outputs": [
        {
          "output_type": "execute_result",
          "data": {
            "text/html": [
              "<div>\n",
              "<style scoped>\n",
              "    .dataframe tbody tr th:only-of-type {\n",
              "        vertical-align: middle;\n",
              "    }\n",
              "\n",
              "    .dataframe tbody tr th {\n",
              "        vertical-align: top;\n",
              "    }\n",
              "\n",
              "    .dataframe thead th {\n",
              "        text-align: right;\n",
              "    }\n",
              "</style>\n",
              "<table border=\"1\" class=\"dataframe\">\n",
              "  <thead>\n",
              "    <tr style=\"text-align: right;\">\n",
              "      <th></th>\n",
              "      <th>country_name</th>\n",
              "      <th>series_name</th>\n",
              "      <th>year</th>\n",
              "      <th>value</th>\n",
              "    </tr>\n",
              "  </thead>\n",
              "  <tbody>\n",
              "    <tr>\n",
              "      <th>0</th>\n",
              "      <td>Afghanistan</td>\n",
              "      <td>Barro-Lee: Average years of primary schooling,...</td>\n",
              "      <td>1985</td>\n",
              "      <td>0.33</td>\n",
              "    </tr>\n",
              "    <tr>\n",
              "      <th>1</th>\n",
              "      <td>Afghanistan</td>\n",
              "      <td>Barro-Lee: Average years of primary schooling,...</td>\n",
              "      <td>1985</td>\n",
              "      <td>1.03</td>\n",
              "    </tr>\n",
              "    <tr>\n",
              "      <th>2</th>\n",
              "      <td>Afghanistan</td>\n",
              "      <td>Barro-Lee: Average years of primary schooling,...</td>\n",
              "      <td>1985</td>\n",
              "      <td>0.83</td>\n",
              "    </tr>\n",
              "    <tr>\n",
              "      <th>3</th>\n",
              "      <td>Afghanistan</td>\n",
              "      <td>Barro-Lee: Average years of primary schooling,...</td>\n",
              "      <td>1985</td>\n",
              "      <td>2.34</td>\n",
              "    </tr>\n",
              "    <tr>\n",
              "      <th>4</th>\n",
              "      <td>Afghanistan</td>\n",
              "      <td>Barro-Lee: Average years of primary schooling,...</td>\n",
              "      <td>1985</td>\n",
              "      <td>0.54</td>\n",
              "    </tr>\n",
              "    <tr>\n",
              "      <th>...</th>\n",
              "      <td>...</td>\n",
              "      <td>...</td>\n",
              "      <td>...</td>\n",
              "      <td>...</td>\n",
              "    </tr>\n",
              "    <tr>\n",
              "      <th>2134345</th>\n",
              "      <td>Zimbabwe</td>\n",
              "      <td>UIS: Percentage of population age 25+ with som...</td>\n",
              "      <td>2015</td>\n",
              "      <td>NaN</td>\n",
              "    </tr>\n",
              "    <tr>\n",
              "      <th>2134346</th>\n",
              "      <td>Zimbabwe</td>\n",
              "      <td>UIS: Percentage of population age 25+ with som...</td>\n",
              "      <td>2015</td>\n",
              "      <td>NaN</td>\n",
              "    </tr>\n",
              "    <tr>\n",
              "      <th>2134347</th>\n",
              "      <td>Zimbabwe</td>\n",
              "      <td>UIS: Percentage of population age 25+ with unk...</td>\n",
              "      <td>2015</td>\n",
              "      <td>NaN</td>\n",
              "    </tr>\n",
              "    <tr>\n",
              "      <th>2134348</th>\n",
              "      <td>Zimbabwe</td>\n",
              "      <td>UIS: Percentage of population age 25+ with unk...</td>\n",
              "      <td>2015</td>\n",
              "      <td>NaN</td>\n",
              "    </tr>\n",
              "    <tr>\n",
              "      <th>2134349</th>\n",
              "      <td>Zimbabwe</td>\n",
              "      <td>UIS: Percentage of population age 25+ with unk...</td>\n",
              "      <td>2015</td>\n",
              "      <td>NaN</td>\n",
              "    </tr>\n",
              "  </tbody>\n",
              "</table>\n",
              "<p>2134350 rows × 4 columns</p>\n",
              "</div>"
            ],
            "text/plain": [
              "        country_name  ... value\n",
              "0        Afghanistan  ...  0.33\n",
              "1        Afghanistan  ...  1.03\n",
              "2        Afghanistan  ...  0.83\n",
              "3        Afghanistan  ...  2.34\n",
              "4        Afghanistan  ...  0.54\n",
              "...              ...  ...   ...\n",
              "2134345     Zimbabwe  ...   NaN\n",
              "2134346     Zimbabwe  ...   NaN\n",
              "2134347     Zimbabwe  ...   NaN\n",
              "2134348     Zimbabwe  ...   NaN\n",
              "2134349     Zimbabwe  ...   NaN\n",
              "\n",
              "[2134350 rows x 4 columns]"
            ]
          },
          "metadata": {
            "tags": []
          },
          "execution_count": 32
        }
      ]
    },
    {
      "cell_type": "markdown",
      "metadata": {
        "id": "MBYdBZKGYCJI"
      },
      "source": [
        "### 10. For each university, find the number of rankings in which they appear (it suffices to appear in one year for each ranking)"
      ]
    },
    {
      "cell_type": "code",
      "metadata": {
        "id": "PI7QivBdYDaS",
        "colab": {
          "base_uri": "https://localhost:8080/"
        },
        "outputId": "af678876-dfc4-40cd-a70f-0b05530abf70"
      },
      "source": [
        "universities_times = pd.Series(times['university_name'].unique())\r\n",
        "universities_shanghai = pd.Series(shanghai['university_name'].unique())\r\n",
        "universities_cwur = pd.Series(cwur['university_name'].unique())\r\n",
        "number_of_rankinkgs = pd.concat([universities_times, universities_shanghai, universities_cwur]) \r\n",
        "number_of_rankinkgs.value_counts()"
      ],
      "execution_count": 33,
      "outputs": [
        {
          "output_type": "execute_result",
          "data": {
            "text/plain": [
              "University of North Carolina at Chapel Hill        3\n",
              "Aalborg University                                 3\n",
              "Drexel University                                  3\n",
              "Nanyang Technological University                   3\n",
              "Harbin Institute of Technology                     3\n",
              "                                                  ..\n",
              "Hunan Normal University                            1\n",
              "Federal University of Santa Maria                  1\n",
              "University of Missouri–Kansas City                 1\n",
              "University of Arkansas - Fayetteville              1\n",
              "Pennsylvania State University - University Park    1\n",
              "Length: 1452, dtype: int64"
            ]
          },
          "metadata": {
            "tags": []
          },
          "execution_count": 33
        }
      ]
    },
    {
      "cell_type": "markdown",
      "metadata": {
        "id": "hCUp5UKuwSA3"
      },
      "source": [
        "### 11. In the times ranking, compute the number of times each university appears"
      ]
    },
    {
      "cell_type": "code",
      "metadata": {
        "id": "2ojVAC-_wUFI",
        "colab": {
          "base_uri": "https://localhost:8080/"
        },
        "outputId": "18b9a2c1-86a4-4860-e8e9-56f5b5c69f8e"
      },
      "source": [
        "number_times = times.groupby('university_name').size()\r\n",
        "number_times.head()"
      ],
      "execution_count": 34,
      "outputs": [
        {
          "output_type": "execute_result",
          "data": {
            "text/plain": [
              "university_name\n",
              "AGH University of Science and Technology    1\n",
              "Aalborg University                          5\n",
              "Aalto University                            5\n",
              "Aarhus University                           6\n",
              "Aberystwyth University                      5\n",
              "dtype: int64"
            ]
          },
          "metadata": {
            "tags": []
          },
          "execution_count": 34
        }
      ]
    },
    {
      "cell_type": "markdown",
      "metadata": {
        "id": "t8S6JgLLwyfq"
      },
      "source": [
        "### 12. Find the universities that appear at most twice in the times ranking¶"
      ]
    },
    {
      "cell_type": "code",
      "metadata": {
        "id": "jpoLjrw-w0Uc",
        "colab": {
          "base_uri": "https://localhost:8080/"
        },
        "outputId": "50f4550d-e8e0-4168-d255-61a2e6bba151"
      },
      "source": [
        "number_times[number_times <= 2]"
      ],
      "execution_count": 35,
      "outputs": [
        {
          "output_type": "execute_result",
          "data": {
            "text/plain": [
              "university_name\n",
              "AGH University of Science and Technology    1\n",
              "Adam Mickiewicz University                  1\n",
              "Aix-Marseille University                    1\n",
              "Ajou University                             1\n",
              "Alexandru Ioan Cuza University              1\n",
              "                                           ..\n",
              "Yokohama City University                    1\n",
              "Yokohama National University                1\n",
              "Yuan Ze University                          2\n",
              "Yıldız Technical University                 1\n",
              "Örebro University                           1\n",
              "Length: 408, dtype: int64"
            ]
          },
          "metadata": {
            "tags": []
          },
          "execution_count": 35
        }
      ]
    },
    {
      "cell_type": "markdown",
      "metadata": {
        "id": "z5b7Fnl3z0yK"
      },
      "source": [
        "### 13. The universities that, in any year, have the same position in all three rankings (they must have the same position in a year)"
      ]
    },
    {
      "cell_type": "markdown",
      "metadata": {
        "id": "W-VlxxQlVNCm"
      },
      "source": [
        "Selezione dei dati contenuti nei dataframe \"times\" e \"shanghai\" in cui l'espressione della posizione nel ranking non è espressa mediante un intervallo."
      ]
    },
    {
      "cell_type": "code",
      "metadata": {
        "colab": {
          "base_uri": "https://localhost:8080/"
        },
        "id": "WPVXjLmG3Zx_",
        "outputId": "88f7894c-f115-434d-bab0-4637c33a100e"
      },
      "source": [
        "times[times['world_rank'].str.contains('-')]['world_rank'].unique()"
      ],
      "execution_count": 36,
      "outputs": [
        {
          "output_type": "execute_result",
          "data": {
            "text/plain": [
              "array(['201-225', '226-250', '251-275', '276-300', '301-350', '350-400',\n",
              "       '351-400', '201-250', '251-300', '401-500', '501-600', '601-800'],\n",
              "      dtype=object)"
            ]
          },
          "metadata": {
            "tags": []
          },
          "execution_count": 36
        }
      ]
    },
    {
      "cell_type": "code",
      "metadata": {
        "colab": {
          "base_uri": "https://localhost:8080/"
        },
        "id": "X918TAbW3f9a",
        "outputId": "768a992c-b0c0-4573-adec-0aac3457785d"
      },
      "source": [
        "shanghai[shanghai['world_rank'].str.contains('-')]['world_rank'].unique()"
      ],
      "execution_count": 37,
      "outputs": [
        {
          "output_type": "execute_result",
          "data": {
            "text/plain": [
              "array(['101-152', '153-202', '203-300', '301-400', '401-500', '102-150',\n",
              "       '151-200', '201-300', '151-202', '203-304', '305-402', '403-510',\n",
              "       '101-151', '152-200', '201-302', '303-401', '402-503', '402-501',\n",
              "       '101-150'], dtype=object)"
            ]
          },
          "metadata": {
            "tags": []
          },
          "execution_count": 37
        }
      ]
    },
    {
      "cell_type": "code",
      "metadata": {
        "colab": {
          "base_uri": "https://localhost:8080/"
        },
        "id": "d8eOssQAIuzU",
        "outputId": "7e97ebac-2887-44b0-d172-a77b60d53911"
      },
      "source": [
        "cwur['world_rank'].unique()"
      ],
      "execution_count": 38,
      "outputs": [
        {
          "output_type": "execute_result",
          "data": {
            "text/plain": [
              "array([   1,    2,    3,    4,    5,    6,    7,    8,    9,   10,   11,\n",
              "         12,   13,   14,   15,   16,   17,   18,   19,   20,   21,   22,\n",
              "         23,   24,   25,   26,   27,   28,   29,   30,   31,   32,   33,\n",
              "         34,   35,   36,   37,   38,   39,   40,   41,   42,   43,   44,\n",
              "         45,   46,   47,   48,   49,   50,   51,   52,   53,   54,   55,\n",
              "         56,   57,   58,   59,   60,   61,   62,   63,   64,   65,   66,\n",
              "         67,   68,   69,   70,   71,   72,   73,   74,   75,   76,   77,\n",
              "         78,   79,   80,   81,   82,   83,   84,   85,   86,   87,   88,\n",
              "         89,   90,   91,   92,   93,   94,   95,   96,   97,   98,   99,\n",
              "        100,  101,  102,  103,  104,  105,  106,  107,  108,  109,  110,\n",
              "        111,  112,  113,  114,  115,  116,  117,  118,  119,  120,  121,\n",
              "        122,  123,  124,  125,  126,  127,  128,  129,  130,  131,  132,\n",
              "        133,  134,  135,  136,  137,  138,  139,  140,  141,  142,  143,\n",
              "        144,  145,  146,  147,  148,  149,  150,  151,  152,  153,  154,\n",
              "        155,  156,  157,  158,  159,  160,  161,  162,  163,  164,  165,\n",
              "        166,  167,  168,  169,  170,  171,  172,  173,  174,  175,  176,\n",
              "        177,  178,  179,  180,  181,  182,  183,  184,  185,  186,  187,\n",
              "        188,  189,  190,  191,  192,  193,  194,  195,  196,  197,  198,\n",
              "        199,  200,  201,  202,  203,  204,  205,  206,  207,  208,  209,\n",
              "        210,  211,  212,  213,  214,  215,  216,  217,  218,  219,  220,\n",
              "        221,  222,  223,  224,  225,  226,  227,  228,  229,  230,  231,\n",
              "        232,  233,  234,  235,  236,  237,  238,  239,  240,  241,  242,\n",
              "        243,  244,  245,  246,  247,  248,  249,  250,  251,  252,  253,\n",
              "        254,  255,  256,  257,  258,  259,  260,  261,  262,  263,  264,\n",
              "        265,  266,  267,  268,  269,  270,  271,  272,  273,  274,  275,\n",
              "        276,  277,  278,  279,  280,  281,  282,  283,  284,  285,  286,\n",
              "        287,  288,  289,  290,  291,  292,  293,  294,  295,  296,  297,\n",
              "        298,  299,  300,  301,  302,  303,  304,  305,  306,  307,  308,\n",
              "        309,  310,  311,  312,  313,  314,  315,  316,  317,  318,  319,\n",
              "        320,  321,  322,  323,  324,  325,  326,  327,  328,  329,  330,\n",
              "        331,  332,  333,  334,  335,  336,  337,  338,  339,  340,  341,\n",
              "        342,  343,  344,  345,  346,  347,  348,  349,  350,  351,  352,\n",
              "        353,  354,  355,  356,  357,  358,  359,  360,  361,  362,  363,\n",
              "        364,  365,  366,  367,  368,  369,  370,  371,  372,  373,  374,\n",
              "        375,  376,  377,  378,  379,  380,  381,  382,  383,  384,  385,\n",
              "        386,  387,  388,  389,  390,  391,  392,  393,  394,  395,  396,\n",
              "        397,  398,  399,  400,  401,  402,  403,  404,  405,  406,  407,\n",
              "        408,  409,  410,  411,  412,  413,  414,  415,  416,  417,  418,\n",
              "        419,  420,  421,  422,  423,  424,  425,  426,  427,  428,  429,\n",
              "        430,  431,  432,  433,  434,  435,  436,  437,  438,  439,  440,\n",
              "        441,  442,  443,  444,  445,  446,  447,  448,  449,  450,  451,\n",
              "        452,  453,  454,  455,  456,  457,  458,  459,  460,  461,  462,\n",
              "        463,  464,  465,  466,  467,  468,  469,  470,  471,  472,  473,\n",
              "        474,  475,  476,  477,  478,  479,  480,  481,  482,  483,  484,\n",
              "        485,  486,  487,  488,  489,  490,  491,  492,  493,  494,  495,\n",
              "        496,  497,  498,  499,  500,  501,  502,  503,  504,  505,  506,\n",
              "        507,  508,  509,  510,  511,  512,  513,  514,  515,  516,  517,\n",
              "        518,  519,  520,  521,  522,  523,  524,  525,  526,  527,  528,\n",
              "        529,  530,  531,  532,  533,  534,  535,  536,  537,  538,  539,\n",
              "        540,  541,  542,  543,  544,  545,  546,  547,  548,  549,  550,\n",
              "        551,  552,  553,  554,  555,  556,  557,  558,  559,  560,  561,\n",
              "        562,  563,  564,  565,  566,  567,  568,  569,  570,  571,  572,\n",
              "        573,  574,  575,  576,  577,  578,  579,  580,  581,  582,  583,\n",
              "        584,  585,  586,  587,  588,  589,  590,  591,  592,  593,  594,\n",
              "        595,  596,  597,  598,  599,  600,  601,  602,  603,  604,  605,\n",
              "        606,  607,  608,  609,  610,  611,  612,  613,  614,  615,  616,\n",
              "        617,  618,  619,  620,  621,  622,  623,  624,  625,  626,  627,\n",
              "        628,  629,  630,  631,  632,  633,  634,  635,  636,  637,  638,\n",
              "        639,  640,  641,  642,  643,  644,  645,  646,  647,  648,  649,\n",
              "        650,  651,  652,  653,  654,  655,  656,  657,  658,  659,  660,\n",
              "        661,  662,  663,  664,  665,  666,  667,  668,  669,  670,  671,\n",
              "        672,  673,  674,  675,  676,  677,  678,  679,  680,  681,  682,\n",
              "        683,  684,  685,  686,  687,  688,  689,  690,  691,  692,  693,\n",
              "        694,  695,  696,  697,  698,  699,  700,  701,  702,  703,  704,\n",
              "        705,  706,  707,  708,  709,  710,  711,  712,  713,  714,  715,\n",
              "        716,  717,  718,  719,  720,  721,  722,  723,  724,  725,  726,\n",
              "        727,  728,  729,  730,  731,  732,  733,  734,  735,  736,  737,\n",
              "        738,  739,  740,  741,  742,  743,  744,  745,  746,  747,  748,\n",
              "        749,  750,  751,  752,  753,  754,  755,  756,  757,  758,  759,\n",
              "        760,  761,  762,  763,  764,  765,  766,  767,  768,  769,  770,\n",
              "        771,  772,  773,  774,  775,  776,  777,  778,  779,  780,  781,\n",
              "        782,  783,  784,  785,  786,  787,  788,  789,  790,  791,  792,\n",
              "        793,  794,  795,  796,  797,  798,  799,  800,  801,  802,  803,\n",
              "        804,  805,  806,  807,  808,  809,  810,  811,  812,  813,  814,\n",
              "        815,  816,  817,  818,  819,  820,  821,  822,  823,  824,  825,\n",
              "        826,  827,  828,  829,  830,  831,  832,  833,  834,  835,  836,\n",
              "        837,  838,  839,  840,  841,  842,  843,  844,  845,  846,  847,\n",
              "        848,  849,  850,  851,  852,  853,  854,  855,  856,  857,  858,\n",
              "        859,  860,  861,  862,  863,  864,  865,  866,  867,  868,  869,\n",
              "        870,  871,  872,  873,  874,  875,  876,  877,  878,  879,  880,\n",
              "        881,  882,  883,  884,  885,  886,  887,  888,  889,  890,  891,\n",
              "        892,  893,  894,  895,  896,  897,  898,  899,  900,  901,  902,\n",
              "        903,  904,  905,  906,  907,  908,  909,  910,  911,  912,  913,\n",
              "        914,  915,  916,  917,  918,  919,  920,  921,  922,  923,  924,\n",
              "        925,  926,  927,  928,  929,  930,  931,  932,  933,  934,  935,\n",
              "        936,  937,  938,  939,  940,  941,  942,  943,  944,  945,  946,\n",
              "        947,  948,  949,  950,  951,  952,  953,  954,  955,  956,  957,\n",
              "        958,  959,  960,  961,  962,  963,  964,  965,  966,  967,  968,\n",
              "        969,  970,  971,  972,  973,  974,  975,  976,  977,  978,  979,\n",
              "        980,  981,  982,  983,  984,  985,  986,  987,  988,  989,  990,\n",
              "        991,  992,  993,  994,  995,  996,  997,  998,  999, 1000])"
            ]
          },
          "metadata": {
            "tags": []
          },
          "execution_count": 38
        }
      ]
    },
    {
      "cell_type": "code",
      "metadata": {
        "id": "nWb3ijnB9Vz3"
      },
      "source": [
        "times['rank'] = times['world_rank'].str.extract('(\\d+)\\-?\\d*')\r\n",
        "times['rank'] = pd.to_numeric(times['rank'])\r\n",
        "shanghai['rank'] = shanghai['world_rank'].str.extract('(\\d+)\\-?\\d*')\r\n",
        "shanghai['rank'] = pd.to_numeric(shanghai['rank'])\r\n",
        "rankings = pd.merge(times[['university_name', 'year', 'rank']], shanghai[['university_name', 'year', 'rank']], on = ['university_name', 'year'], suffixes = ('_times', '_shanghai'))\r\n",
        "rankings = pd.merge(rankings, cwur[['university_name', 'year', 'world_rank']], on = ['university_name', 'year'])\r\n",
        "rankings.rename(columns = {'world_rank' : 'rank_cwur'}, inplace = True)"
      ],
      "execution_count": 39,
      "outputs": []
    },
    {
      "cell_type": "code",
      "metadata": {
        "colab": {
          "base_uri": "https://localhost:8080/",
          "height": 374
        },
        "id": "JYqUGprkQ45b",
        "outputId": "a0c4e7c1-434d-4c08-840e-3bd585d96ac0"
      },
      "source": [
        "times['world_rank_intervals'] = times['world_rank'].str.extract('(\\d+)\\-?\\d*')\r\n",
        "times.loc[pd.to_numeric(times['world_rank_intervals']) > 99] = (pd.to_numeric(times.loc[pd.to_numeric(times['world_rank_intervals']) > 99]['world_rank_intervals']) // 100) * 100"
      ],
      "execution_count": 47,
      "outputs": [
        {
          "output_type": "error",
          "ename": "ValueError",
          "evalue": "ignored",
          "traceback": [
            "\u001b[0;31m---------------------------------------------------------------------------\u001b[0m",
            "\u001b[0;31mValueError\u001b[0m                                Traceback (most recent call last)",
            "\u001b[0;32m<ipython-input-47-0c63e38197e0>\u001b[0m in \u001b[0;36m<module>\u001b[0;34m()\u001b[0m\n\u001b[1;32m      1\u001b[0m \u001b[0mtimes\u001b[0m\u001b[0;34m[\u001b[0m\u001b[0;34m'world_rank_intervals'\u001b[0m\u001b[0;34m]\u001b[0m \u001b[0;34m=\u001b[0m \u001b[0mtimes\u001b[0m\u001b[0;34m[\u001b[0m\u001b[0;34m'world_rank'\u001b[0m\u001b[0;34m]\u001b[0m\u001b[0;34m.\u001b[0m\u001b[0mstr\u001b[0m\u001b[0;34m.\u001b[0m\u001b[0mextract\u001b[0m\u001b[0;34m(\u001b[0m\u001b[0;34m'(\\d+)\\-?\\d*'\u001b[0m\u001b[0;34m)\u001b[0m\u001b[0;34m\u001b[0m\u001b[0;34m\u001b[0m\u001b[0m\n\u001b[0;32m----> 2\u001b[0;31m \u001b[0mtimes\u001b[0m\u001b[0;34m.\u001b[0m\u001b[0mloc\u001b[0m\u001b[0;34m[\u001b[0m\u001b[0mpd\u001b[0m\u001b[0;34m.\u001b[0m\u001b[0mto_numeric\u001b[0m\u001b[0;34m(\u001b[0m\u001b[0mtimes\u001b[0m\u001b[0;34m[\u001b[0m\u001b[0;34m'world_rank_intervals'\u001b[0m\u001b[0;34m]\u001b[0m\u001b[0;34m)\u001b[0m \u001b[0;34m>\u001b[0m \u001b[0;36m99\u001b[0m\u001b[0;34m]\u001b[0m \u001b[0;34m=\u001b[0m \u001b[0;34m(\u001b[0m\u001b[0mpd\u001b[0m\u001b[0;34m.\u001b[0m\u001b[0mto_numeric\u001b[0m\u001b[0;34m(\u001b[0m\u001b[0mtimes\u001b[0m\u001b[0;34m.\u001b[0m\u001b[0mloc\u001b[0m\u001b[0;34m[\u001b[0m\u001b[0mpd\u001b[0m\u001b[0;34m.\u001b[0m\u001b[0mto_numeric\u001b[0m\u001b[0;34m(\u001b[0m\u001b[0mtimes\u001b[0m\u001b[0;34m[\u001b[0m\u001b[0;34m'world_rank_intervals'\u001b[0m\u001b[0;34m]\u001b[0m\u001b[0;34m)\u001b[0m \u001b[0;34m>\u001b[0m \u001b[0;36m99\u001b[0m\u001b[0;34m]\u001b[0m\u001b[0;34m[\u001b[0m\u001b[0;34m'world_rank_intervals'\u001b[0m\u001b[0;34m]\u001b[0m\u001b[0;34m)\u001b[0m \u001b[0;34m//\u001b[0m \u001b[0;36m100\u001b[0m\u001b[0;34m)\u001b[0m \u001b[0;34m*\u001b[0m \u001b[0;36m100\u001b[0m\u001b[0;34m\u001b[0m\u001b[0;34m\u001b[0m\u001b[0m\n\u001b[0m",
            "\u001b[0;32m/usr/local/lib/python3.7/dist-packages/pandas/core/indexing.py\u001b[0m in \u001b[0;36m__setitem__\u001b[0;34m(self, key, value)\u001b[0m\n\u001b[1;32m    668\u001b[0m \u001b[0;34m\u001b[0m\u001b[0m\n\u001b[1;32m    669\u001b[0m         \u001b[0miloc\u001b[0m \u001b[0;34m=\u001b[0m \u001b[0mself\u001b[0m \u001b[0;32mif\u001b[0m \u001b[0mself\u001b[0m\u001b[0;34m.\u001b[0m\u001b[0mname\u001b[0m \u001b[0;34m==\u001b[0m \u001b[0;34m\"iloc\"\u001b[0m \u001b[0;32melse\u001b[0m \u001b[0mself\u001b[0m\u001b[0;34m.\u001b[0m\u001b[0mobj\u001b[0m\u001b[0;34m.\u001b[0m\u001b[0miloc\u001b[0m\u001b[0;34m\u001b[0m\u001b[0;34m\u001b[0m\u001b[0m\n\u001b[0;32m--> 670\u001b[0;31m         \u001b[0miloc\u001b[0m\u001b[0;34m.\u001b[0m\u001b[0m_setitem_with_indexer\u001b[0m\u001b[0;34m(\u001b[0m\u001b[0mindexer\u001b[0m\u001b[0;34m,\u001b[0m \u001b[0mvalue\u001b[0m\u001b[0;34m)\u001b[0m\u001b[0;34m\u001b[0m\u001b[0;34m\u001b[0m\u001b[0m\n\u001b[0m\u001b[1;32m    671\u001b[0m \u001b[0;34m\u001b[0m\u001b[0m\n\u001b[1;32m    672\u001b[0m     \u001b[0;32mdef\u001b[0m \u001b[0m_validate_key\u001b[0m\u001b[0;34m(\u001b[0m\u001b[0mself\u001b[0m\u001b[0;34m,\u001b[0m \u001b[0mkey\u001b[0m\u001b[0;34m,\u001b[0m \u001b[0maxis\u001b[0m\u001b[0;34m:\u001b[0m \u001b[0mint\u001b[0m\u001b[0;34m)\u001b[0m\u001b[0;34m:\u001b[0m\u001b[0;34m\u001b[0m\u001b[0;34m\u001b[0m\u001b[0m\n",
            "\u001b[0;32m/usr/local/lib/python3.7/dist-packages/pandas/core/indexing.py\u001b[0m in \u001b[0;36m_setitem_with_indexer\u001b[0;34m(self, indexer, value)\u001b[0m\n\u001b[1;32m   1751\u001b[0m                     \u001b[0;32mif\u001b[0m \u001b[0mlen\u001b[0m\u001b[0;34m(\u001b[0m\u001b[0milocs\u001b[0m\u001b[0;34m)\u001b[0m \u001b[0;34m!=\u001b[0m \u001b[0mlen\u001b[0m\u001b[0;34m(\u001b[0m\u001b[0mvalue\u001b[0m\u001b[0;34m)\u001b[0m\u001b[0;34m:\u001b[0m\u001b[0;34m\u001b[0m\u001b[0;34m\u001b[0m\u001b[0m\n\u001b[1;32m   1752\u001b[0m                         raise ValueError(\n\u001b[0;32m-> 1753\u001b[0;31m                             \u001b[0;34m\"Must have equal len keys and value \"\u001b[0m\u001b[0;34m\u001b[0m\u001b[0;34m\u001b[0m\u001b[0m\n\u001b[0m\u001b[1;32m   1754\u001b[0m                             \u001b[0;34m\"when setting with an iterable\"\u001b[0m\u001b[0;34m\u001b[0m\u001b[0;34m\u001b[0m\u001b[0m\n\u001b[1;32m   1755\u001b[0m                         )\n",
            "\u001b[0;31mValueError\u001b[0m: Must have equal len keys and value when setting with an iterable"
          ]
        }
      ]
    },
    {
      "cell_type": "code",
      "metadata": {
        "colab": {
          "base_uri": "https://localhost:8080/",
          "height": 163
        },
        "id": "vymdcnMROcqq",
        "outputId": "1cf6c660-4dc3-4b93-86ea-91a3013dc0a8"
      },
      "source": [
        "times['world_rank_intervals'] = times['world_rank'].str.extract('(\\d+)\\-?\\d*')\r\n",
        "times.loc[(pd.to_numeric(times['world_rank_intervals']) > 99)] = pd.to_numeric(times['world_rank_intervals'] // 100 * 100"
      ],
      "execution_count": 42,
      "outputs": [
        {
          "output_type": "error",
          "ename": "SyntaxError",
          "evalue": "ignored",
          "traceback": [
            "\u001b[0;36m  File \u001b[0;32m\"<ipython-input-42-2cec2638804b>\"\u001b[0;36m, line \u001b[0;32m2\u001b[0m\n\u001b[0;31m    times.loc[(pd.to_numeric(times['world_rank_intervals']) > 99)] = pd.to_numeric(times['world_rank_intervals'] // 100 * 100\u001b[0m\n\u001b[0m                                                                                                                             ^\u001b[0m\n\u001b[0;31mSyntaxError\u001b[0m\u001b[0;31m:\u001b[0m unexpected EOF while parsing\n"
          ]
        }
      ]
    },
    {
      "cell_type": "code",
      "metadata": {
        "id": "MosU6eX3FSzX"
      },
      "source": [
        "times_intervals = times['world_rank'].str.extract('(\\d+)\\-\\d+').dropna()\r\n",
        "times['world_rank_intervals'] = (pd.to_numeric(times_intervals[0]) // 100) * 100 \r\n",
        "times.loc[times['world_rank_intervals'].isnull(), 'world_rank_intervals'] = times['world_rank']\r\n",
        "times.loc[(pd.to_numeric(times['world_rank_intervals']) > 99) & (pd.to_numeric(times['world_rank_intervals']) < 200)] = 100\r\n",
        "times"
      ],
      "execution_count": null,
      "outputs": []
    },
    {
      "cell_type": "code",
      "metadata": {
        "id": "EmzsccPIKHuY"
      },
      "source": [
        "shanghai_intervals = shanghai['world_rank'].str.extract('(\\d+)\\-\\d+').dropna()\r\n",
        "shanghai['world_rank_intervals'] = (pd.to_numeric(shanghai_intervals[0]) // 100) * 100 \r\n",
        "shanghai.loc[shanghai['world_rank_intervals'].isnull(), 'world_rank_intervals'] = shanghai['world_rank']\r\n",
        "shanghai"
      ],
      "execution_count": null,
      "outputs": []
    },
    {
      "cell_type": "code",
      "metadata": {
        "id": "U0UT_0eLEzPW"
      },
      "source": [
        "party['percentage'] = party.apply(lambda riga: riga ['votes_first_votes' / risultato[riga['state']] * 100, axis = 1] )\r\n"
      ],
      "execution_count": null,
      "outputs": []
    },
    {
      "cell_type": "markdown",
      "metadata": {
        "id": "p5aDnSi69Uaj"
      },
      "source": [
        "bla bla"
      ]
    },
    {
      "cell_type": "code",
      "metadata": {
        "id": "STNbBfGoz2Ov"
      },
      "source": [
        "times_no_intervals = times[~ times['world_rank'].str.contains('-')].copy()\r\n",
        "times_no_intervals.tail()"
      ],
      "execution_count": null,
      "outputs": []
    },
    {
      "cell_type": "code",
      "metadata": {
        "id": "bWfKUWkE2zjb"
      },
      "source": [
        "shanghai_no_intervals = shanghai[~ shanghai['world_rank'].str.contains('-')].copy()\r\n",
        "shanghai_no_intervals.head()"
      ],
      "execution_count": null,
      "outputs": []
    },
    {
      "cell_type": "markdown",
      "metadata": {
        "id": "x8yVBEBQVo3y"
      },
      "source": [
        "Correzione dei valori di posizione nel ranking preceduti dal simbolo \"=\" contenuti nel dataframe \"times_no_intervals\"."
      ]
    },
    {
      "cell_type": "code",
      "metadata": {
        "id": "PFwoZuHQV1YV"
      },
      "source": [
        "times_no_intervals['world_rank'] = times_no_intervals['world_rank'].str.extract('(\\d+)$')\r\n",
        "times_no_intervals.tail()"
      ],
      "execution_count": null,
      "outputs": []
    },
    {
      "cell_type": "markdown",
      "metadata": {
        "id": "HAWZHUH9WpXO"
      },
      "source": [
        "Join dei dataframe \"times_no_intervals\",  \"shanghai_no_intervals\" e \"cwur\"."
      ]
    },
    {
      "cell_type": "code",
      "metadata": {
        "id": "HfOJSFh53BQ8"
      },
      "source": [
        "same_year_same_rank = pd.merge(times_no_intervals[['university_name', 'year', 'world_rank']], shanghai_no_intervals[['university_name', 'year', 'world_rank']], on = ['university_name', 'year'], suffixes = ('_times', '_shanghai'))\r\n",
        "same_year_same_rank = pd.merge(same_year_same_rank, cwur[['university_name', 'year', 'world_rank']], on = ['university_name', 'year'])\r\n",
        "same_year_same_rank.rename(columns = {'world_rank' : 'world_rank_cwur'}, inplace = True)\r\n",
        "same_year_same_rank.head()"
      ],
      "execution_count": null,
      "outputs": []
    },
    {
      "cell_type": "code",
      "metadata": {
        "id": "TCZN6QVjXVdX"
      },
      "source": [
        "same_year_same_rank[(pd.to_numeric(same_year_same_rank['world_rank_times']) == same_year_same_rank['world_rank_cwur'])\r\n",
        "& (pd.to_numeric(same_year_same_rank['world_rank_shanghai']) == same_year_same_rank['world_rank_cwur'])]"
      ],
      "execution_count": null,
      "outputs": []
    }
  ]
}