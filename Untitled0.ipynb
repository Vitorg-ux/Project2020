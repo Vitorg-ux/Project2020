{
  "nbformat": 4,
  "nbformat_minor": 0,
  "metadata": {
    "colab": {
      "name": "Untitled0.ipynb",
      "provenance": [],
      "mount_file_id": "1ucgSTfw2azYTfqJkm1LKlrvKuN6_cB-s",
      "authorship_tag": "ABX9TyMvuDQAPc5DuOOPIHp6YO+N",
      "include_colab_link": true
    },
    "kernelspec": {
      "name": "python3",
      "display_name": "Python 3"
    }
  },
  "cells": [
    {
      "cell_type": "markdown",
      "metadata": {
        "id": "view-in-github",
        "colab_type": "text"
      },
      "source": [
        "<a href=\"https://colab.research.google.com/github/Vitorg-ux/Project2020/blob/main/Untitled0.ipynb\" target=\"_parent\"><img src=\"https://colab.research.google.com/assets/colab-badge.svg\" alt=\"Open In Colab\"/></a>"
      ]
    },
    {
      "cell_type": "markdown",
      "metadata": {
        "id": "gOniXwq4F6HE"
      },
      "source": [
        "# Università degli studi di Milano-Bicocca\r\n",
        "# Laurea Magistrale in Data Science\r\n",
        "# Foundations of Computer Science (2021-1-F9101Q001)"
      ]
    },
    {
      "cell_type": "markdown",
      "metadata": {
        "id": "LyOjOG_rQ_-y"
      },
      "source": [
        "[University dataset](https://drive.google.com/drive/folders/1Hs3nRtK_F3h8eg59B4-TD1DEua6g8Klv)"
      ]
    },
    {
      "cell_type": "markdown",
      "metadata": {
        "id": "T8TUiXoKoCcd"
      },
      "source": [
        "Importazione delle librerie."
      ]
    },
    {
      "cell_type": "code",
      "metadata": {
        "id": "5XAM3hKzoJRw"
      },
      "source": [
        "import pandas as pd\r\n",
        "import re\r\n",
        "import numpy as np"
      ],
      "execution_count": 20,
      "outputs": []
    },
    {
      "cell_type": "markdown",
      "metadata": {
        "id": "P_zkS2eyoTzv"
      },
      "source": [
        "Importazione del dataset \"timesData.csv\", specificando che la virgola viene utilizzata come separatore per le migliaia, in modo che i dati contenuti nella colonna \"num_students\" vengano letti correttamente.\r\n"
      ]
    },
    {
      "cell_type": "code",
      "metadata": {
        "colab": {
          "base_uri": "https://localhost:8080/",
          "height": 285
        },
        "id": "StL0xuAeodMc",
        "outputId": "b1d33ee8-0dac-4d20-b228-1fbe2860e6c7"
      },
      "source": [
        "times = pd.read_csv('/content/drive/MyDrive/Colab Notebooks/timesData.csv', thousands = ',', na_values = '-')\r\n",
        "times.head()"
      ],
      "execution_count": 21,
      "outputs": [
        {
          "output_type": "execute_result",
          "data": {
            "text/html": [
              "<div>\n",
              "<style scoped>\n",
              "    .dataframe tbody tr th:only-of-type {\n",
              "        vertical-align: middle;\n",
              "    }\n",
              "\n",
              "    .dataframe tbody tr th {\n",
              "        vertical-align: top;\n",
              "    }\n",
              "\n",
              "    .dataframe thead th {\n",
              "        text-align: right;\n",
              "    }\n",
              "</style>\n",
              "<table border=\"1\" class=\"dataframe\">\n",
              "  <thead>\n",
              "    <tr style=\"text-align: right;\">\n",
              "      <th></th>\n",
              "      <th>world_rank</th>\n",
              "      <th>university_name</th>\n",
              "      <th>country</th>\n",
              "      <th>teaching</th>\n",
              "      <th>international</th>\n",
              "      <th>research</th>\n",
              "      <th>citations</th>\n",
              "      <th>income</th>\n",
              "      <th>total_score</th>\n",
              "      <th>num_students</th>\n",
              "      <th>student_staff_ratio</th>\n",
              "      <th>international_students</th>\n",
              "      <th>female_male_ratio</th>\n",
              "      <th>year</th>\n",
              "    </tr>\n",
              "  </thead>\n",
              "  <tbody>\n",
              "    <tr>\n",
              "      <th>0</th>\n",
              "      <td>1</td>\n",
              "      <td>Harvard University</td>\n",
              "      <td>United States of America</td>\n",
              "      <td>99.7</td>\n",
              "      <td>72.4</td>\n",
              "      <td>98.7</td>\n",
              "      <td>98.8</td>\n",
              "      <td>34.5</td>\n",
              "      <td>96.1</td>\n",
              "      <td>20152.0</td>\n",
              "      <td>8.9</td>\n",
              "      <td>25%</td>\n",
              "      <td>NaN</td>\n",
              "      <td>2011</td>\n",
              "    </tr>\n",
              "    <tr>\n",
              "      <th>1</th>\n",
              "      <td>2</td>\n",
              "      <td>California Institute of Technology</td>\n",
              "      <td>United States of America</td>\n",
              "      <td>97.7</td>\n",
              "      <td>54.6</td>\n",
              "      <td>98.0</td>\n",
              "      <td>99.9</td>\n",
              "      <td>83.7</td>\n",
              "      <td>96.0</td>\n",
              "      <td>2243.0</td>\n",
              "      <td>6.9</td>\n",
              "      <td>27%</td>\n",
              "      <td>33 : 67</td>\n",
              "      <td>2011</td>\n",
              "    </tr>\n",
              "    <tr>\n",
              "      <th>2</th>\n",
              "      <td>3</td>\n",
              "      <td>Massachusetts Institute of Technology</td>\n",
              "      <td>United States of America</td>\n",
              "      <td>97.8</td>\n",
              "      <td>82.3</td>\n",
              "      <td>91.4</td>\n",
              "      <td>99.9</td>\n",
              "      <td>87.5</td>\n",
              "      <td>95.6</td>\n",
              "      <td>11074.0</td>\n",
              "      <td>9.0</td>\n",
              "      <td>33%</td>\n",
              "      <td>37 : 63</td>\n",
              "      <td>2011</td>\n",
              "    </tr>\n",
              "    <tr>\n",
              "      <th>3</th>\n",
              "      <td>4</td>\n",
              "      <td>Stanford University</td>\n",
              "      <td>United States of America</td>\n",
              "      <td>98.3</td>\n",
              "      <td>29.5</td>\n",
              "      <td>98.1</td>\n",
              "      <td>99.2</td>\n",
              "      <td>64.3</td>\n",
              "      <td>94.3</td>\n",
              "      <td>15596.0</td>\n",
              "      <td>7.8</td>\n",
              "      <td>22%</td>\n",
              "      <td>42 : 58</td>\n",
              "      <td>2011</td>\n",
              "    </tr>\n",
              "    <tr>\n",
              "      <th>4</th>\n",
              "      <td>5</td>\n",
              "      <td>Princeton University</td>\n",
              "      <td>United States of America</td>\n",
              "      <td>90.9</td>\n",
              "      <td>70.3</td>\n",
              "      <td>95.4</td>\n",
              "      <td>99.9</td>\n",
              "      <td>NaN</td>\n",
              "      <td>94.2</td>\n",
              "      <td>7929.0</td>\n",
              "      <td>8.4</td>\n",
              "      <td>27%</td>\n",
              "      <td>45 : 55</td>\n",
              "      <td>2011</td>\n",
              "    </tr>\n",
              "  </tbody>\n",
              "</table>\n",
              "</div>"
            ],
            "text/plain": [
              "  world_rank                        university_name  ... female_male_ratio  year\n",
              "0          1                     Harvard University  ...               NaN  2011\n",
              "1          2     California Institute of Technology  ...           33 : 67  2011\n",
              "2          3  Massachusetts Institute of Technology  ...           37 : 63  2011\n",
              "3          4                    Stanford University  ...           42 : 58  2011\n",
              "4          5                   Princeton University  ...           45 : 55  2011\n",
              "\n",
              "[5 rows x 14 columns]"
            ]
          },
          "metadata": {
            "tags": []
          },
          "execution_count": 21
        }
      ]
    },
    {
      "cell_type": "markdown",
      "metadata": {
        "id": "YOpbx3ytoz0Z"
      },
      "source": [
        "Importazione del dataset \"ShanghaiData.csv\"."
      ]
    },
    {
      "cell_type": "code",
      "metadata": {
        "colab": {
          "base_uri": "https://localhost:8080/",
          "height": 198
        },
        "id": "xkKv3DZmo3eb",
        "outputId": "e7bc616e-c22f-4691-c81c-0aafa0e433ea"
      },
      "source": [
        "shanghai = pd.read_csv('/content/drive/MyDrive/Colab Notebooks/shanghaiData.csv')\r\n",
        "shanghai.head()"
      ],
      "execution_count": 22,
      "outputs": [
        {
          "output_type": "execute_result",
          "data": {
            "text/html": [
              "<div>\n",
              "<style scoped>\n",
              "    .dataframe tbody tr th:only-of-type {\n",
              "        vertical-align: middle;\n",
              "    }\n",
              "\n",
              "    .dataframe tbody tr th {\n",
              "        vertical-align: top;\n",
              "    }\n",
              "\n",
              "    .dataframe thead th {\n",
              "        text-align: right;\n",
              "    }\n",
              "</style>\n",
              "<table border=\"1\" class=\"dataframe\">\n",
              "  <thead>\n",
              "    <tr style=\"text-align: right;\">\n",
              "      <th></th>\n",
              "      <th>world_rank</th>\n",
              "      <th>university_name</th>\n",
              "      <th>national_rank</th>\n",
              "      <th>total_score</th>\n",
              "      <th>alumni</th>\n",
              "      <th>award</th>\n",
              "      <th>hici</th>\n",
              "      <th>ns</th>\n",
              "      <th>pub</th>\n",
              "      <th>pcp</th>\n",
              "      <th>year</th>\n",
              "    </tr>\n",
              "  </thead>\n",
              "  <tbody>\n",
              "    <tr>\n",
              "      <th>0</th>\n",
              "      <td>1</td>\n",
              "      <td>Harvard University</td>\n",
              "      <td>1</td>\n",
              "      <td>100.0</td>\n",
              "      <td>100.0</td>\n",
              "      <td>100.0</td>\n",
              "      <td>100.0</td>\n",
              "      <td>100.0</td>\n",
              "      <td>100.0</td>\n",
              "      <td>72.4</td>\n",
              "      <td>2005</td>\n",
              "    </tr>\n",
              "    <tr>\n",
              "      <th>1</th>\n",
              "      <td>2</td>\n",
              "      <td>University of Cambridge</td>\n",
              "      <td>1</td>\n",
              "      <td>73.6</td>\n",
              "      <td>99.8</td>\n",
              "      <td>93.4</td>\n",
              "      <td>53.3</td>\n",
              "      <td>56.6</td>\n",
              "      <td>70.9</td>\n",
              "      <td>66.9</td>\n",
              "      <td>2005</td>\n",
              "    </tr>\n",
              "    <tr>\n",
              "      <th>2</th>\n",
              "      <td>3</td>\n",
              "      <td>Stanford University</td>\n",
              "      <td>2</td>\n",
              "      <td>73.4</td>\n",
              "      <td>41.1</td>\n",
              "      <td>72.2</td>\n",
              "      <td>88.5</td>\n",
              "      <td>70.9</td>\n",
              "      <td>72.3</td>\n",
              "      <td>65.0</td>\n",
              "      <td>2005</td>\n",
              "    </tr>\n",
              "    <tr>\n",
              "      <th>3</th>\n",
              "      <td>4</td>\n",
              "      <td>University of California, Berkeley</td>\n",
              "      <td>3</td>\n",
              "      <td>72.8</td>\n",
              "      <td>71.8</td>\n",
              "      <td>76.0</td>\n",
              "      <td>69.4</td>\n",
              "      <td>73.9</td>\n",
              "      <td>72.2</td>\n",
              "      <td>52.7</td>\n",
              "      <td>2005</td>\n",
              "    </tr>\n",
              "    <tr>\n",
              "      <th>4</th>\n",
              "      <td>5</td>\n",
              "      <td>Massachusetts Institute of Technology (MIT)</td>\n",
              "      <td>4</td>\n",
              "      <td>70.1</td>\n",
              "      <td>74.0</td>\n",
              "      <td>80.6</td>\n",
              "      <td>66.7</td>\n",
              "      <td>65.8</td>\n",
              "      <td>64.3</td>\n",
              "      <td>53.0</td>\n",
              "      <td>2005</td>\n",
              "    </tr>\n",
              "  </tbody>\n",
              "</table>\n",
              "</div>"
            ],
            "text/plain": [
              "  world_rank                              university_name  ...   pcp  year\n",
              "0          1                           Harvard University  ...  72.4  2005\n",
              "1          2                      University of Cambridge  ...  66.9  2005\n",
              "2          3                          Stanford University  ...  65.0  2005\n",
              "3          4           University of California, Berkeley  ...  52.7  2005\n",
              "4          5  Massachusetts Institute of Technology (MIT)  ...  53.0  2005\n",
              "\n",
              "[5 rows x 11 columns]"
            ]
          },
          "metadata": {
            "tags": []
          },
          "execution_count": 22
        }
      ]
    },
    {
      "cell_type": "markdown",
      "metadata": {
        "id": "v1ekXykzo_6Q"
      },
      "source": [
        "Importazione del dataset \"cwurData.csv\"."
      ]
    },
    {
      "cell_type": "code",
      "metadata": {
        "colab": {
          "base_uri": "https://localhost:8080/",
          "height": 198
        },
        "id": "mofOdb3apDc9",
        "outputId": "1adcb066-1292-4296-8944-854ae9891cee"
      },
      "source": [
        "cwur = pd.read_csv('/content/drive/MyDrive/Colab Notebooks/cwurData.csv')\r\n",
        "cwur.head()"
      ],
      "execution_count": 23,
      "outputs": [
        {
          "output_type": "execute_result",
          "data": {
            "text/html": [
              "<div>\n",
              "<style scoped>\n",
              "    .dataframe tbody tr th:only-of-type {\n",
              "        vertical-align: middle;\n",
              "    }\n",
              "\n",
              "    .dataframe tbody tr th {\n",
              "        vertical-align: top;\n",
              "    }\n",
              "\n",
              "    .dataframe thead th {\n",
              "        text-align: right;\n",
              "    }\n",
              "</style>\n",
              "<table border=\"1\" class=\"dataframe\">\n",
              "  <thead>\n",
              "    <tr style=\"text-align: right;\">\n",
              "      <th></th>\n",
              "      <th>world_rank</th>\n",
              "      <th>institution</th>\n",
              "      <th>country</th>\n",
              "      <th>national_rank</th>\n",
              "      <th>quality_of_education</th>\n",
              "      <th>alumni_employment</th>\n",
              "      <th>quality_of_faculty</th>\n",
              "      <th>publications</th>\n",
              "      <th>influence</th>\n",
              "      <th>citations</th>\n",
              "      <th>broad_impact</th>\n",
              "      <th>patents</th>\n",
              "      <th>score</th>\n",
              "      <th>year</th>\n",
              "    </tr>\n",
              "  </thead>\n",
              "  <tbody>\n",
              "    <tr>\n",
              "      <th>0</th>\n",
              "      <td>1</td>\n",
              "      <td>Harvard University</td>\n",
              "      <td>USA</td>\n",
              "      <td>1</td>\n",
              "      <td>7</td>\n",
              "      <td>9</td>\n",
              "      <td>1</td>\n",
              "      <td>1</td>\n",
              "      <td>1</td>\n",
              "      <td>1</td>\n",
              "      <td>NaN</td>\n",
              "      <td>5</td>\n",
              "      <td>100.00</td>\n",
              "      <td>2012</td>\n",
              "    </tr>\n",
              "    <tr>\n",
              "      <th>1</th>\n",
              "      <td>2</td>\n",
              "      <td>Massachusetts Institute of Technology</td>\n",
              "      <td>USA</td>\n",
              "      <td>2</td>\n",
              "      <td>9</td>\n",
              "      <td>17</td>\n",
              "      <td>3</td>\n",
              "      <td>12</td>\n",
              "      <td>4</td>\n",
              "      <td>4</td>\n",
              "      <td>NaN</td>\n",
              "      <td>1</td>\n",
              "      <td>91.67</td>\n",
              "      <td>2012</td>\n",
              "    </tr>\n",
              "    <tr>\n",
              "      <th>2</th>\n",
              "      <td>3</td>\n",
              "      <td>Stanford University</td>\n",
              "      <td>USA</td>\n",
              "      <td>3</td>\n",
              "      <td>17</td>\n",
              "      <td>11</td>\n",
              "      <td>5</td>\n",
              "      <td>4</td>\n",
              "      <td>2</td>\n",
              "      <td>2</td>\n",
              "      <td>NaN</td>\n",
              "      <td>15</td>\n",
              "      <td>89.50</td>\n",
              "      <td>2012</td>\n",
              "    </tr>\n",
              "    <tr>\n",
              "      <th>3</th>\n",
              "      <td>4</td>\n",
              "      <td>University of Cambridge</td>\n",
              "      <td>United Kingdom</td>\n",
              "      <td>1</td>\n",
              "      <td>10</td>\n",
              "      <td>24</td>\n",
              "      <td>4</td>\n",
              "      <td>16</td>\n",
              "      <td>16</td>\n",
              "      <td>11</td>\n",
              "      <td>NaN</td>\n",
              "      <td>50</td>\n",
              "      <td>86.17</td>\n",
              "      <td>2012</td>\n",
              "    </tr>\n",
              "    <tr>\n",
              "      <th>4</th>\n",
              "      <td>5</td>\n",
              "      <td>California Institute of Technology</td>\n",
              "      <td>USA</td>\n",
              "      <td>4</td>\n",
              "      <td>2</td>\n",
              "      <td>29</td>\n",
              "      <td>7</td>\n",
              "      <td>37</td>\n",
              "      <td>22</td>\n",
              "      <td>22</td>\n",
              "      <td>NaN</td>\n",
              "      <td>18</td>\n",
              "      <td>85.21</td>\n",
              "      <td>2012</td>\n",
              "    </tr>\n",
              "  </tbody>\n",
              "</table>\n",
              "</div>"
            ],
            "text/plain": [
              "   world_rank                            institution  ...   score  year\n",
              "0           1                     Harvard University  ...  100.00  2012\n",
              "1           2  Massachusetts Institute of Technology  ...   91.67  2012\n",
              "2           3                    Stanford University  ...   89.50  2012\n",
              "3           4                University of Cambridge  ...   86.17  2012\n",
              "4           5     California Institute of Technology  ...   85.21  2012\n",
              "\n",
              "[5 rows x 14 columns]"
            ]
          },
          "metadata": {
            "tags": []
          },
          "execution_count": 23
        }
      ]
    },
    {
      "cell_type": "markdown",
      "metadata": {
        "id": "zngp-6mpU9KZ"
      },
      "source": [
        "## 1. For each university, extract from the times dataset the most recent and the least recent data, obtaining two separate dataframes"
      ]
    },
    {
      "cell_type": "markdown",
      "metadata": {
        "id": "cKq42AxbHw_e"
      },
      "source": [
        "Creazione del dataframe \"times_most_recent\", contenente i dati più recenti (ossia associati al massimo valore possibile nella colonna \"year\") relativi a ciascuna università presente nel dataframe \"times\"."
      ]
    },
    {
      "cell_type": "code",
      "metadata": {
        "id": "bixQqw1tnKbu",
        "colab": {
          "base_uri": "https://localhost:8080/",
          "height": 233
        },
        "outputId": "9e2a8e83-652d-4e24-fea3-0c98716d8cfa"
      },
      "source": [
        "times_most_recent = times.loc[times.groupby('university_name')['year'].idxmax()]\r\n",
        "times_most_recent.head()"
      ],
      "execution_count": 24,
      "outputs": [
        {
          "output_type": "execute_result",
          "data": {
            "text/html": [
              "<div>\n",
              "<style scoped>\n",
              "    .dataframe tbody tr th:only-of-type {\n",
              "        vertical-align: middle;\n",
              "    }\n",
              "\n",
              "    .dataframe tbody tr th {\n",
              "        vertical-align: top;\n",
              "    }\n",
              "\n",
              "    .dataframe thead th {\n",
              "        text-align: right;\n",
              "    }\n",
              "</style>\n",
              "<table border=\"1\" class=\"dataframe\">\n",
              "  <thead>\n",
              "    <tr style=\"text-align: right;\">\n",
              "      <th></th>\n",
              "      <th>world_rank</th>\n",
              "      <th>university_name</th>\n",
              "      <th>country</th>\n",
              "      <th>teaching</th>\n",
              "      <th>international</th>\n",
              "      <th>research</th>\n",
              "      <th>citations</th>\n",
              "      <th>income</th>\n",
              "      <th>total_score</th>\n",
              "      <th>num_students</th>\n",
              "      <th>student_staff_ratio</th>\n",
              "      <th>international_students</th>\n",
              "      <th>female_male_ratio</th>\n",
              "      <th>year</th>\n",
              "    </tr>\n",
              "  </thead>\n",
              "  <tbody>\n",
              "    <tr>\n",
              "      <th>2405</th>\n",
              "      <td>601-800</td>\n",
              "      <td>AGH University of Science and Technology</td>\n",
              "      <td>Poland</td>\n",
              "      <td>14.2</td>\n",
              "      <td>17.9</td>\n",
              "      <td>3.7</td>\n",
              "      <td>35.7</td>\n",
              "      <td>NaN</td>\n",
              "      <td>NaN</td>\n",
              "      <td>35569.0</td>\n",
              "      <td>17.0</td>\n",
              "      <td>1%</td>\n",
              "      <td>NaN</td>\n",
              "      <td>2016</td>\n",
              "    </tr>\n",
              "    <tr>\n",
              "      <th>2003</th>\n",
              "      <td>201-250</td>\n",
              "      <td>Aalborg University</td>\n",
              "      <td>Denmark</td>\n",
              "      <td>25.1</td>\n",
              "      <td>71.0</td>\n",
              "      <td>28.4</td>\n",
              "      <td>73.8</td>\n",
              "      <td>43.7</td>\n",
              "      <td>NaN</td>\n",
              "      <td>17422.0</td>\n",
              "      <td>15.9</td>\n",
              "      <td>15%</td>\n",
              "      <td>48 : 52</td>\n",
              "      <td>2016</td>\n",
              "    </tr>\n",
              "    <tr>\n",
              "      <th>2056</th>\n",
              "      <td>251-300</td>\n",
              "      <td>Aalto University</td>\n",
              "      <td>Finland</td>\n",
              "      <td>31.1</td>\n",
              "      <td>65.4</td>\n",
              "      <td>32.8</td>\n",
              "      <td>62.1</td>\n",
              "      <td>61.6</td>\n",
              "      <td>NaN</td>\n",
              "      <td>16099.0</td>\n",
              "      <td>24.2</td>\n",
              "      <td>17%</td>\n",
              "      <td>32 : 68</td>\n",
              "      <td>2016</td>\n",
              "    </tr>\n",
              "    <tr>\n",
              "      <th>1908</th>\n",
              "      <td>=106</td>\n",
              "      <td>Aarhus University</td>\n",
              "      <td>Denmark</td>\n",
              "      <td>36.9</td>\n",
              "      <td>76.8</td>\n",
              "      <td>50.7</td>\n",
              "      <td>79.8</td>\n",
              "      <td>68.3</td>\n",
              "      <td>57.7</td>\n",
              "      <td>23895.0</td>\n",
              "      <td>13.6</td>\n",
              "      <td>14%</td>\n",
              "      <td>54 : 46</td>\n",
              "      <td>2016</td>\n",
              "    </tr>\n",
              "    <tr>\n",
              "      <th>2105</th>\n",
              "      <td>301-350</td>\n",
              "      <td>Aberystwyth University</td>\n",
              "      <td>United Kingdom</td>\n",
              "      <td>21.6</td>\n",
              "      <td>72.2</td>\n",
              "      <td>18.9</td>\n",
              "      <td>67.2</td>\n",
              "      <td>31.3</td>\n",
              "      <td>NaN</td>\n",
              "      <td>9252.0</td>\n",
              "      <td>19.2</td>\n",
              "      <td>18%</td>\n",
              "      <td>48 : 52</td>\n",
              "      <td>2016</td>\n",
              "    </tr>\n",
              "  </tbody>\n",
              "</table>\n",
              "</div>"
            ],
            "text/plain": [
              "     world_rank  ...  year\n",
              "2405    601-800  ...  2016\n",
              "2003    201-250  ...  2016\n",
              "2056    251-300  ...  2016\n",
              "1908       =106  ...  2016\n",
              "2105    301-350  ...  2016\n",
              "\n",
              "[5 rows x 14 columns]"
            ]
          },
          "metadata": {
            "tags": []
          },
          "execution_count": 24
        }
      ]
    },
    {
      "cell_type": "markdown",
      "metadata": {
        "id": "NUTLpKR5IyYZ"
      },
      "source": [
        "Creazione del dataframe \"times_least_recent\", contenente i dati meno recenti (ossia associati al minimo valore possibile nella colonna \"year\") relativi a ciascuna università presente nel dataframe \"times\"."
      ]
    },
    {
      "cell_type": "code",
      "metadata": {
        "id": "n-5FxI77bWqB",
        "colab": {
          "base_uri": "https://localhost:8080/",
          "height": 233
        },
        "outputId": "b25cc73a-568a-4192-d274-0d6ce49ac840"
      },
      "source": [
        "times_least_recent = times.iloc[times.groupby('university_name')['year'].idxmin()]\r\n",
        "times_least_recent.head()"
      ],
      "execution_count": 25,
      "outputs": [
        {
          "output_type": "execute_result",
          "data": {
            "text/html": [
              "<div>\n",
              "<style scoped>\n",
              "    .dataframe tbody tr th:only-of-type {\n",
              "        vertical-align: middle;\n",
              "    }\n",
              "\n",
              "    .dataframe tbody tr th {\n",
              "        vertical-align: top;\n",
              "    }\n",
              "\n",
              "    .dataframe thead th {\n",
              "        text-align: right;\n",
              "    }\n",
              "</style>\n",
              "<table border=\"1\" class=\"dataframe\">\n",
              "  <thead>\n",
              "    <tr style=\"text-align: right;\">\n",
              "      <th></th>\n",
              "      <th>world_rank</th>\n",
              "      <th>university_name</th>\n",
              "      <th>country</th>\n",
              "      <th>teaching</th>\n",
              "      <th>international</th>\n",
              "      <th>research</th>\n",
              "      <th>citations</th>\n",
              "      <th>income</th>\n",
              "      <th>total_score</th>\n",
              "      <th>num_students</th>\n",
              "      <th>student_staff_ratio</th>\n",
              "      <th>international_students</th>\n",
              "      <th>female_male_ratio</th>\n",
              "      <th>year</th>\n",
              "    </tr>\n",
              "  </thead>\n",
              "  <tbody>\n",
              "    <tr>\n",
              "      <th>2405</th>\n",
              "      <td>601-800</td>\n",
              "      <td>AGH University of Science and Technology</td>\n",
              "      <td>Poland</td>\n",
              "      <td>14.2</td>\n",
              "      <td>17.9</td>\n",
              "      <td>3.7</td>\n",
              "      <td>35.7</td>\n",
              "      <td>NaN</td>\n",
              "      <td>NaN</td>\n",
              "      <td>35569.0</td>\n",
              "      <td>17.0</td>\n",
              "      <td>1%</td>\n",
              "      <td>NaN</td>\n",
              "      <td>2016</td>\n",
              "    </tr>\n",
              "    <tr>\n",
              "      <th>501</th>\n",
              "      <td>301-350</td>\n",
              "      <td>Aalborg University</td>\n",
              "      <td>Denmark</td>\n",
              "      <td>19.0</td>\n",
              "      <td>75.3</td>\n",
              "      <td>20.0</td>\n",
              "      <td>27.1</td>\n",
              "      <td>36.4</td>\n",
              "      <td>NaN</td>\n",
              "      <td>17422.0</td>\n",
              "      <td>15.9</td>\n",
              "      <td>15%</td>\n",
              "      <td>48 : 52</td>\n",
              "      <td>2012</td>\n",
              "    </tr>\n",
              "    <tr>\n",
              "      <th>502</th>\n",
              "      <td>301-350</td>\n",
              "      <td>Aalto University</td>\n",
              "      <td>Finland</td>\n",
              "      <td>26.2</td>\n",
              "      <td>49.0</td>\n",
              "      <td>22.2</td>\n",
              "      <td>37.5</td>\n",
              "      <td>61.9</td>\n",
              "      <td>NaN</td>\n",
              "      <td>16099.0</td>\n",
              "      <td>24.2</td>\n",
              "      <td>17%</td>\n",
              "      <td>32 : 68</td>\n",
              "      <td>2012</td>\n",
              "    </tr>\n",
              "    <tr>\n",
              "      <th>166</th>\n",
              "      <td>167</td>\n",
              "      <td>Aarhus University</td>\n",
              "      <td>Denmark</td>\n",
              "      <td>38.1</td>\n",
              "      <td>33.4</td>\n",
              "      <td>55.6</td>\n",
              "      <td>57.3</td>\n",
              "      <td>61.5</td>\n",
              "      <td>49.9</td>\n",
              "      <td>23895.0</td>\n",
              "      <td>13.6</td>\n",
              "      <td>14%</td>\n",
              "      <td>54 : 46</td>\n",
              "      <td>2011</td>\n",
              "    </tr>\n",
              "    <tr>\n",
              "      <th>476</th>\n",
              "      <td>276-300</td>\n",
              "      <td>Aberystwyth University</td>\n",
              "      <td>United Kingdom</td>\n",
              "      <td>19.8</td>\n",
              "      <td>63.8</td>\n",
              "      <td>15.5</td>\n",
              "      <td>56.6</td>\n",
              "      <td>35.5</td>\n",
              "      <td>NaN</td>\n",
              "      <td>9252.0</td>\n",
              "      <td>19.2</td>\n",
              "      <td>18%</td>\n",
              "      <td>48 : 52</td>\n",
              "      <td>2012</td>\n",
              "    </tr>\n",
              "  </tbody>\n",
              "</table>\n",
              "</div>"
            ],
            "text/plain": [
              "     world_rank  ...  year\n",
              "2405    601-800  ...  2016\n",
              "501     301-350  ...  2012\n",
              "502     301-350  ...  2012\n",
              "166         167  ...  2011\n",
              "476     276-300  ...  2012\n",
              "\n",
              "[5 rows x 14 columns]"
            ]
          },
          "metadata": {
            "tags": []
          },
          "execution_count": 25
        }
      ]
    },
    {
      "cell_type": "markdown",
      "metadata": {
        "id": "9tIp0XuenUx2"
      },
      "source": [
        "## 2. For each university, compute the improvement in income between the least recent and the most recent data points"
      ]
    },
    {
      "cell_type": "markdown",
      "metadata": {
        "id": "qAG2-pyRJXug"
      },
      "source": [
        "Creazione del dataframe \"times_least_most_recent\" effettuando un join dei dataframe \"times_least_recent\" e \"times_most_recent\". "
      ]
    },
    {
      "cell_type": "code",
      "metadata": {
        "colab": {
          "base_uri": "https://localhost:8080/",
          "height": 198
        },
        "id": "GTYkRxlqnXxN",
        "outputId": "b419a77a-c6a6-4d80-c140-9d42ed64e38c"
      },
      "source": [
        "times_least_most_recent = pd.merge(times_least_recent[['university_name', 'year', 'income']], times_most_recent[['university_name', 'year', 'income']], on = ['university_name'], suffixes = ('_least_recent', '_most_recent'))\r\n",
        "times_least_most_recent.head()"
      ],
      "execution_count": 26,
      "outputs": [
        {
          "output_type": "execute_result",
          "data": {
            "text/html": [
              "<div>\n",
              "<style scoped>\n",
              "    .dataframe tbody tr th:only-of-type {\n",
              "        vertical-align: middle;\n",
              "    }\n",
              "\n",
              "    .dataframe tbody tr th {\n",
              "        vertical-align: top;\n",
              "    }\n",
              "\n",
              "    .dataframe thead th {\n",
              "        text-align: right;\n",
              "    }\n",
              "</style>\n",
              "<table border=\"1\" class=\"dataframe\">\n",
              "  <thead>\n",
              "    <tr style=\"text-align: right;\">\n",
              "      <th></th>\n",
              "      <th>university_name</th>\n",
              "      <th>year_least_recent</th>\n",
              "      <th>income_least_recent</th>\n",
              "      <th>year_most_recent</th>\n",
              "      <th>income_most_recent</th>\n",
              "    </tr>\n",
              "  </thead>\n",
              "  <tbody>\n",
              "    <tr>\n",
              "      <th>0</th>\n",
              "      <td>AGH University of Science and Technology</td>\n",
              "      <td>2016</td>\n",
              "      <td>NaN</td>\n",
              "      <td>2016</td>\n",
              "      <td>NaN</td>\n",
              "    </tr>\n",
              "    <tr>\n",
              "      <th>1</th>\n",
              "      <td>Aalborg University</td>\n",
              "      <td>2012</td>\n",
              "      <td>36.4</td>\n",
              "      <td>2016</td>\n",
              "      <td>43.7</td>\n",
              "    </tr>\n",
              "    <tr>\n",
              "      <th>2</th>\n",
              "      <td>Aalto University</td>\n",
              "      <td>2012</td>\n",
              "      <td>61.9</td>\n",
              "      <td>2016</td>\n",
              "      <td>61.6</td>\n",
              "    </tr>\n",
              "    <tr>\n",
              "      <th>3</th>\n",
              "      <td>Aarhus University</td>\n",
              "      <td>2011</td>\n",
              "      <td>61.5</td>\n",
              "      <td>2016</td>\n",
              "      <td>68.3</td>\n",
              "    </tr>\n",
              "    <tr>\n",
              "      <th>4</th>\n",
              "      <td>Aberystwyth University</td>\n",
              "      <td>2012</td>\n",
              "      <td>35.5</td>\n",
              "      <td>2016</td>\n",
              "      <td>31.3</td>\n",
              "    </tr>\n",
              "  </tbody>\n",
              "</table>\n",
              "</div>"
            ],
            "text/plain": [
              "                            university_name  ...  income_most_recent\n",
              "0  AGH University of Science and Technology  ...                 NaN\n",
              "1                        Aalborg University  ...                43.7\n",
              "2                          Aalto University  ...                61.6\n",
              "3                         Aarhus University  ...                68.3\n",
              "4                    Aberystwyth University  ...                31.3\n",
              "\n",
              "[5 rows x 5 columns]"
            ]
          },
          "metadata": {
            "tags": []
          },
          "execution_count": 26
        }
      ]
    },
    {
      "cell_type": "markdown",
      "metadata": {
        "id": "OoDoFOXOLzN7"
      },
      "source": [
        "Calcolo del miglioramento di reddito (\"income_most_recent\" - \"income_least_recent\") tra i dati più recenti e quelli meno recenti per ciascuna università."
      ]
    },
    {
      "cell_type": "code",
      "metadata": {
        "colab": {
          "base_uri": "https://localhost:8080/",
          "height": 198
        },
        "id": "_DMDRqocyiv_",
        "outputId": "691d9b12-34db-46e1-95da-eb06b7aaec3b"
      },
      "source": [
        "times_least_most_recent['improvement'] = pd.to_numeric(times_least_most_recent['income_most_recent']) - pd.to_numeric(times_least_most_recent['income_least_recent'])\r\n",
        "times_least_most_recent.head()"
      ],
      "execution_count": 27,
      "outputs": [
        {
          "output_type": "execute_result",
          "data": {
            "text/html": [
              "<div>\n",
              "<style scoped>\n",
              "    .dataframe tbody tr th:only-of-type {\n",
              "        vertical-align: middle;\n",
              "    }\n",
              "\n",
              "    .dataframe tbody tr th {\n",
              "        vertical-align: top;\n",
              "    }\n",
              "\n",
              "    .dataframe thead th {\n",
              "        text-align: right;\n",
              "    }\n",
              "</style>\n",
              "<table border=\"1\" class=\"dataframe\">\n",
              "  <thead>\n",
              "    <tr style=\"text-align: right;\">\n",
              "      <th></th>\n",
              "      <th>university_name</th>\n",
              "      <th>year_least_recent</th>\n",
              "      <th>income_least_recent</th>\n",
              "      <th>year_most_recent</th>\n",
              "      <th>income_most_recent</th>\n",
              "      <th>improvement</th>\n",
              "    </tr>\n",
              "  </thead>\n",
              "  <tbody>\n",
              "    <tr>\n",
              "      <th>0</th>\n",
              "      <td>AGH University of Science and Technology</td>\n",
              "      <td>2016</td>\n",
              "      <td>NaN</td>\n",
              "      <td>2016</td>\n",
              "      <td>NaN</td>\n",
              "      <td>NaN</td>\n",
              "    </tr>\n",
              "    <tr>\n",
              "      <th>1</th>\n",
              "      <td>Aalborg University</td>\n",
              "      <td>2012</td>\n",
              "      <td>36.4</td>\n",
              "      <td>2016</td>\n",
              "      <td>43.7</td>\n",
              "      <td>7.3</td>\n",
              "    </tr>\n",
              "    <tr>\n",
              "      <th>2</th>\n",
              "      <td>Aalto University</td>\n",
              "      <td>2012</td>\n",
              "      <td>61.9</td>\n",
              "      <td>2016</td>\n",
              "      <td>61.6</td>\n",
              "      <td>-0.3</td>\n",
              "    </tr>\n",
              "    <tr>\n",
              "      <th>3</th>\n",
              "      <td>Aarhus University</td>\n",
              "      <td>2011</td>\n",
              "      <td>61.5</td>\n",
              "      <td>2016</td>\n",
              "      <td>68.3</td>\n",
              "      <td>6.8</td>\n",
              "    </tr>\n",
              "    <tr>\n",
              "      <th>4</th>\n",
              "      <td>Aberystwyth University</td>\n",
              "      <td>2012</td>\n",
              "      <td>35.5</td>\n",
              "      <td>2016</td>\n",
              "      <td>31.3</td>\n",
              "      <td>-4.2</td>\n",
              "    </tr>\n",
              "  </tbody>\n",
              "</table>\n",
              "</div>"
            ],
            "text/plain": [
              "                            university_name  ...  improvement\n",
              "0  AGH University of Science and Technology  ...          NaN\n",
              "1                        Aalborg University  ...          7.3\n",
              "2                          Aalto University  ...         -0.3\n",
              "3                         Aarhus University  ...          6.8\n",
              "4                    Aberystwyth University  ...         -4.2\n",
              "\n",
              "[5 rows x 6 columns]"
            ]
          },
          "metadata": {
            "tags": []
          },
          "execution_count": 27
        }
      ]
    },
    {
      "cell_type": "markdown",
      "metadata": {
        "id": "pNYux6xO0tLl"
      },
      "source": [
        "### 3. Find the university with the largest increase computed in the previous point"
      ]
    },
    {
      "cell_type": "code",
      "metadata": {
        "colab": {
          "base_uri": "https://localhost:8080/",
          "height": 78
        },
        "id": "aO89lLEB0v-4",
        "outputId": "f76ae194-23ad-40b2-91a1-90bac590e993"
      },
      "source": [
        "times_least_most_recent[times_least_most_recent['improvement'] >= times_least_most_recent['improvement'].max()]"
      ],
      "execution_count": 29,
      "outputs": [
        {
          "output_type": "execute_result",
          "data": {
            "text/html": [
              "<div>\n",
              "<style scoped>\n",
              "    .dataframe tbody tr th:only-of-type {\n",
              "        vertical-align: middle;\n",
              "    }\n",
              "\n",
              "    .dataframe tbody tr th {\n",
              "        vertical-align: top;\n",
              "    }\n",
              "\n",
              "    .dataframe thead th {\n",
              "        text-align: right;\n",
              "    }\n",
              "</style>\n",
              "<table border=\"1\" class=\"dataframe\">\n",
              "  <thead>\n",
              "    <tr style=\"text-align: right;\">\n",
              "      <th></th>\n",
              "      <th>university_name</th>\n",
              "      <th>year_least_recent</th>\n",
              "      <th>income_least_recent</th>\n",
              "      <th>year_most_recent</th>\n",
              "      <th>income_most_recent</th>\n",
              "      <th>improvement</th>\n",
              "    </tr>\n",
              "  </thead>\n",
              "  <tbody>\n",
              "    <tr>\n",
              "      <th>428</th>\n",
              "      <td>TU Dresden</td>\n",
              "      <td>2012</td>\n",
              "      <td>31.9</td>\n",
              "      <td>2016</td>\n",
              "      <td>99.7</td>\n",
              "      <td>67.8</td>\n",
              "    </tr>\n",
              "  </tbody>\n",
              "</table>\n",
              "</div>"
            ],
            "text/plain": [
              "    university_name  year_least_recent  ...  income_most_recent  improvement\n",
              "428      TU Dresden               2012  ...                99.7         67.8\n",
              "\n",
              "[1 rows x 6 columns]"
            ]
          },
          "metadata": {
            "tags": []
          },
          "execution_count": 29
        }
      ]
    },
    {
      "cell_type": "markdown",
      "metadata": {
        "id": "zWFerhXROarp"
      },
      "source": [
        "## 4. For each ranking, consider only the most recent data point. For each university, compute the maximum difference between the rankings (e.g. for Aarhus University the value is 122-73=49). Notice that some rankings are expressed as a range"
      ]
    },
    {
      "cell_type": "markdown",
      "metadata": {
        "id": "qne4uWr1OQFE"
      },
      "source": [
        "Creazione del dataframe \"shanghai_most_recent\", contenente i dati più recenti (ossia associati al massimo valore possibile nella colonna \"year\") relativi a ciascuna università presente nel dataframe \"shanghai\"."
      ]
    },
    {
      "cell_type": "code",
      "metadata": {
        "colab": {
          "base_uri": "https://localhost:8080/",
          "height": 198
        },
        "id": "BNNMIx5nPTyz",
        "outputId": "1abce839-1863-4807-de8e-d40381d1ac65"
      },
      "source": [
        "shanghai_most_recent = shanghai.iloc[shanghai.groupby('university_name').idxmax()['year']]\r\n",
        "shanghai_most_recent.head()"
      ],
      "execution_count": 32,
      "outputs": [
        {
          "output_type": "execute_result",
          "data": {
            "text/html": [
              "<div>\n",
              "<style scoped>\n",
              "    .dataframe tbody tr th:only-of-type {\n",
              "        vertical-align: middle;\n",
              "    }\n",
              "\n",
              "    .dataframe tbody tr th {\n",
              "        vertical-align: top;\n",
              "    }\n",
              "\n",
              "    .dataframe thead th {\n",
              "        text-align: right;\n",
              "    }\n",
              "</style>\n",
              "<table border=\"1\" class=\"dataframe\">\n",
              "  <thead>\n",
              "    <tr style=\"text-align: right;\">\n",
              "      <th></th>\n",
              "      <th>world_rank</th>\n",
              "      <th>university_name</th>\n",
              "      <th>national_rank</th>\n",
              "      <th>total_score</th>\n",
              "      <th>alumni</th>\n",
              "      <th>award</th>\n",
              "      <th>hici</th>\n",
              "      <th>ns</th>\n",
              "      <th>pub</th>\n",
              "      <th>pcp</th>\n",
              "      <th>year</th>\n",
              "    </tr>\n",
              "  </thead>\n",
              "  <tbody>\n",
              "    <tr>\n",
              "      <th>4697</th>\n",
              "      <td>301-400</td>\n",
              "      <td>Aalborg University</td>\n",
              "      <td>5</td>\n",
              "      <td>NaN</td>\n",
              "      <td>0.0</td>\n",
              "      <td>0.0</td>\n",
              "      <td>11.2</td>\n",
              "      <td>4.6</td>\n",
              "      <td>30.4</td>\n",
              "      <td>16.8</td>\n",
              "      <td>2015</td>\n",
              "    </tr>\n",
              "    <tr>\n",
              "      <th>4797</th>\n",
              "      <td>401-500</td>\n",
              "      <td>Aalto University</td>\n",
              "      <td>4-6</td>\n",
              "      <td>NaN</td>\n",
              "      <td>0.0</td>\n",
              "      <td>0.0</td>\n",
              "      <td>0.0</td>\n",
              "      <td>10.4</td>\n",
              "      <td>33.4</td>\n",
              "      <td>17.0</td>\n",
              "      <td>2015</td>\n",
              "    </tr>\n",
              "    <tr>\n",
              "      <th>4469</th>\n",
              "      <td>73</td>\n",
              "      <td>Aarhus University</td>\n",
              "      <td>2</td>\n",
              "      <td>27.3</td>\n",
              "      <td>11.5</td>\n",
              "      <td>22.1</td>\n",
              "      <td>12.3</td>\n",
              "      <td>25.8</td>\n",
              "      <td>51.8</td>\n",
              "      <td>31.0</td>\n",
              "      <td>2015</td>\n",
              "    </tr>\n",
              "    <tr>\n",
              "      <th>4497</th>\n",
              "      <td>101-150</td>\n",
              "      <td>Aix Marseille University</td>\n",
              "      <td>5-6</td>\n",
              "      <td>NaN</td>\n",
              "      <td>13.6</td>\n",
              "      <td>0.0</td>\n",
              "      <td>15.2</td>\n",
              "      <td>20.3</td>\n",
              "      <td>50.1</td>\n",
              "      <td>27.6</td>\n",
              "      <td>2015</td>\n",
              "    </tr>\n",
              "    <tr>\n",
              "      <th>3115</th>\n",
              "      <td>102-150</td>\n",
              "      <td>Aix-Marseille University</td>\n",
              "      <td>4-6</td>\n",
              "      <td>NaN</td>\n",
              "      <td>15.6</td>\n",
              "      <td>0.0</td>\n",
              "      <td>16.1</td>\n",
              "      <td>22.4</td>\n",
              "      <td>44.3</td>\n",
              "      <td>15.3</td>\n",
              "      <td>2011</td>\n",
              "    </tr>\n",
              "  </tbody>\n",
              "</table>\n",
              "</div>"
            ],
            "text/plain": [
              "     world_rank           university_name national_rank  ...   pub   pcp  year\n",
              "4697    301-400        Aalborg University             5  ...  30.4  16.8  2015\n",
              "4797    401-500          Aalto University           4-6  ...  33.4  17.0  2015\n",
              "4469         73         Aarhus University             2  ...  51.8  31.0  2015\n",
              "4497    101-150  Aix Marseille University           5-6  ...  50.1  27.6  2015\n",
              "3115    102-150  Aix-Marseille University           4-6  ...  44.3  15.3  2011\n",
              "\n",
              "[5 rows x 11 columns]"
            ]
          },
          "metadata": {
            "tags": []
          },
          "execution_count": 32
        }
      ]
    },
    {
      "cell_type": "markdown",
      "metadata": {
        "id": "lmiViQPWO9Vo"
      },
      "source": [
        "Ridenominazione della colonna \"institution\" del dataframe \"cwur\" in \"university_name\"."
      ]
    },
    {
      "cell_type": "code",
      "metadata": {
        "id": "U6amd4bNO7Vx"
      },
      "source": [
        "cwur.rename(columns = {'institution' : 'university_name'}, inplace = True)"
      ],
      "execution_count": 33,
      "outputs": []
    },
    {
      "cell_type": "markdown",
      "metadata": {
        "id": "JKqQgR3EOqaJ"
      },
      "source": [
        "Creazione del dataframe \"cwur_most_recent\", contenente i dati più recenti (ossia associati al massimo valore possibile nella colonna \"year\") relativi a ciascuna università presente nel dataframe \"cwur\"."
      ]
    },
    {
      "cell_type": "code",
      "metadata": {
        "colab": {
          "base_uri": "https://localhost:8080/",
          "height": 233
        },
        "id": "rRtI2-KOP7p0",
        "outputId": "e01f8e7a-f2e3-40a5-f41e-b61416404f04"
      },
      "source": [
        "cwur_most_recent = cwur.iloc[cwur.groupby('university_name').idxmax()['year']]\r\n",
        "cwur_most_recent.head()"
      ],
      "execution_count": 34,
      "outputs": [
        {
          "output_type": "execute_result",
          "data": {
            "text/html": [
              "<div>\n",
              "<style scoped>\n",
              "    .dataframe tbody tr th:only-of-type {\n",
              "        vertical-align: middle;\n",
              "    }\n",
              "\n",
              "    .dataframe tbody tr th {\n",
              "        vertical-align: top;\n",
              "    }\n",
              "\n",
              "    .dataframe thead th {\n",
              "        text-align: right;\n",
              "    }\n",
              "</style>\n",
              "<table border=\"1\" class=\"dataframe\">\n",
              "  <thead>\n",
              "    <tr style=\"text-align: right;\">\n",
              "      <th></th>\n",
              "      <th>world_rank</th>\n",
              "      <th>university_name</th>\n",
              "      <th>country</th>\n",
              "      <th>national_rank</th>\n",
              "      <th>quality_of_education</th>\n",
              "      <th>alumni_employment</th>\n",
              "      <th>quality_of_faculty</th>\n",
              "      <th>publications</th>\n",
              "      <th>influence</th>\n",
              "      <th>citations</th>\n",
              "      <th>broad_impact</th>\n",
              "      <th>patents</th>\n",
              "      <th>score</th>\n",
              "      <th>year</th>\n",
              "    </tr>\n",
              "  </thead>\n",
              "  <tbody>\n",
              "    <tr>\n",
              "      <th>1981</th>\n",
              "      <td>782</td>\n",
              "      <td>AGH University of Science and Technology</td>\n",
              "      <td>Poland</td>\n",
              "      <td>4</td>\n",
              "      <td>267</td>\n",
              "      <td>279</td>\n",
              "      <td>218</td>\n",
              "      <td>708</td>\n",
              "      <td>891</td>\n",
              "      <td>511</td>\n",
              "      <td>896.0</td>\n",
              "      <td>398</td>\n",
              "      <td>44.26</td>\n",
              "      <td>2015</td>\n",
              "    </tr>\n",
              "    <tr>\n",
              "      <th>1764</th>\n",
              "      <td>565</td>\n",
              "      <td>Aalborg University</td>\n",
              "      <td>Denmark</td>\n",
              "      <td>5</td>\n",
              "      <td>367</td>\n",
              "      <td>439</td>\n",
              "      <td>218</td>\n",
              "      <td>596</td>\n",
              "      <td>660</td>\n",
              "      <td>287</td>\n",
              "      <td>520.0</td>\n",
              "      <td>401</td>\n",
              "      <td>44.59</td>\n",
              "      <td>2015</td>\n",
              "    </tr>\n",
              "    <tr>\n",
              "      <th>1620</th>\n",
              "      <td>421</td>\n",
              "      <td>Aalto University</td>\n",
              "      <td>Finland</td>\n",
              "      <td>4</td>\n",
              "      <td>367</td>\n",
              "      <td>224</td>\n",
              "      <td>218</td>\n",
              "      <td>336</td>\n",
              "      <td>403</td>\n",
              "      <td>645</td>\n",
              "      <td>424.0</td>\n",
              "      <td>246</td>\n",
              "      <td>45.10</td>\n",
              "      <td>2015</td>\n",
              "    </tr>\n",
              "    <tr>\n",
              "      <th>1321</th>\n",
              "      <td>122</td>\n",
              "      <td>Aarhus University</td>\n",
              "      <td>Denmark</td>\n",
              "      <td>2</td>\n",
              "      <td>310</td>\n",
              "      <td>165</td>\n",
              "      <td>106</td>\n",
              "      <td>91</td>\n",
              "      <td>81</td>\n",
              "      <td>101</td>\n",
              "      <td>95.0</td>\n",
              "      <td>154</td>\n",
              "      <td>49.65</td>\n",
              "      <td>2015</td>\n",
              "    </tr>\n",
              "    <tr>\n",
              "      <th>2013</th>\n",
              "      <td>814</td>\n",
              "      <td>Aberystwyth University</td>\n",
              "      <td>United Kingdom</td>\n",
              "      <td>59</td>\n",
              "      <td>367</td>\n",
              "      <td>567</td>\n",
              "      <td>218</td>\n",
              "      <td>842</td>\n",
              "      <td>552</td>\n",
              "      <td>511</td>\n",
              "      <td>754.0</td>\n",
              "      <td>607</td>\n",
              "      <td>44.22</td>\n",
              "      <td>2015</td>\n",
              "    </tr>\n",
              "  </tbody>\n",
              "</table>\n",
              "</div>"
            ],
            "text/plain": [
              "      world_rank                           university_name  ...  score  year\n",
              "1981         782  AGH University of Science and Technology  ...  44.26  2015\n",
              "1764         565                        Aalborg University  ...  44.59  2015\n",
              "1620         421                          Aalto University  ...  45.10  2015\n",
              "1321         122                         Aarhus University  ...  49.65  2015\n",
              "2013         814                    Aberystwyth University  ...  44.22  2015\n",
              "\n",
              "[5 rows x 14 columns]"
            ]
          },
          "metadata": {
            "tags": []
          },
          "execution_count": 34
        }
      ]
    },
    {
      "cell_type": "markdown",
      "metadata": {
        "id": "BAM-FnxKRnNH"
      },
      "source": [
        "Creazione del dataframe \"most_recent_ranking\", costruito effettuando il join dei dataframe \"times_most_recent\", \"shanghai_most_recent\" e \"cwur_most_recent\"."
      ]
    },
    {
      "cell_type": "code",
      "metadata": {
        "colab": {
          "base_uri": "https://localhost:8080/",
          "height": 198
        },
        "id": "InLZPr-TQSkR",
        "outputId": "4b01a94a-2805-434f-c80c-6911b2965f3e"
      },
      "source": [
        "most_recent_ranking = pd.merge(times_most_recent[['university_name', 'world_rank']], shanghai_most_recent[['university_name', 'world_rank']], on = ['university_name'], suffixes = ('_times', '_shanghai'))\r\n",
        "most_recent_ranking = pd.merge(most_recent_ranking, cwur_most_recent[['university_name', 'world_rank']], on = ['university_name'])\r\n",
        "most_recent_ranking.rename(columns = {'world_rank' : 'world_rank_cwur'}, inplace = True)\r\n",
        "most_recent_ranking.head()"
      ],
      "execution_count": 35,
      "outputs": [
        {
          "output_type": "execute_result",
          "data": {
            "text/html": [
              "<div>\n",
              "<style scoped>\n",
              "    .dataframe tbody tr th:only-of-type {\n",
              "        vertical-align: middle;\n",
              "    }\n",
              "\n",
              "    .dataframe tbody tr th {\n",
              "        vertical-align: top;\n",
              "    }\n",
              "\n",
              "    .dataframe thead th {\n",
              "        text-align: right;\n",
              "    }\n",
              "</style>\n",
              "<table border=\"1\" class=\"dataframe\">\n",
              "  <thead>\n",
              "    <tr style=\"text-align: right;\">\n",
              "      <th></th>\n",
              "      <th>university_name</th>\n",
              "      <th>world_rank_times</th>\n",
              "      <th>world_rank_shanghai</th>\n",
              "      <th>world_rank_cwur</th>\n",
              "    </tr>\n",
              "  </thead>\n",
              "  <tbody>\n",
              "    <tr>\n",
              "      <th>0</th>\n",
              "      <td>Aalborg University</td>\n",
              "      <td>201-250</td>\n",
              "      <td>301-400</td>\n",
              "      <td>565</td>\n",
              "    </tr>\n",
              "    <tr>\n",
              "      <th>1</th>\n",
              "      <td>Aalto University</td>\n",
              "      <td>251-300</td>\n",
              "      <td>401-500</td>\n",
              "      <td>421</td>\n",
              "    </tr>\n",
              "    <tr>\n",
              "      <th>2</th>\n",
              "      <td>Aarhus University</td>\n",
              "      <td>=106</td>\n",
              "      <td>73</td>\n",
              "      <td>122</td>\n",
              "    </tr>\n",
              "    <tr>\n",
              "      <th>3</th>\n",
              "      <td>Aix-Marseille University</td>\n",
              "      <td>251-300</td>\n",
              "      <td>102-150</td>\n",
              "      <td>206</td>\n",
              "    </tr>\n",
              "    <tr>\n",
              "      <th>4</th>\n",
              "      <td>Aristotle University of Thessaloniki</td>\n",
              "      <td>601-800</td>\n",
              "      <td>401-500</td>\n",
              "      <td>459</td>\n",
              "    </tr>\n",
              "  </tbody>\n",
              "</table>\n",
              "</div>"
            ],
            "text/plain": [
              "                        university_name  ... world_rank_cwur\n",
              "0                    Aalborg University  ...             565\n",
              "1                      Aalto University  ...             421\n",
              "2                     Aarhus University  ...             122\n",
              "3              Aix-Marseille University  ...             206\n",
              "4  Aristotle University of Thessaloniki  ...             459\n",
              "\n",
              "[5 rows x 4 columns]"
            ]
          },
          "metadata": {
            "tags": []
          },
          "execution_count": 35
        }
      ]
    },
    {
      "cell_type": "code",
      "metadata": {
        "id": "1oZ0u9IjUwg6",
        "colab": {
          "base_uri": "https://localhost:8080/",
          "height": 407
        },
        "outputId": "cc2ed117-72bd-4e4d-849f-1c77e53b8471"
      },
      "source": [
        "interval = times_most_recent['world_rank'].str.extract('(\\d+)\\-?(\\d*)')\r\n",
        "interval[0] = pd.to_numeric(interval[0])\r\n",
        "interval[1] = pd.to_numeric(interval[1])\r\n",
        "interval['rank'] = np.nanmean(interval, axis = 1).round()\r\n",
        "interval"
      ],
      "execution_count": 89,
      "outputs": [
        {
          "output_type": "execute_result",
          "data": {
            "text/html": [
              "<div>\n",
              "<style scoped>\n",
              "    .dataframe tbody tr th:only-of-type {\n",
              "        vertical-align: middle;\n",
              "    }\n",
              "\n",
              "    .dataframe tbody tr th {\n",
              "        vertical-align: top;\n",
              "    }\n",
              "\n",
              "    .dataframe thead th {\n",
              "        text-align: right;\n",
              "    }\n",
              "</style>\n",
              "<table border=\"1\" class=\"dataframe\">\n",
              "  <thead>\n",
              "    <tr style=\"text-align: right;\">\n",
              "      <th></th>\n",
              "      <th>0</th>\n",
              "      <th>1</th>\n",
              "      <th>rank</th>\n",
              "    </tr>\n",
              "  </thead>\n",
              "  <tbody>\n",
              "    <tr>\n",
              "      <th>2405</th>\n",
              "      <td>601</td>\n",
              "      <td>800.0</td>\n",
              "      <td>700.0</td>\n",
              "    </tr>\n",
              "    <tr>\n",
              "      <th>2003</th>\n",
              "      <td>201</td>\n",
              "      <td>250.0</td>\n",
              "      <td>226.0</td>\n",
              "    </tr>\n",
              "    <tr>\n",
              "      <th>2056</th>\n",
              "      <td>251</td>\n",
              "      <td>300.0</td>\n",
              "      <td>276.0</td>\n",
              "    </tr>\n",
              "    <tr>\n",
              "      <th>1908</th>\n",
              "      <td>106</td>\n",
              "      <td>NaN</td>\n",
              "      <td>106.0</td>\n",
              "    </tr>\n",
              "    <tr>\n",
              "      <th>2105</th>\n",
              "      <td>301</td>\n",
              "      <td>350.0</td>\n",
              "      <td>326.0</td>\n",
              "    </tr>\n",
              "    <tr>\n",
              "      <th>...</th>\n",
              "      <td>...</td>\n",
              "      <td>...</td>\n",
              "      <td>...</td>\n",
              "    </tr>\n",
              "    <tr>\n",
              "      <th>1856</th>\n",
              "      <td>54</td>\n",
              "      <td>NaN</td>\n",
              "      <td>54.0</td>\n",
              "    </tr>\n",
              "    <tr>\n",
              "      <th>2013</th>\n",
              "      <td>201</td>\n",
              "      <td>250.0</td>\n",
              "      <td>226.0</td>\n",
              "    </tr>\n",
              "    <tr>\n",
              "      <th>1904</th>\n",
              "      <td>101</td>\n",
              "      <td>NaN</td>\n",
              "      <td>101.0</td>\n",
              "    </tr>\n",
              "    <tr>\n",
              "      <th>1833</th>\n",
              "      <td>31</td>\n",
              "      <td>NaN</td>\n",
              "      <td>31.0</td>\n",
              "    </tr>\n",
              "    <tr>\n",
              "      <th>2134</th>\n",
              "      <td>301</td>\n",
              "      <td>350.0</td>\n",
              "      <td>326.0</td>\n",
              "    </tr>\n",
              "  </tbody>\n",
              "</table>\n",
              "<p>818 rows × 3 columns</p>\n",
              "</div>"
            ],
            "text/plain": [
              "        0      1   rank\n",
              "2405  601  800.0  700.0\n",
              "2003  201  250.0  226.0\n",
              "2056  251  300.0  276.0\n",
              "1908  106    NaN  106.0\n",
              "2105  301  350.0  326.0\n",
              "...   ...    ...    ...\n",
              "1856   54    NaN   54.0\n",
              "2013  201  250.0  226.0\n",
              "1904  101    NaN  101.0\n",
              "1833   31    NaN   31.0\n",
              "2134  301  350.0  326.0\n",
              "\n",
              "[818 rows x 3 columns]"
            ]
          },
          "metadata": {
            "tags": []
          },
          "execution_count": 89
        }
      ]
    },
    {
      "cell_type": "code",
      "metadata": {
        "id": "EZcOatWW-xDG"
      },
      "source": [
        ""
      ],
      "execution_count": null,
      "outputs": []
    },
    {
      "cell_type": "code",
      "metadata": {
        "colab": {
          "base_uri": "https://localhost:8080/",
          "height": 270
        },
        "id": "_uOb6PMfEMrW",
        "outputId": "8b6de1cb-a6af-416c-8971-3ec46581a221"
      },
      "source": [
        "times_most_recent['avg_rank'] = round((pd.to_numeric(times_most_recent['world_rank'].str.extract('^(\\d+)\\-(\\d+)')[0]) + pd.to_numeric(times_most_recent['world_rank'].str.extract('^(\\d+)\\-(\\d+)')[1])) / 2)\r\n",
        "times_most_recent.head()"
      ],
      "execution_count": 37,
      "outputs": [
        {
          "output_type": "execute_result",
          "data": {
            "text/html": [
              "<div>\n",
              "<style scoped>\n",
              "    .dataframe tbody tr th:only-of-type {\n",
              "        vertical-align: middle;\n",
              "    }\n",
              "\n",
              "    .dataframe tbody tr th {\n",
              "        vertical-align: top;\n",
              "    }\n",
              "\n",
              "    .dataframe thead th {\n",
              "        text-align: right;\n",
              "    }\n",
              "</style>\n",
              "<table border=\"1\" class=\"dataframe\">\n",
              "  <thead>\n",
              "    <tr style=\"text-align: right;\">\n",
              "      <th></th>\n",
              "      <th>world_rank</th>\n",
              "      <th>university_name</th>\n",
              "      <th>country</th>\n",
              "      <th>teaching</th>\n",
              "      <th>international</th>\n",
              "      <th>research</th>\n",
              "      <th>citations</th>\n",
              "      <th>income</th>\n",
              "      <th>total_score</th>\n",
              "      <th>num_students</th>\n",
              "      <th>student_staff_ratio</th>\n",
              "      <th>international_students</th>\n",
              "      <th>female_male_ratio</th>\n",
              "      <th>year</th>\n",
              "      <th>avg_rank</th>\n",
              "    </tr>\n",
              "  </thead>\n",
              "  <tbody>\n",
              "    <tr>\n",
              "      <th>2405</th>\n",
              "      <td>601-800</td>\n",
              "      <td>AGH University of Science and Technology</td>\n",
              "      <td>Poland</td>\n",
              "      <td>14.2</td>\n",
              "      <td>17.9</td>\n",
              "      <td>3.7</td>\n",
              "      <td>35.7</td>\n",
              "      <td>NaN</td>\n",
              "      <td>NaN</td>\n",
              "      <td>35569.0</td>\n",
              "      <td>17.0</td>\n",
              "      <td>1%</td>\n",
              "      <td>NaN</td>\n",
              "      <td>2016</td>\n",
              "      <td>700.0</td>\n",
              "    </tr>\n",
              "    <tr>\n",
              "      <th>2003</th>\n",
              "      <td>201-250</td>\n",
              "      <td>Aalborg University</td>\n",
              "      <td>Denmark</td>\n",
              "      <td>25.1</td>\n",
              "      <td>71.0</td>\n",
              "      <td>28.4</td>\n",
              "      <td>73.8</td>\n",
              "      <td>43.7</td>\n",
              "      <td>NaN</td>\n",
              "      <td>17422.0</td>\n",
              "      <td>15.9</td>\n",
              "      <td>15%</td>\n",
              "      <td>48 : 52</td>\n",
              "      <td>2016</td>\n",
              "      <td>226.0</td>\n",
              "    </tr>\n",
              "    <tr>\n",
              "      <th>2056</th>\n",
              "      <td>251-300</td>\n",
              "      <td>Aalto University</td>\n",
              "      <td>Finland</td>\n",
              "      <td>31.1</td>\n",
              "      <td>65.4</td>\n",
              "      <td>32.8</td>\n",
              "      <td>62.1</td>\n",
              "      <td>61.6</td>\n",
              "      <td>NaN</td>\n",
              "      <td>16099.0</td>\n",
              "      <td>24.2</td>\n",
              "      <td>17%</td>\n",
              "      <td>32 : 68</td>\n",
              "      <td>2016</td>\n",
              "      <td>276.0</td>\n",
              "    </tr>\n",
              "    <tr>\n",
              "      <th>1908</th>\n",
              "      <td>=106</td>\n",
              "      <td>Aarhus University</td>\n",
              "      <td>Denmark</td>\n",
              "      <td>36.9</td>\n",
              "      <td>76.8</td>\n",
              "      <td>50.7</td>\n",
              "      <td>79.8</td>\n",
              "      <td>68.3</td>\n",
              "      <td>57.7</td>\n",
              "      <td>23895.0</td>\n",
              "      <td>13.6</td>\n",
              "      <td>14%</td>\n",
              "      <td>54 : 46</td>\n",
              "      <td>2016</td>\n",
              "      <td>NaN</td>\n",
              "    </tr>\n",
              "    <tr>\n",
              "      <th>2105</th>\n",
              "      <td>301-350</td>\n",
              "      <td>Aberystwyth University</td>\n",
              "      <td>United Kingdom</td>\n",
              "      <td>21.6</td>\n",
              "      <td>72.2</td>\n",
              "      <td>18.9</td>\n",
              "      <td>67.2</td>\n",
              "      <td>31.3</td>\n",
              "      <td>NaN</td>\n",
              "      <td>9252.0</td>\n",
              "      <td>19.2</td>\n",
              "      <td>18%</td>\n",
              "      <td>48 : 52</td>\n",
              "      <td>2016</td>\n",
              "      <td>326.0</td>\n",
              "    </tr>\n",
              "  </tbody>\n",
              "</table>\n",
              "</div>"
            ],
            "text/plain": [
              "     world_rank                           university_name  ...  year  avg_rank\n",
              "2405    601-800  AGH University of Science and Technology  ...  2016     700.0\n",
              "2003    201-250                        Aalborg University  ...  2016     226.0\n",
              "2056    251-300                          Aalto University  ...  2016     276.0\n",
              "1908       =106                         Aarhus University  ...  2016       NaN\n",
              "2105    301-350                    Aberystwyth University  ...  2016     326.0\n",
              "\n",
              "[5 rows x 15 columns]"
            ]
          },
          "metadata": {
            "tags": []
          },
          "execution_count": 37
        }
      ]
    },
    {
      "cell_type": "markdown",
      "metadata": {
        "id": "E7sCS94SR6GH"
      },
      "source": [
        "__DA FINIRE__"
      ]
    },
    {
      "cell_type": "markdown",
      "metadata": {
        "id": "vo_mWohhTpRx"
      },
      "source": [
        "### 5. Consider only the most recent data point of the times dataset. Compute the number of male and female students for each country"
      ]
    },
    {
      "cell_type": "markdown",
      "metadata": {
        "id": "KjL05u5tSs8i"
      },
      "source": [
        "Creazione del dataframe \"times_most_recent_f_m\" a partire dalle colonne \"university_name\", \"country\", \"num_students\" e \"female_male_ratio\" del dataframe \"times_most_recent\".\r\n"
      ]
    },
    {
      "cell_type": "code",
      "metadata": {
        "id": "_qAtzkY_76C9"
      },
      "source": [
        "times_most_recent_f_m = times_most_recent[['university_name', 'country', 'num_students', 'female_male_ratio']].copy()\r\n",
        "times_most_recent_f_m.head()"
      ],
      "execution_count": null,
      "outputs": []
    },
    {
      "cell_type": "markdown",
      "metadata": {
        "id": "xjxOKDfpTkkm"
      },
      "source": [
        "Creazione della colonna \"females_percentage\", contenente la percentuale di femmine per ciascuna università."
      ]
    },
    {
      "cell_type": "code",
      "metadata": {
        "id": "UfecoWf58oqX"
      },
      "source": [
        "times_most_recent_f_m['females_percentage'] = times_most_recent_f_m['female_male_ratio'].str.extract('^(\\d+)')\r\n",
        "times_most_recent_f_m['females_percentage'] = pd.to_numeric(times_most_recent_f_m['females_percentage']) / 100\r\n",
        "times_most_recent_f_m.head()"
      ],
      "execution_count": null,
      "outputs": []
    },
    {
      "cell_type": "markdown",
      "metadata": {
        "id": "zAtbWr91TwD4"
      },
      "source": [
        "Creazione della colonna \"males_percentage\", contenente la percentuale di maschi per ciascuna università."
      ]
    },
    {
      "cell_type": "code",
      "metadata": {
        "id": "iE448K8CTVZs"
      },
      "source": [
        "times_most_recent_f_m['males_percentage'] = times_most_recent_f_m['female_male_ratio'].str.extract('(\\d+)$')\r\n",
        "times_most_recent_f_m['males_percentage'] = pd.to_numeric(times_most_recent_f_m['males_percentage']) / 100\r\n",
        "times_most_recent_f_m.head()"
      ],
      "execution_count": null,
      "outputs": []
    },
    {
      "cell_type": "markdown",
      "metadata": {
        "id": "meXAJIHST3mZ"
      },
      "source": [
        "Eliminazione delle righe che contengono valori nulli in corrispondenza delle colonne \"females_percentage\" e \"males_percentage\"."
      ]
    },
    {
      "cell_type": "code",
      "metadata": {
        "id": "U8TJTxhKT9X-"
      },
      "source": [
        "times_most_recent_f_m.dropna(subset = ['females_percentage', 'males_percentage'], inplace = True)\r\n",
        "times_most_recent_f_m.head()"
      ],
      "execution_count": null,
      "outputs": []
    },
    {
      "cell_type": "markdown",
      "metadata": {
        "id": "Lzqp9Ut1VG7f"
      },
      "source": [
        "Creazione delle colonne \"females\" e \"males\", contenenti, rispettivamente, il numero di studentesse e quello di studenti."
      ]
    },
    {
      "cell_type": "code",
      "metadata": {
        "id": "FG_-3-O798I_"
      },
      "source": [
        "times_most_recent_f_m['females'] = times_most_recent_f_m['num_students'] * times_most_recent_f_m['females_percentage']\r\n",
        "times_most_recent_f_m['males'] = times_most_recent_f_m['num_students'] * times_most_recent_f_m['males_percentage']\r\n",
        "times_most_recent_f_m.head()"
      ],
      "execution_count": null,
      "outputs": []
    },
    {
      "cell_type": "markdown",
      "metadata": {
        "id": "237ezpCgVV7B"
      },
      "source": [
        "Calcolo del numero totale di studentesse e di quello di studenti per ciascun paese."
      ]
    },
    {
      "cell_type": "code",
      "metadata": {
        "id": "3Jem4KFDVWQY"
      },
      "source": [
        "times_most_recent_f_m.groupby('country', as_index = False).sum().round()[['country', 'females', 'males']]"
      ],
      "execution_count": null,
      "outputs": []
    },
    {
      "cell_type": "markdown",
      "metadata": {
        "id": "O7Q8cgtYBxCg"
      },
      "source": [
        "## 6. Find the universities where the ratio between female and male is below the average ratio (computed over all universities)"
      ]
    },
    {
      "cell_type": "markdown",
      "metadata": {
        "id": "J8JuA49Ibmj7"
      },
      "source": [
        "Creazione della colonna \"ratio\", contenente il rapporto tra femmine e maschi per ciascuna università."
      ]
    },
    {
      "cell_type": "code",
      "metadata": {
        "id": "Ki4B144nB079"
      },
      "source": [
        "times_most_recent_f_m['ratio'] = times_most_recent_f_m['females_percentage'] / times_most_recent_f_m['males_percentage']\r\n",
        "times_most_recent_f_m.head()"
      ],
      "execution_count": null,
      "outputs": []
    },
    {
      "cell_type": "markdown",
      "metadata": {
        "id": "FZTa0K5Gb1CB"
      },
      "source": [
        "Calcolo del rapporto medio tra femmine e maschi su tutte le università.\r\n"
      ]
    },
    {
      "cell_type": "code",
      "metadata": {
        "id": "U5yGgyMzJgqI"
      },
      "source": [
        "avg_ratio = times_most_recent_f_m[times_most_recent_f_m['males_percentage'] != 0].mean()['ratio']\r\n",
        "avg_ratio"
      ],
      "execution_count": null,
      "outputs": []
    },
    {
      "cell_type": "markdown",
      "metadata": {
        "id": "JfkE7zmlcMlr"
      },
      "source": [
        "Estrazione delle università caratterizzate da un rapporto tra femmine e maschi minore di quello medio."
      ]
    },
    {
      "cell_type": "code",
      "metadata": {
        "id": "awbqjT_0K7H5"
      },
      "source": [
        "below_avg_f_m_ratio = times_most_recent_f_m[times_most_recent_f_m['ratio'] < avg_ratio]\r\n",
        "below_avg_f_m_ratio.head()"
      ],
      "execution_count": null,
      "outputs": []
    },
    {
      "cell_type": "markdown",
      "metadata": {
        "id": "nZ_3T7WVL2pX"
      },
      "source": [
        "### 7. For each country, compute the fraction of the students in the country that are in one of the universities computed in the previous point (that is, the denominator of the ratio is the total number of students over all universities in the country)"
      ]
    },
    {
      "cell_type": "markdown",
      "metadata": {
        "id": "_wMoP6r8PtUr"
      },
      "source": [
        "Creazione del dataframe \"total_students_in_country\", contenente il numero totale di studenti per ogni paese."
      ]
    },
    {
      "cell_type": "code",
      "metadata": {
        "id": "cjSkr9dCV_KH"
      },
      "source": [
        "total_students_in_country = times_most_recent.groupby('country', as_index = False).sum()[['country', 'num_students']]\r\n",
        "total_students_in_country.rename(columns = {'num_students' : 'total_students'}, inplace = True)\r\n",
        "total_students_in_country.head()"
      ],
      "execution_count": null,
      "outputs": []
    },
    {
      "cell_type": "markdown",
      "metadata": {
        "id": "Iqpr8vEOP0eF"
      },
      "source": [
        "Creazione del dataframe \"students_in_country_below_avg\" che, per ciascun paese, indica il numero di studenti che frequentano un'università caratterizzata da un rapporto tra femmine e maschi minore di quello medio."
      ]
    },
    {
      "cell_type": "code",
      "metadata": {
        "id": "n3DUMim9M2ft"
      },
      "source": [
        "students_in_country_below_avg = below_avg_f_m_ratio.groupby('country', as_index = False).sum()[['country', 'num_students']]\r\n",
        "students_in_country_below_avg.head()"
      ],
      "execution_count": null,
      "outputs": []
    },
    {
      "cell_type": "markdown",
      "metadata": {
        "id": "9Hhrw9UIQN3W"
      },
      "source": [
        "Creazione del dataframe \"students_in_country\", che costituisce il join dei dataframe \"students_in_country_below_avg\" e \"total_students_in_country\"."
      ]
    },
    {
      "cell_type": "code",
      "metadata": {
        "id": "zy7XwNcLOnKU"
      },
      "source": [
        "students_in_country = pd.merge(students_in_country_below_avg, total_students_in_country, on = ['country'])\r\n",
        "students_in_country.head()"
      ],
      "execution_count": null,
      "outputs": []
    },
    {
      "cell_type": "markdown",
      "metadata": {
        "id": "aCPTCwHQQbFd"
      },
      "source": [
        "Calcolo del rapporto tra il numero di studenti che frequentano un'università caratterizzata da un rapporto tra femmine e maschi minore di quello medio e il numero di studenti totali per ciascun paese."
      ]
    },
    {
      "cell_type": "code",
      "metadata": {
        "id": "Vy-tgmz1O_rY"
      },
      "source": [
        "students_in_country['ratio'] = students_in_country['num_students'] / students_in_country['total_students']\r\n",
        "students_in_country.head()"
      ],
      "execution_count": null,
      "outputs": []
    },
    {
      "cell_type": "markdown",
      "metadata": {
        "id": "GiM_J29tV_2v"
      },
      "source": [
        "### 8. Read the file educational_attainment_supplementary_data.csv, discarding any row with missing country_name or series_name"
      ]
    },
    {
      "cell_type": "code",
      "metadata": {
        "id": "A1KalUfIWDK4"
      },
      "source": [
        "attainment = pd.read_csv('/content/drive/MyDrive/Colab Notebooks/educational_attainment_supplementary_data.csv')\r\n",
        "attainment.dropna(subset = ['country_name', 'series_name'], inplace = True)\r\n",
        "attainment.head()"
      ],
      "execution_count": null,
      "outputs": []
    },
    {
      "cell_type": "code",
      "metadata": {
        "id": "znDcutwgSgzf"
      },
      "source": [
        "attainment[attainment['country_name'].isnull()]"
      ],
      "execution_count": null,
      "outputs": []
    },
    {
      "cell_type": "code",
      "metadata": {
        "id": "Y8JUNAvxSp8y"
      },
      "source": [
        "attainment[attainment['series_name'].isnull()]"
      ],
      "execution_count": null,
      "outputs": []
    },
    {
      "cell_type": "markdown",
      "metadata": {
        "id": "63vTA9SzXnXn"
      },
      "source": [
        "### 9. From attainment build a dataframe with the same data, but with 4 columns: country_name, series_name, year, value"
      ]
    },
    {
      "cell_type": "code",
      "metadata": {
        "id": "7x0zzSpWXpfI"
      },
      "source": [
        "unpivoted_attainment = pd.melt(attainment, id_vars=['country_name', 'series_name'], var_name = 'year')\r\n",
        "unpivoted_attainment"
      ],
      "execution_count": null,
      "outputs": []
    },
    {
      "cell_type": "markdown",
      "metadata": {
        "id": "MBYdBZKGYCJI"
      },
      "source": [
        "### 10. For each university, find the number of rankings in which they appear (it suffices to appear in one year for each ranking)"
      ]
    },
    {
      "cell_type": "markdown",
      "metadata": {
        "id": "qO_PupqiAj7z"
      },
      "source": [
        "Creazione della lista \"rankings\", contenente tutti i dataframe associati alle diverse tipologie di ranking; ciascuna università compare al più una volta in ciascun ranking."
      ]
    },
    {
      "cell_type": "code",
      "metadata": {
        "id": "PI7QivBdYDaS"
      },
      "source": [
        "rankings = [times['university_name'].unique(), shanghai['university_name'].unique(), cwur['university_name'].unique()]"
      ],
      "execution_count": null,
      "outputs": []
    },
    {
      "cell_type": "markdown",
      "metadata": {
        "id": "1CiDRcmHBOjl"
      },
      "source": [
        "Costruzione del dizionario \"number_of_rankings\" che associa a ciascuna università il numero di ranking in cui compare."
      ]
    },
    {
      "cell_type": "code",
      "metadata": {
        "id": "rG4EiZfuBOwl"
      },
      "source": [
        "number_of_rankings = {}\r\n",
        "for ranking in rankings:\r\n",
        "  for university in ranking:\r\n",
        "    if university in number_of_rankings:\r\n",
        "      number_of_rankings[university] +=1\r\n",
        "    else:\r\n",
        "      number_of_rankings[university] = 1\r\n",
        "number_of_rankings"
      ],
      "execution_count": null,
      "outputs": []
    },
    {
      "cell_type": "markdown",
      "metadata": {
        "id": "hCUp5UKuwSA3"
      },
      "source": [
        "### 11. In the times ranking, compute the number of times each university appears"
      ]
    },
    {
      "cell_type": "code",
      "metadata": {
        "id": "2ojVAC-_wUFI"
      },
      "source": [
        "number_times = times.groupby('university_name').size()\r\n",
        "number_times.head()"
      ],
      "execution_count": null,
      "outputs": []
    },
    {
      "cell_type": "markdown",
      "metadata": {
        "id": "t8S6JgLLwyfq"
      },
      "source": [
        "### 12. Find the universities that appear at most twice in the times ranking¶"
      ]
    },
    {
      "cell_type": "code",
      "metadata": {
        "id": "jpoLjrw-w0Uc"
      },
      "source": [
        "number_times[number_times <= 2]"
      ],
      "execution_count": null,
      "outputs": []
    },
    {
      "cell_type": "markdown",
      "metadata": {
        "id": "z5b7Fnl3z0yK"
      },
      "source": [
        "### 13. The universities that, in any year, have the same position in all three rankings (they must have the same position in a year)"
      ]
    },
    {
      "cell_type": "markdown",
      "metadata": {
        "id": "W-VlxxQlVNCm"
      },
      "source": [
        "Selezione dei dati contenuti nei dataframe \"times\" e \"shanghai\" in cui l'espressione della posizione nel ranking non è espressa mediante un intervallo."
      ]
    },
    {
      "cell_type": "code",
      "metadata": {
        "id": "STNbBfGoz2Ov"
      },
      "source": [
        "times_no_intervals = times[~ times['world_rank'].str.contains('-')].copy()\r\n",
        "times_no_intervals.tail()"
      ],
      "execution_count": null,
      "outputs": []
    },
    {
      "cell_type": "code",
      "metadata": {
        "id": "bWfKUWkE2zjb"
      },
      "source": [
        "shanghai_no_intervals = shanghai[~ shanghai['world_rank'].str.contains('-')].copy()\r\n",
        "shanghai_no_intervals.head()"
      ],
      "execution_count": null,
      "outputs": []
    },
    {
      "cell_type": "markdown",
      "metadata": {
        "id": "x8yVBEBQVo3y"
      },
      "source": [
        "Correzione dei valori di posizione nel ranking preceduti dal simbolo \"=\" contenuti nel dataframe \"times_no_intervals\"."
      ]
    },
    {
      "cell_type": "code",
      "metadata": {
        "id": "PFwoZuHQV1YV"
      },
      "source": [
        "times_no_intervals['world_rank'] = times_no_intervals['world_rank'].str.extract('(\\d+)$')\r\n",
        "times_no_intervals.tail()"
      ],
      "execution_count": null,
      "outputs": []
    },
    {
      "cell_type": "markdown",
      "metadata": {
        "id": "HAWZHUH9WpXO"
      },
      "source": [
        "Join dei dataframe \"times_no_intervals\",  \"shanghai_no_intervals\" e \"cwur\"."
      ]
    },
    {
      "cell_type": "code",
      "metadata": {
        "id": "HfOJSFh53BQ8"
      },
      "source": [
        "same_year_same_rank = pd.merge(times_no_intervals[['university_name', 'year', 'world_rank']], shanghai_no_intervals[['university_name', 'year', 'world_rank']], on = ['university_name', 'year'], suffixes = ('_times', '_shanghai'))\r\n",
        "same_year_same_rank = pd.merge(same_year_same_rank, cwur[['university_name', 'year', 'world_rank']], on = ['university_name', 'year'])\r\n",
        "same_year_same_rank.rename(columns = {'world_rank' : 'world_rank_cwur'}, inplace = True)\r\n",
        "same_year_same_rank.head()"
      ],
      "execution_count": null,
      "outputs": []
    },
    {
      "cell_type": "code",
      "metadata": {
        "id": "TCZN6QVjXVdX"
      },
      "source": [
        "same_year_same_rank[(pd.to_numeric(same_year_same_rank['world_rank_times']) == same_year_same_rank['world_rank_cwur'])\r\n",
        "& (pd.to_numeric(same_year_same_rank['world_rank_shanghai']) == same_year_same_rank['world_rank_cwur'])]"
      ],
      "execution_count": null,
      "outputs": []
    }
  ]
}